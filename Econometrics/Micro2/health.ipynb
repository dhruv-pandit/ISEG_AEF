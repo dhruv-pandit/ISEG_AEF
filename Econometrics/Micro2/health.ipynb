{
 "cells": [
  {
   "cell_type": "code",
   "execution_count": 1,
   "metadata": {},
   "outputs": [
    {
     "name": "stdout",
     "output_type": "stream",
     "text": [
      "[0.072s][warning][os,thread] Attempt to protect stack guard pages failed (0x000000016bda0000-0x000000016bdac000).\n",
      "[0.072s][warning][os,thread] Attempt to deallocate stack guard pages failed.\n",
      "\n",
      "  ___  ____  ____  ____  ____ ©\n",
      " /__    /   ____/   /   ____/      17.0\n",
      "___/   /   /___/   /   /___/       SE—Standard Edition\n",
      "\n",
      " Statistics and Data Science       Copyright 1985-2021 StataCorp LLC\n",
      "                                   StataCorp\n",
      "                                   4905 Lakeway Drive\n",
      "                                   College Station, Texas 77845 USA\n",
      "                                   800-STATA-PC        https://www.stata.com\n",
      "                                   979-696-4600        stata@stata.com\n",
      "\n",
      "Stata license: Unlimited-user network, expiring 21 Sep 2023\n",
      "Serial number: 401709301720\n",
      "  Licensed to: Dhruv Akshay Pandit\n",
      "               ISEG\n",
      "\n",
      "Notes:\n",
      "      1. Unicode is supported; see help unicode_advice.\n",
      "      2. Maximum number of variables is set to 5,000; see help set_maxvar.\n"
     ]
    }
   ],
   "source": [
    "import sys\n",
    "sys.path.append('/Applications/Stata/utilities')\n",
    "from pystata import config\n",
    "config.init('se')"
   ]
  },
  {
   "cell_type": "code",
   "execution_count": 7,
   "metadata": {},
   "outputs": [],
   "source": [
    "%%stata\n",
    "use /Users/dhruvpandit/Documents/GitHub/ISEG_AEF/Econometrics/Micro2/Data/health.dta"
   ]
  },
  {
   "cell_type": "code",
   "execution_count": 8,
   "metadata": {},
   "outputs": [
    {
     "name": "stdout",
     "output_type": "stream",
     "text": [
      "\n",
      "Contains data from /Users/dhruvpandit/Documents/GitHub/ISEG_AEF/Econometrics/Mi\n",
      "> cro2/Data/health.dta\n",
      " Observations:        20,186                  \n",
      "    Variables:            13                  23 Apr 2014 10:29\n",
      "-------------------------------------------------------------------------------\n",
      "Variable      Storage   Display    Value\n",
      "    name         type    format    label      Variable label\n",
      "-------------------------------------------------------------------------------\n",
      "coins           float   %9.0g                 coinsurance -- medical\n",
      "year            float   %9.0g                 study year\n",
      "id              float   %9.0g                 person id, leading digit is sit\n",
      "age             float   %9.0g                 age that year\n",
      "female          float   %9.0g                 =1 if female\n",
      "med             float   %9.0g                 medical expenditures (dollars)\n",
      "mdu             float   %9.0g                 number face-to-fact md visits\n",
      "num             float   %9.0g                 family size\n",
      "ndisease        float   %9.0g                 count of chronic diseases\n",
      "child           float   %9.0g                 =1 if child\n",
      "lfam            float   %9.0g                 log of family size\n",
      "lcoins          float   %9.0g                 log(coinsurance+1)\n",
      "dmdu            float   %9.0g                 = 1 if mdu > 0\n",
      "-------------------------------------------------------------------------------\n",
      "Sorted by: \n"
     ]
    }
   ],
   "source": [
    "%%stata\n",
    "describe"
   ]
  },
  {
   "cell_type": "code",
   "execution_count": 9,
   "metadata": {},
   "outputs": [
    {
     "name": "stdout",
     "output_type": "stream",
     "text": [
      "\n",
      "    Variable |        Obs        Mean    Std. dev.       Min        Max\n",
      "-------------+---------------------------------------------------------\n",
      "         med |     20,186    171.5892    698.2689          0   39182.02\n"
     ]
    }
   ],
   "source": [
    "%%stata\n",
    "summarize med"
   ]
  },
  {
   "cell_type": "code",
   "execution_count": 10,
   "metadata": {},
   "outputs": [
    {
     "name": "stdout",
     "output_type": "stream",
     "text": [
      "\n",
      "    Variable |        Obs        Mean    Std. dev.       Min        Max\n",
      "-------------+---------------------------------------------------------\n",
      "         med |     15,733    220.1551    784.1543   .4276146   39182.02\n"
     ]
    }
   ],
   "source": [
    "%%stata\n",
    "summarize med if med>0"
   ]
  },
  {
   "cell_type": "code",
   "execution_count": 11,
   "metadata": {},
   "outputs": [
    {
     "name": "stdout",
     "output_type": "stream",
     "text": [
      "(bin=43, start=0, width=911.20967)\n"
     ]
    },
    {
     "data": {
      "image/svg+xml": [
       "<svg xmlns=\"http://www.w3.org/2000/svg\" xmlns:xlink=\"http://www.w3.org/1999/xlink\" version=\"1.1\" width=\"528px\" height=\"384px\" viewBox=\"0 0 3960 2880\">\n",
       "\t<desc>Stata Graph - Graph</desc>\n",
       "\t<rect x=\"0\" y=\"0\" width=\"3960\" height=\"2880\" style=\"fill:#EAF2F3;stroke:none\"/>\n",
       "\t<rect x=\"0.00\" y=\"0.00\" width=\"3959.88\" height=\"2880.00\" style=\"fill:#EAF2F3\"/>\n",
       "\t<rect x=\"2.88\" y=\"2.88\" width=\"3954.12\" height=\"2874.24\" style=\"fill:none;stroke:#EAF2F3;stroke-width:5.76\"/>\n",
       "\t<rect x=\"390.80\" y=\"100.86\" width=\"3468.22\" height=\"2388.33\" style=\"fill:#FFFFFF\"/>\n",
       "\t<rect x=\"393.68\" y=\"103.74\" width=\"3462.46\" height=\"2382.57\" style=\"fill:none;stroke:#FFFFFF;stroke-width:5.76\"/>\n",
       "\t<line x1=\"390.80\" y1=\"2489.19\" x2=\"3859.02\" y2=\"2489.19\" style=\"stroke:#EAF2F3;stroke-width:8.64\"/>\n",
       "\t<line x1=\"390.80\" y1=\"2048.37\" x2=\"3859.02\" y2=\"2048.37\" style=\"stroke:#EAF2F3;stroke-width:8.64\"/>\n",
       "\t<line x1=\"390.80\" y1=\"1607.56\" x2=\"3859.02\" y2=\"1607.56\" style=\"stroke:#EAF2F3;stroke-width:8.64\"/>\n",
       "\t<line x1=\"390.80\" y1=\"1166.63\" x2=\"3859.02\" y2=\"1166.63\" style=\"stroke:#EAF2F3;stroke-width:8.64\"/>\n",
       "\t<line x1=\"390.80\" y1=\"725.82\" x2=\"3859.02\" y2=\"725.82\" style=\"stroke:#EAF2F3;stroke-width:8.64\"/>\n",
       "\t<line x1=\"390.80\" y1=\"285.01\" x2=\"3859.02\" y2=\"285.01\" style=\"stroke:#EAF2F3;stroke-width:8.64\"/>\n",
       "\t<rect x=\"491.78\" y=\"164.22\" width=\"75.24\" height=\"2324.96\" style=\"fill:#CAC27E\"/>\n",
       "\t<rect x=\"496.10\" y=\"168.54\" width=\"66.60\" height=\"2316.32\" style=\"fill:none;stroke:#D7D29E;stroke-width:8.64\"/>\n",
       "\t<rect x=\"567.02\" y=\"2428.30\" width=\"75.24\" height=\"60.89\" style=\"fill:#CAC27E\"/>\n",
       "\t<rect x=\"571.34\" y=\"2432.62\" width=\"66.60\" height=\"52.25\" style=\"fill:none;stroke:#D7D29E;stroke-width:8.64\"/>\n",
       "\t<rect x=\"642.26\" y=\"2473.34\" width=\"75.36\" height=\"15.84\" style=\"fill:#CAC27E\"/>\n",
       "\t<rect x=\"646.58\" y=\"2477.66\" width=\"66.72\" height=\"7.20\" style=\"fill:none;stroke:#D7D29E;stroke-width:8.64\"/>\n",
       "\t<rect x=\"717.63\" y=\"2483.74\" width=\"75.24\" height=\"5.45\" style=\"fill:#CAC27E\"/>\n",
       "\t<rect x=\"721.95\" y=\"2484.87\" width=\"66.60\" height=\"3.19\" style=\"fill:none;stroke:#D7D29E;stroke-width:8.64\"/>\n",
       "\t<rect x=\"792.87\" y=\"2485.72\" width=\"75.24\" height=\"3.47\" style=\"fill:#CAC27E\"/>\n",
       "\t<rect x=\"797.19\" y=\"2484.87\" width=\"66.60\" height=\"5.17\" style=\"fill:none;stroke:#D7D29E;stroke-width:8.64\"/>\n",
       "\t<rect x=\"868.11\" y=\"2487.33\" width=\"75.24\" height=\"1.86\" style=\"fill:#CAC27E\"/>\n",
       "\t<rect x=\"872.43\" y=\"2484.87\" width=\"66.60\" height=\"6.78\" style=\"fill:none;stroke:#D7D29E;stroke-width:8.64\"/>\n",
       "\t<rect x=\"943.35\" y=\"2488.20\" width=\"75.24\" height=\"0.99\" style=\"fill:#CAC27E\"/>\n",
       "\t<rect x=\"947.67\" y=\"2484.87\" width=\"66.60\" height=\"7.65\" style=\"fill:none;stroke:#D7D29E;stroke-width:8.64\"/>\n",
       "\t<rect x=\"1018.59\" y=\"2487.95\" width=\"75.36\" height=\"1.24\" style=\"fill:#CAC27E\"/>\n",
       "\t<rect x=\"1022.91\" y=\"2484.87\" width=\"66.72\" height=\"7.40\" style=\"fill:none;stroke:#D7D29E;stroke-width:8.64\"/>\n",
       "\t<rect x=\"1093.95\" y=\"2487.95\" width=\"75.24\" height=\"1.24\" style=\"fill:#CAC27E\"/>\n",
       "\t<rect x=\"1098.27\" y=\"2484.87\" width=\"66.60\" height=\"7.40\" style=\"fill:none;stroke:#D7D29E;stroke-width:8.64\"/>\n",
       "\t<rect x=\"1169.19\" y=\"2488.69\" width=\"75.24\" height=\"0.50\" style=\"fill:#CAC27E\"/>\n",
       "\t<rect x=\"1173.51\" y=\"2484.87\" width=\"66.60\" height=\"8.14\" style=\"fill:none;stroke:#D7D29E;stroke-width:8.64\"/>\n",
       "\t<rect x=\"1244.43\" y=\"2488.81\" width=\"75.24\" height=\"0.37\" style=\"fill:#CAC27E\"/>\n",
       "\t<rect x=\"1248.75\" y=\"2484.87\" width=\"66.60\" height=\"8.27\" style=\"fill:none;stroke:#D7D29E;stroke-width:8.64\"/>\n",
       "\t<rect x=\"1319.67\" y=\"2488.81\" width=\"75.24\" height=\"0.37\" style=\"fill:#CAC27E\"/>\n",
       "\t<rect x=\"1323.99\" y=\"2484.87\" width=\"66.60\" height=\"8.27\" style=\"fill:none;stroke:#D7D29E;stroke-width:8.64\"/>\n",
       "\t<rect x=\"1394.91\" y=\"2488.94\" width=\"75.36\" height=\"0.25\" style=\"fill:#CAC27E\"/>\n",
       "\t<rect x=\"1399.23\" y=\"2484.87\" width=\"66.72\" height=\"8.39\" style=\"fill:none;stroke:#D7D29E;stroke-width:8.64\"/>\n",
       "\t<rect x=\"1470.27\" y=\"2488.94\" width=\"75.24\" height=\"0.25\" style=\"fill:#CAC27E\"/>\n",
       "\t<rect x=\"1474.59\" y=\"2484.87\" width=\"66.60\" height=\"8.39\" style=\"fill:none;stroke:#D7D29E;stroke-width:8.64\"/>\n",
       "\t<rect x=\"1545.51\" y=\"2489.06\" width=\"75.24\" height=\"0.12\" style=\"fill:#CAC27E\"/>\n",
       "\t<rect x=\"1549.83\" y=\"2484.87\" width=\"66.60\" height=\"8.52\" style=\"fill:none;stroke:#D7D29E;stroke-width:8.64\"/>\n",
       "\t<rect x=\"1620.75\" y=\"2489.06\" width=\"75.24\" height=\"0.12\" style=\"fill:#CAC27E\"/>\n",
       "\t<rect x=\"1625.07\" y=\"2484.87\" width=\"66.60\" height=\"8.52\" style=\"fill:none;stroke:#D7D29E;stroke-width:8.64\"/>\n",
       "\t<rect x=\"1771.23\" y=\"2489.06\" width=\"75.36\" height=\"0.12\" style=\"fill:#CAC27E\"/>\n",
       "\t<rect x=\"1775.55\" y=\"2484.87\" width=\"66.72\" height=\"8.52\" style=\"fill:none;stroke:#D7D29E;stroke-width:8.64\"/>\n",
       "\t<rect x=\"1921.84\" y=\"2488.94\" width=\"75.24\" height=\"0.25\" style=\"fill:#CAC27E\"/>\n",
       "\t<rect x=\"1926.16\" y=\"2484.87\" width=\"66.60\" height=\"8.39\" style=\"fill:none;stroke:#D7D29E;stroke-width:8.64\"/>\n",
       "\t<rect x=\"1997.08\" y=\"2489.06\" width=\"75.24\" height=\"0.12\" style=\"fill:#CAC27E\"/>\n",
       "\t<rect x=\"2001.40\" y=\"2484.87\" width=\"66.60\" height=\"8.52\" style=\"fill:none;stroke:#D7D29E;stroke-width:8.64\"/>\n",
       "\t<rect x=\"2072.32\" y=\"2489.06\" width=\"75.24\" height=\"0.12\" style=\"fill:#CAC27E\"/>\n",
       "\t<rect x=\"2076.64\" y=\"2484.87\" width=\"66.60\" height=\"8.52\" style=\"fill:none;stroke:#D7D29E;stroke-width:8.64\"/>\n",
       "\t<rect x=\"2523.88\" y=\"2489.06\" width=\"75.36\" height=\"0.12\" style=\"fill:#CAC27E\"/>\n",
       "\t<rect x=\"2528.20\" y=\"2484.87\" width=\"66.72\" height=\"8.52\" style=\"fill:none;stroke:#D7D29E;stroke-width:8.64\"/>\n",
       "\t<rect x=\"3652.85\" y=\"2489.06\" width=\"75.36\" height=\"0.12\" style=\"fill:#CAC27E\"/>\n",
       "\t<rect x=\"3657.17\" y=\"2484.87\" width=\"66.72\" height=\"8.52\" style=\"fill:none;stroke:#D7D29E;stroke-width:8.64\"/>\n",
       "\t<line x1=\"390.80\" y1=\"2489.19\" x2=\"390.80\" y2=\"100.86\" style=\"stroke:#000000;stroke-width:5.76\"/>\n",
       "\t<line x1=\"390.80\" y1=\"2489.19\" x2=\"350.83\" y2=\"2489.19\" style=\"stroke:#000000;stroke-width:5.76\"/>\n",
       "\t<text x=\"300.72\" y=\"2489.19\" style=\"font-family:'Helvetica';font-size:99.99px;fill:#000000\" transform=\"rotate(-90 300.72,2489.19)\" text-anchor=\"middle\">0</text>\n",
       "\t<line x1=\"390.80\" y1=\"2048.37\" x2=\"350.83\" y2=\"2048.37\" style=\"stroke:#000000;stroke-width:5.76\"/>\n",
       "\t<text x=\"300.72\" y=\"2048.37\" style=\"font-family:'Helvetica';font-size:99.99px;fill:#000000\" transform=\"rotate(-90 300.72,2048.37)\" text-anchor=\"middle\">2.0e-04</text>\n",
       "\t<line x1=\"390.80\" y1=\"1607.56\" x2=\"350.83\" y2=\"1607.56\" style=\"stroke:#000000;stroke-width:5.76\"/>\n",
       "\t<text x=\"300.72\" y=\"1607.56\" style=\"font-family:'Helvetica';font-size:99.99px;fill:#000000\" transform=\"rotate(-90 300.72,1607.56)\" text-anchor=\"middle\">4.0e-04</text>\n",
       "\t<line x1=\"390.80\" y1=\"1166.63\" x2=\"350.83\" y2=\"1166.63\" style=\"stroke:#000000;stroke-width:5.76\"/>\n",
       "\t<text x=\"300.72\" y=\"1166.63\" style=\"font-family:'Helvetica';font-size:99.99px;fill:#000000\" transform=\"rotate(-90 300.72,1166.63)\" text-anchor=\"middle\">6.0e-04</text>\n",
       "\t<line x1=\"390.80\" y1=\"725.82\" x2=\"350.83\" y2=\"725.82\" style=\"stroke:#000000;stroke-width:5.76\"/>\n",
       "\t<text x=\"300.72\" y=\"725.82\" style=\"font-family:'Helvetica';font-size:99.99px;fill:#000000\" transform=\"rotate(-90 300.72,725.82)\" text-anchor=\"middle\">8.0e-04</text>\n",
       "\t<line x1=\"390.80\" y1=\"285.01\" x2=\"350.83\" y2=\"285.01\" style=\"stroke:#000000;stroke-width:5.76\"/>\n",
       "\t<text x=\"300.72\" y=\"285.01\" style=\"font-family:'Helvetica';font-size:99.99px;fill:#000000\" transform=\"rotate(-90 300.72,285.01)\" text-anchor=\"middle\">.001</text>\n",
       "\t<text x=\"190.71\" y=\"1294.96\" style=\"font-family:'Helvetica';font-size:99.99px;fill:#000000\" transform=\"rotate(-90 190.71,1294.96)\" text-anchor=\"middle\">Density</text>\n",
       "\t<line x1=\"390.80\" y1=\"2489.19\" x2=\"3859.02\" y2=\"2489.19\" style=\"stroke:#000000;stroke-width:5.76\"/>\n",
       "\t<line x1=\"491.78\" y1=\"2489.19\" x2=\"491.78\" y2=\"2529.16\" style=\"stroke:#000000;stroke-width:5.76\"/>\n",
       "\t<text x=\"491.78\" y=\"2619.14\" style=\"font-family:'Helvetica';font-size:99.99px;fill:#000000\" text-anchor=\"middle\">0</text>\n",
       "\t<line x1=\"1317.81\" y1=\"2489.19\" x2=\"1317.81\" y2=\"2529.16\" style=\"stroke:#000000;stroke-width:5.76\"/>\n",
       "\t<text x=\"1317.81\" y=\"2619.14\" style=\"font-family:'Helvetica';font-size:99.99px;fill:#000000\" text-anchor=\"middle\">10000</text>\n",
       "\t<line x1=\"2143.72\" y1=\"2489.19\" x2=\"2143.72\" y2=\"2529.16\" style=\"stroke:#000000;stroke-width:5.76\"/>\n",
       "\t<text x=\"2143.72\" y=\"2619.14\" style=\"font-family:'Helvetica';font-size:99.99px;fill:#000000\" text-anchor=\"middle\">20000</text>\n",
       "\t<line x1=\"2969.75\" y1=\"2489.19\" x2=\"2969.75\" y2=\"2529.16\" style=\"stroke:#000000;stroke-width:5.76\"/>\n",
       "\t<text x=\"2969.75\" y=\"2619.14\" style=\"font-family:'Helvetica';font-size:99.99px;fill:#000000\" text-anchor=\"middle\">30000</text>\n",
       "\t<line x1=\"3795.66\" y1=\"2489.19\" x2=\"3795.66\" y2=\"2529.16\" style=\"stroke:#000000;stroke-width:5.76\"/>\n",
       "\t<text x=\"3795.66\" y=\"2619.14\" style=\"font-family:'Helvetica';font-size:99.99px;fill:#000000\" text-anchor=\"middle\">40000</text>\n",
       "\t<text x=\"2124.91\" y=\"2729.16\" style=\"font-family:'Helvetica';font-size:99.99px;fill:#000000\" text-anchor=\"middle\">medical expenditures (dollars)</text>\n",
       "</svg>"
      ],
      "text/plain": [
       "<IPython.core.display.SVG object>"
      ]
     },
     "metadata": {},
     "output_type": "display_data"
    }
   ],
   "source": [
    "%%stata\n",
    "histogram med"
   ]
  },
  {
   "cell_type": "code",
   "execution_count": 14,
   "metadata": {},
   "outputs": [
    {
     "name": "stdout",
     "output_type": "stream",
     "text": [
      "\n",
      "      =1 if |\n",
      "     female |      Freq.     Percent        Cum.\n",
      "------------+-----------------------------------\n",
      "          0 |      9,751       48.31       48.31\n",
      "          1 |     10,435       51.69      100.00\n",
      "------------+-----------------------------------\n",
      "      Total |     20,186      100.00\n"
     ]
    }
   ],
   "source": [
    "%%stata\n",
    "tab female"
   ]
  },
  {
   "cell_type": "markdown",
   "metadata": {},
   "source": [
    "## Using Only Observations from Year 1"
   ]
  },
  {
   "cell_type": "code",
   "execution_count": 15,
   "metadata": {},
   "outputs": [
    {
     "name": "stdout",
     "output_type": "stream",
     "text": [
      "(14,548 observations deleted)\n"
     ]
    }
   ],
   "source": [
    "%%stata\n",
    "drop if year != 1"
   ]
  },
  {
   "cell_type": "markdown",
   "metadata": {},
   "source": [
    "## Exponential Based on Poisson"
   ]
  },
  {
   "cell_type": "code",
   "execution_count": 17,
   "metadata": {},
   "outputs": [
    {
     "name": "stdout",
     "output_type": "stream",
     "text": [
      "\n",
      ". poisson med lcoins ndisease female age lfam child, robust\n",
      "note: you are responsible for interpretation of noncount dep. variable.\n",
      "\n",
      "Iteration 0:   log pseudolikelihood =   -1254123  \n",
      "Iteration 1:   log pseudolikelihood = -1254047.6  \n",
      "Iteration 2:   log pseudolikelihood = -1254047.5  \n",
      "\n",
      "Poisson regression                                      Number of obs =  5,638\n",
      "                                                        Wald chi2(6)  = 109.42\n",
      "                                                        Prob > chi2   = 0.0000\n",
      "Log pseudolikelihood = -1254047.5                       Pseudo R2     = 0.0838\n",
      "\n",
      "------------------------------------------------------------------------------\n",
      "             |               Robust\n",
      "         med | Coefficient  std. err.      z    P>|z|     [95% conf. interval]\n",
      "-------------+----------------------------------------------------------------\n",
      "      lcoins |  -.0478877   .0245805    -1.95   0.051    -.0960646    .0002892\n",
      "    ndisease |   .0281757   .0060746     4.64   0.000     .0162696    .0400817\n",
      "      female |   .2263111   .1192456     1.90   0.058     -.007406    .4600282\n",
      "         age |   .0097846    .003701     2.64   0.008     .0025307    .0170384\n",
      "        lfam |  -.0928784   .0882497    -1.05   0.293    -.2658446    .0800879\n",
      "       child |  -.4112285   .2444742    -1.68   0.093    -.8903892    .0679321\n",
      "       _cons |   4.631177   .2039135    22.71   0.000     4.231514     5.03084\n",
      "------------------------------------------------------------------------------\n",
      "\n",
      ". estimates store poisson\n",
      "\n",
      ". \n"
     ]
    }
   ],
   "source": [
    "%%stata\n",
    "poisson med lcoins ndisease female age lfam child, robust\n",
    "estimates store poisson"
   ]
  },
  {
   "cell_type": "code",
   "execution_count": 19,
   "metadata": {},
   "outputs": [
    {
     "name": "stdout",
     "output_type": "stream",
     "text": [
      "\n",
      ". poisson med lcoins ndisease female age lfam child if med>0, robust\n",
      "note: you are responsible for interpretation of noncount dep. variable.\n",
      "\n",
      "Iteration 0:   log pseudolikelihood = -1087520.2  \n",
      "Iteration 1:   log pseudolikelihood = -1087511.2  \n",
      "Iteration 2:   log pseudolikelihood = -1087511.2  \n",
      "\n",
      "Poisson regression                                      Number of obs =  4,451\n",
      "                                                        Wald chi2(6)  =  66.48\n",
      "                                                        Prob > chi2   = 0.0000\n",
      "Log pseudolikelihood = -1087511.2                       Pseudo R2     = 0.0657\n",
      "\n",
      "------------------------------------------------------------------------------\n",
      "             |               Robust\n",
      "         med | Coefficient  std. err.      z    P>|z|     [95% conf. interval]\n",
      "-------------+----------------------------------------------------------------\n",
      "      lcoins |  -.0200287   .0246889    -0.81   0.417     -.068418    .0283606\n",
      "    ndisease |   .0210867   .0062785     3.36   0.001     .0087812    .0333923\n",
      "      female |   .1474704   .1177851     1.25   0.211    -.0833842    .3783249\n",
      "         age |   .0087803   .0036967     2.38   0.018     .0015349    .0160258\n",
      "        lfam |  -.0823594   .0902764    -0.91   0.362    -.2592978    .0945791\n",
      "       child |  -.3678983   .2481063    -1.48   0.138    -.8541777    .1183811\n",
      "       _cons |    4.91825   .2098069    23.44   0.000     4.507036    5.329464\n",
      "------------------------------------------------------------------------------\n",
      "\n",
      ". estimates store poisson0\n",
      "\n",
      ". \n"
     ]
    }
   ],
   "source": [
    "%%stata\n",
    "poisson med lcoins ndisease female age lfam child if med>0, robust\n",
    "estimates store poisson0"
   ]
  },
  {
   "cell_type": "code",
   "execution_count": 20,
   "metadata": {},
   "outputs": [
    {
     "name": "stdout",
     "output_type": "stream",
     "text": [
      "\n",
      ". gen lmed=log(med)\n",
      "(1,187 missing values generated)\n",
      "\n",
      ". regress lmed lcoins ndisease female age lfam child if med>0, robust\n",
      "\n",
      "Linear regression                               Number of obs     =      4,451\n",
      "                                                F(6, 4444)        =     106.73\n",
      "                                                Prob > F          =     0.0000\n",
      "                                                R-squared         =     0.1226\n",
      "                                                Root MSE          =     1.3519\n",
      "\n",
      "------------------------------------------------------------------------------\n",
      "             |               Robust\n",
      "        lmed | Coefficient  std. err.      t    P>|t|     [95% conf. interval]\n",
      "-------------+----------------------------------------------------------------\n",
      "      lcoins |   -.054901   .0099633    -5.51   0.000    -.0744341   -.0353679\n",
      "    ndisease |    .030717   .0030927     9.93   0.000     .0246537    .0367803\n",
      "      female |   .1199091   .0417646     2.87   0.004     .0380298    .2017885\n",
      "         age |   .0072817   .0020791     3.50   0.000     .0032055    .0113578\n",
      "        lfam |  -.1357759   .0442937    -3.07   0.002    -.2226136   -.0489382\n",
      "       child |  -.4972463   .0737896    -6.74   0.000    -.6419107   -.3525819\n",
      "       _cons |   3.954487   .1043663    37.89   0.000     3.749877    4.159096\n",
      "------------------------------------------------------------------------------\n",
      "\n",
      ". estimates store log0\n",
      "\n",
      ". \n"
     ]
    }
   ],
   "source": [
    "%%stata\n",
    "gen lmed=log(med)\n",
    "regress lmed lcoins ndisease female age lfam child if med>0, robust\n",
    "estimates store log0"
   ]
  },
  {
   "cell_type": "code",
   "execution_count": 21,
   "metadata": {},
   "outputs": [
    {
     "name": "stdout",
     "output_type": "stream",
     "text": [
      "\n",
      ". gen lmed1=log(med+1)\n",
      "\n",
      ". regress lmed1 lcoins ndisease female age lfam child, robust\n",
      "\n",
      "Linear regression                               Number of obs     =      5,638\n",
      "                                                F(6, 5631)        =     148.62\n",
      "                                                Prob > F          =     0.0000\n",
      "                                                R-squared         =     0.1262\n",
      "                                                Root MSE          =      1.953\n",
      "\n",
      "------------------------------------------------------------------------------\n",
      "             |               Robust\n",
      "       lmed1 | Coefficient  std. err.      t    P>|t|     [95% conf. interval]\n",
      "-------------+----------------------------------------------------------------\n",
      "      lcoins |  -.1485372   .0126915   -11.70   0.000    -.1734174   -.1236569\n",
      "    ndisease |   .0584591   .0039132    14.94   0.000     .0507878    .0661304\n",
      "      female |   .3064252   .0535977     5.72   0.000      .201353    .4114974\n",
      "         age |   .0089512   .0027704     3.23   0.001     .0035202    .0143821\n",
      "        lfam |  -.1806985   .0556686    -3.25   0.001    -.2898305   -.0715666\n",
      "       child |  -.4759264   .0946324    -5.03   0.000    -.6614425   -.2904103\n",
      "       _cons |   3.000465   .1346348    22.29   0.000     2.736529    3.264401\n",
      "------------------------------------------------------------------------------\n",
      "\n",
      ". estimates store log1\n",
      "\n",
      ". \n"
     ]
    }
   ],
   "source": [
    "%%stata\n",
    "gen lmed1=log(med+1)\n",
    "regress lmed1 lcoins ndisease female age lfam child, robust\n",
    "estimates store log1"
   ]
  },
  {
   "cell_type": "code",
   "execution_count": 22,
   "metadata": {},
   "outputs": [
    {
     "name": "stdout",
     "output_type": "stream",
     "text": [
      "\n",
      "----------------------------------------------\n",
      "    Variable |    poisson        poisson0     \n",
      "-------------+--------------------------------\n",
      "      lcoins | -.04788772*      -.0200287     \n",
      "    ndisease |  .02817566***    .02108674***  \n",
      "      female |  .22631112*      .14747037     \n",
      "         age |  .00978456***    .00878032**   \n",
      "        lfam | -.09287836      -.08235938     \n",
      "       child | -.41122852*      -.3678983     \n",
      "       _cons |  4.6311773***    4.9182498***  \n",
      "----------------------------------------------\n",
      "           Legend: * p<.1; ** p<.05; *** p<.01\n"
     ]
    }
   ],
   "source": [
    "%%stata\n",
    "estimates table poisson poisson0, b star(0.1 0.05 0.01)"
   ]
  },
  {
   "cell_type": "code",
   "execution_count": 23,
   "metadata": {},
   "outputs": [
    {
     "name": "stdout",
     "output_type": "stream",
     "text": [
      "\n",
      "----------------------------------------------\n",
      "    Variable |     log0            log1       \n",
      "-------------+--------------------------------\n",
      "      lcoins | -.05490096***   -.14853716***  \n",
      "    ndisease |  .03071698***     .0584591***  \n",
      "      female |  .11990912***     .3064252***  \n",
      "         age |  .00728165***    .00895117***  \n",
      "        lfam | -.13577591***   -.18069853***  \n",
      "       child |  -.4972463***   -.47592639***  \n",
      "       _cons |  3.9544865***    3.0004653***  \n",
      "----------------------------------------------\n",
      "           Legend: * p<.1; ** p<.05; *** p<.01\n"
     ]
    }
   ],
   "source": [
    "%%stata\n",
    "estimates table log0 log1, b star(0.1 0.05 0.01)"
   ]
  },
  {
   "cell_type": "code",
   "execution_count": 24,
   "metadata": {},
   "outputs": [
    {
     "name": "stdout",
     "output_type": "stream",
     "text": [
      "\n",
      "    Variable |        Obs        Mean    Std. dev.       Min        Max\n",
      "-------------+---------------------------------------------------------\n",
      "         mdu |      5,638    2.877971    4.332918          0         69\n"
     ]
    }
   ],
   "source": [
    "%%stata\n",
    "summarize mdu"
   ]
  },
  {
   "cell_type": "code",
   "execution_count": 25,
   "metadata": {},
   "outputs": [
    {
     "name": "stdout",
     "output_type": "stream",
     "text": [
      "\n",
      "     number |\n",
      "face-to-fac |\n",
      "t md visits |      Freq.     Percent        Cum.\n",
      "------------+-----------------------------------\n",
      "          0 |      1,729       30.67       30.67\n",
      "          1 |      1,047       18.57       49.24\n",
      "          2 |        814       14.44       63.68\n",
      "          3 |        511        9.06       72.74\n",
      "          4 |        385        6.83       79.57\n",
      "          5 |        271        4.81       84.37\n",
      "          6 |        188        3.33       87.71\n",
      "          7 |        156        2.77       90.48\n",
      "          8 |        134        2.38       92.85\n",
      "          9 |         80        1.42       94.27\n",
      "         10 |         56        0.99       95.26\n",
      "         11 |         56        0.99       96.26\n",
      "         12 |         32        0.57       96.83\n",
      "         13 |         33        0.59       97.41\n",
      "         14 |         21        0.37       97.78\n",
      "         15 |         23        0.41       98.19\n",
      "         16 |         12        0.21       98.40\n",
      "         17 |          7        0.12       98.53\n",
      "         18 |          8        0.14       98.67\n",
      "         19 |         12        0.21       98.88\n",
      "         20 |         11        0.20       99.08\n",
      "         21 |          8        0.14       99.22\n",
      "         22 |          5        0.09       99.31\n",
      "         23 |          3        0.05       99.36\n",
      "         24 |          6        0.11       99.47\n",
      "         25 |          1        0.02       99.49\n",
      "         26 |          1        0.02       99.50\n",
      "         27 |          1        0.02       99.52\n",
      "         28 |          3        0.05       99.57\n",
      "         30 |          2        0.04       99.61\n",
      "         31 |          2        0.04       99.65\n",
      "         34 |          4        0.07       99.72\n",
      "         35 |          4        0.07       99.79\n",
      "         37 |          2        0.04       99.82\n",
      "         38 |          4        0.07       99.89\n",
      "         40 |          1        0.02       99.91\n",
      "         45 |          2        0.04       99.95\n",
      "         52 |          2        0.04       99.98\n",
      "         69 |          1        0.02      100.00\n",
      "------------+-----------------------------------\n",
      "      Total |      5,638      100.00\n"
     ]
    }
   ],
   "source": [
    "%%stata\n",
    "tabulate mdu"
   ]
  },
  {
   "cell_type": "code",
   "execution_count": 28,
   "metadata": {},
   "outputs": [
    {
     "name": "stdout",
     "output_type": "stream",
     "text": [
      "\n",
      ". poisson mdu lcoins ndisease female age lfam child\n",
      "\n",
      "Iteration 0:   log likelihood = -17173.414  \n",
      "Iteration 1:   log likelihood = -17173.058  \n",
      "Iteration 2:   log likelihood = -17173.058  \n",
      "\n",
      "Poisson regression                                     Number of obs =   5,638\n",
      "                                                       LR chi2(6)    = 2296.50\n",
      "                                                       Prob > chi2   =  0.0000\n",
      "Log likelihood = -17173.058                            Pseudo R2     =  0.0627\n",
      "\n",
      "------------------------------------------------------------------------------\n",
      "         mdu | Coefficient  Std. err.      z    P>|z|     [95% conf. interval]\n",
      "-------------+----------------------------------------------------------------\n",
      "      lcoins |  -.0682563   .0038214   -17.86   0.000    -.0757462   -.0607665\n",
      "    ndisease |     .03538   .0010286    34.40   0.000     .0333639     .037396\n",
      "      female |   .1276798   .0164078     7.78   0.000     .0955211    .1598386\n",
      "         age |   .0041167   .0007841     5.25   0.000     .0025798    .0056536\n",
      "        lfam |   -.141855   .0154716    -9.17   0.000    -.1721789   -.1115312\n",
      "       child |    .056673   .0278998     2.03   0.042     .0019903    .1113557\n",
      "       _cons |   .7463066   .0385653    19.35   0.000       .67072    .8218932\n",
      "------------------------------------------------------------------------------\n",
      "\n",
      ". estimates store cpoissonml\n",
      "\n",
      ". \n"
     ]
    }
   ],
   "source": [
    "%%stata\n",
    "poisson mdu lcoins ndisease female age lfam child\n",
    "estimates store cpoissonml"
   ]
  },
  {
   "cell_type": "code",
   "execution_count": 27,
   "metadata": {},
   "outputs": [
    {
     "name": "stdout",
     "output_type": "stream",
     "text": [
      "(bin=37, start=0, width=1.8648649)\n"
     ]
    },
    {
     "data": {
      "image/svg+xml": [
       "<svg xmlns=\"http://www.w3.org/2000/svg\" xmlns:xlink=\"http://www.w3.org/1999/xlink\" version=\"1.1\" width=\"528px\" height=\"384px\" viewBox=\"0 0 3960 2880\">\n",
       "\t<desc>Stata Graph - Graph</desc>\n",
       "\t<rect x=\"0\" y=\"0\" width=\"3960\" height=\"2880\" style=\"fill:#EAF2F3;stroke:none\"/>\n",
       "\t<rect x=\"0.00\" y=\"0.00\" width=\"3959.88\" height=\"2880.00\" style=\"fill:#EAF2F3\"/>\n",
       "\t<rect x=\"2.88\" y=\"2.88\" width=\"3954.12\" height=\"2874.24\" style=\"fill:none;stroke:#EAF2F3;stroke-width:5.76\"/>\n",
       "\t<rect x=\"390.80\" y=\"100.86\" width=\"3468.22\" height=\"2388.33\" style=\"fill:#FFFFFF\"/>\n",
       "\t<rect x=\"393.68\" y=\"103.74\" width=\"3462.46\" height=\"2382.57\" style=\"fill:none;stroke:#FFFFFF;stroke-width:5.76\"/>\n",
       "\t<line x1=\"390.80\" y1=\"2489.19\" x2=\"3859.02\" y2=\"2489.19\" style=\"stroke:#EAF2F3;stroke-width:8.64\"/>\n",
       "\t<line x1=\"390.80\" y1=\"2048.87\" x2=\"3859.02\" y2=\"2048.87\" style=\"stroke:#EAF2F3;stroke-width:8.64\"/>\n",
       "\t<line x1=\"390.80\" y1=\"1608.55\" x2=\"3859.02\" y2=\"1608.55\" style=\"stroke:#EAF2F3;stroke-width:8.64\"/>\n",
       "\t<line x1=\"390.80\" y1=\"1168.24\" x2=\"3859.02\" y2=\"1168.24\" style=\"stroke:#EAF2F3;stroke-width:8.64\"/>\n",
       "\t<line x1=\"390.80\" y1=\"728.04\" x2=\"3859.02\" y2=\"728.04\" style=\"stroke:#EAF2F3;stroke-width:8.64\"/>\n",
       "\t<line x1=\"390.80\" y1=\"287.73\" x2=\"3859.02\" y2=\"287.73\" style=\"stroke:#EAF2F3;stroke-width:8.64\"/>\n",
       "\t<rect x=\"492.65\" y=\"164.22\" width=\"76.97\" height=\"2324.96\" style=\"fill:#CAC27E\"/>\n",
       "\t<rect x=\"496.97\" y=\"168.54\" width=\"68.33\" height=\"2316.32\" style=\"fill:none;stroke:#D7D29E;stroke-width:8.64\"/>\n",
       "\t<rect x=\"569.62\" y=\"1379.48\" width=\"76.97\" height=\"1109.70\" style=\"fill:#CAC27E\"/>\n",
       "\t<rect x=\"573.94\" y=\"1383.80\" width=\"68.33\" height=\"1101.06\" style=\"fill:none;stroke:#D7D29E;stroke-width:8.64\"/>\n",
       "\t<rect x=\"646.59\" y=\"1939.72\" width=\"77.10\" height=\"549.47\" style=\"fill:#CAC27E\"/>\n",
       "\t<rect x=\"650.91\" y=\"1944.04\" width=\"68.46\" height=\"540.83\" style=\"fill:none;stroke:#D7D29E;stroke-width:8.64\"/>\n",
       "\t<rect x=\"723.69\" y=\"2201.09\" width=\"76.97\" height=\"288.10\" style=\"fill:#CAC27E\"/>\n",
       "\t<rect x=\"728.01\" y=\"2205.41\" width=\"68.33\" height=\"279.46\" style=\"fill:none;stroke:#D7D29E;stroke-width:8.64\"/>\n",
       "\t<rect x=\"800.66\" y=\"2309.99\" width=\"76.97\" height=\"179.20\" style=\"fill:#CAC27E\"/>\n",
       "\t<rect x=\"804.98\" y=\"2314.31\" width=\"68.33\" height=\"170.56\" style=\"fill:none;stroke:#D7D29E;stroke-width:8.64\"/>\n",
       "\t<rect x=\"877.63\" y=\"2395.38\" width=\"76.97\" height=\"93.81\" style=\"fill:#CAC27E\"/>\n",
       "\t<rect x=\"881.95\" y=\"2399.70\" width=\"68.33\" height=\"85.17\" style=\"fill:none;stroke:#D7D29E;stroke-width:8.64\"/>\n",
       "\t<rect x=\"954.61\" y=\"2434.73\" width=\"76.97\" height=\"54.45\" style=\"fill:#CAC27E\"/>\n",
       "\t<rect x=\"958.93\" y=\"2439.05\" width=\"68.33\" height=\"45.81\" style=\"fill:none;stroke:#D7D29E;stroke-width:8.64\"/>\n",
       "\t<rect x=\"1031.58\" y=\"2471.61\" width=\"77.10\" height=\"17.57\" style=\"fill:#CAC27E\"/>\n",
       "\t<rect x=\"1035.90\" y=\"2475.93\" width=\"68.46\" height=\"8.93\" style=\"fill:none;stroke:#D7D29E;stroke-width:8.64\"/>\n",
       "\t<rect x=\"1108.68\" y=\"2459.86\" width=\"76.97\" height=\"29.33\" style=\"fill:#CAC27E\"/>\n",
       "\t<rect x=\"1113.00\" y=\"2464.18\" width=\"68.33\" height=\"20.69\" style=\"fill:none;stroke:#D7D29E;stroke-width:8.64\"/>\n",
       "\t<rect x=\"1185.65\" y=\"2476.69\" width=\"76.97\" height=\"12.50\" style=\"fill:#CAC27E\"/>\n",
       "\t<rect x=\"1189.97\" y=\"2481.01\" width=\"68.33\" height=\"3.86\" style=\"fill:none;stroke:#D7D29E;stroke-width:8.64\"/>\n",
       "\t<rect x=\"1262.62\" y=\"2470.00\" width=\"76.97\" height=\"19.18\" style=\"fill:#CAC27E\"/>\n",
       "\t<rect x=\"1266.94\" y=\"2474.32\" width=\"68.33\" height=\"10.54\" style=\"fill:none;stroke:#D7D29E;stroke-width:8.64\"/>\n",
       "\t<rect x=\"1339.59\" y=\"2478.29\" width=\"76.97\" height=\"10.89\" style=\"fill:#CAC27E\"/>\n",
       "\t<rect x=\"1343.91\" y=\"2482.61\" width=\"68.33\" height=\"2.25\" style=\"fill:none;stroke:#D7D29E;stroke-width:8.64\"/>\n",
       "\t<rect x=\"1416.57\" y=\"2481.64\" width=\"77.10\" height=\"7.55\" style=\"fill:#CAC27E\"/>\n",
       "\t<rect x=\"1420.89\" y=\"2484.87\" width=\"68.46\" height=\"1.09\" style=\"fill:none;stroke:#D7D29E;stroke-width:8.64\"/>\n",
       "\t<rect x=\"1493.66\" y=\"2487.58\" width=\"76.97\" height=\"1.61\" style=\"fill:#CAC27E\"/>\n",
       "\t<rect x=\"1497.98\" y=\"2484.87\" width=\"68.33\" height=\"7.03\" style=\"fill:none;stroke:#D7D29E;stroke-width:8.64\"/>\n",
       "\t<rect x=\"1570.63\" y=\"2488.32\" width=\"76.97\" height=\"0.87\" style=\"fill:#CAC27E\"/>\n",
       "\t<rect x=\"1574.95\" y=\"2484.87\" width=\"68.33\" height=\"7.77\" style=\"fill:none;stroke:#D7D29E;stroke-width:8.64\"/>\n",
       "\t<rect x=\"1647.61\" y=\"2486.71\" width=\"76.97\" height=\"2.48\" style=\"fill:#CAC27E\"/>\n",
       "\t<rect x=\"1651.93\" y=\"2484.87\" width=\"68.33\" height=\"6.16\" style=\"fill:none;stroke:#D7D29E;stroke-width:8.64\"/>\n",
       "\t<rect x=\"1724.58\" y=\"2485.84\" width=\"76.97\" height=\"3.34\" style=\"fill:#CAC27E\"/>\n",
       "\t<rect x=\"1728.90\" y=\"2484.87\" width=\"68.33\" height=\"5.30\" style=\"fill:none;stroke:#D7D29E;stroke-width:8.64\"/>\n",
       "\t<rect x=\"1878.65\" y=\"2482.50\" width=\"76.97\" height=\"6.68\" style=\"fill:#CAC27E\"/>\n",
       "\t<rect x=\"1882.97\" y=\"2484.87\" width=\"68.33\" height=\"1.96\" style=\"fill:none;stroke:#D7D29E;stroke-width:8.64\"/>\n",
       "\t<rect x=\"1955.62\" y=\"2487.58\" width=\"76.97\" height=\"1.61\" style=\"fill:#CAC27E\"/>\n",
       "\t<rect x=\"1959.94\" y=\"2484.87\" width=\"68.33\" height=\"7.03\" style=\"fill:none;stroke:#D7D29E;stroke-width:8.64\"/>\n",
       "\t<rect x=\"2032.59\" y=\"2485.84\" width=\"76.97\" height=\"3.34\" style=\"fill:#CAC27E\"/>\n",
       "\t<rect x=\"2036.91\" y=\"2484.87\" width=\"68.33\" height=\"5.30\" style=\"fill:none;stroke:#D7D29E;stroke-width:8.64\"/>\n",
       "\t<rect x=\"2109.57\" y=\"2488.32\" width=\"76.97\" height=\"0.87\" style=\"fill:#CAC27E\"/>\n",
       "\t<rect x=\"2113.89\" y=\"2484.87\" width=\"68.33\" height=\"7.77\" style=\"fill:none;stroke:#D7D29E;stroke-width:8.64\"/>\n",
       "\t<rect x=\"2340.61\" y=\"2487.58\" width=\"76.97\" height=\"1.61\" style=\"fill:#CAC27E\"/>\n",
       "\t<rect x=\"2344.93\" y=\"2484.87\" width=\"68.33\" height=\"7.03\" style=\"fill:none;stroke:#D7D29E;stroke-width:8.64\"/>\n",
       "\t<rect x=\"2571.53\" y=\"2487.58\" width=\"77.10\" height=\"1.61\" style=\"fill:#CAC27E\"/>\n",
       "\t<rect x=\"2575.84\" y=\"2484.87\" width=\"68.46\" height=\"7.03\" style=\"fill:none;stroke:#D7D29E;stroke-width:8.64\"/>\n",
       "\t<rect x=\"3264.53\" y=\"2488.32\" width=\"76.97\" height=\"0.87\" style=\"fill:#CAC27E\"/>\n",
       "\t<rect x=\"3268.84\" y=\"2484.87\" width=\"68.33\" height=\"7.77\" style=\"fill:none;stroke:#D7D29E;stroke-width:8.64\"/>\n",
       "\t<line x1=\"390.80\" y1=\"2489.19\" x2=\"390.80\" y2=\"100.86\" style=\"stroke:#000000;stroke-width:5.76\"/>\n",
       "\t<line x1=\"390.80\" y1=\"2489.19\" x2=\"350.83\" y2=\"2489.19\" style=\"stroke:#000000;stroke-width:5.76\"/>\n",
       "\t<text x=\"300.72\" y=\"2489.19\" style=\"font-family:'Helvetica';font-size:99.99px;fill:#000000\" transform=\"rotate(-90 300.72,2489.19)\" text-anchor=\"middle\">0</text>\n",
       "\t<line x1=\"390.80\" y1=\"2048.87\" x2=\"350.83\" y2=\"2048.87\" style=\"stroke:#000000;stroke-width:5.76\"/>\n",
       "\t<text x=\"300.72\" y=\"2048.87\" style=\"font-family:'Helvetica';font-size:99.99px;fill:#000000\" transform=\"rotate(-90 300.72,2048.87)\" text-anchor=\"middle\">.05</text>\n",
       "\t<line x1=\"390.80\" y1=\"1608.55\" x2=\"350.83\" y2=\"1608.55\" style=\"stroke:#000000;stroke-width:5.76\"/>\n",
       "\t<text x=\"300.72\" y=\"1608.55\" style=\"font-family:'Helvetica';font-size:99.99px;fill:#000000\" transform=\"rotate(-90 300.72,1608.55)\" text-anchor=\"middle\">.1</text>\n",
       "\t<line x1=\"390.80\" y1=\"1168.24\" x2=\"350.83\" y2=\"1168.24\" style=\"stroke:#000000;stroke-width:5.76\"/>\n",
       "\t<text x=\"300.72\" y=\"1168.24\" style=\"font-family:'Helvetica';font-size:99.99px;fill:#000000\" transform=\"rotate(-90 300.72,1168.24)\" text-anchor=\"middle\">.15</text>\n",
       "\t<line x1=\"390.80\" y1=\"728.04\" x2=\"350.83\" y2=\"728.04\" style=\"stroke:#000000;stroke-width:5.76\"/>\n",
       "\t<text x=\"300.72\" y=\"728.04\" style=\"font-family:'Helvetica';font-size:99.99px;fill:#000000\" transform=\"rotate(-90 300.72,728.04)\" text-anchor=\"middle\">.2</text>\n",
       "\t<line x1=\"390.80\" y1=\"287.73\" x2=\"350.83\" y2=\"287.73\" style=\"stroke:#000000;stroke-width:5.76\"/>\n",
       "\t<text x=\"300.72\" y=\"287.73\" style=\"font-family:'Helvetica';font-size:99.99px;fill:#000000\" transform=\"rotate(-90 300.72,287.73)\" text-anchor=\"middle\">.25</text>\n",
       "\t<text x=\"190.71\" y=\"1294.96\" style=\"font-family:'Helvetica';font-size:99.99px;fill:#000000\" transform=\"rotate(-90 190.71,1294.96)\" text-anchor=\"middle\">Density</text>\n",
       "\t<line x1=\"390.80\" y1=\"2489.19\" x2=\"3859.02\" y2=\"2489.19\" style=\"stroke:#000000;stroke-width:5.76\"/>\n",
       "\t<line x1=\"492.65\" y1=\"2489.19\" x2=\"492.65\" y2=\"2529.16\" style=\"stroke:#000000;stroke-width:5.76\"/>\n",
       "\t<text x=\"492.65\" y=\"2619.14\" style=\"font-family:'Helvetica';font-size:99.99px;fill:#000000\" text-anchor=\"middle\">0</text>\n",
       "\t<line x1=\"1318.43\" y1=\"2489.19\" x2=\"1318.43\" y2=\"2529.16\" style=\"stroke:#000000;stroke-width:5.76\"/>\n",
       "\t<text x=\"1318.43\" y=\"2619.14\" style=\"font-family:'Helvetica';font-size:99.99px;fill:#000000\" text-anchor=\"middle\">20</text>\n",
       "\t<line x1=\"2144.22\" y1=\"2489.19\" x2=\"2144.22\" y2=\"2529.16\" style=\"stroke:#000000;stroke-width:5.76\"/>\n",
       "\t<text x=\"2144.22\" y=\"2619.14\" style=\"font-family:'Helvetica';font-size:99.99px;fill:#000000\" text-anchor=\"middle\">40</text>\n",
       "\t<line x1=\"2970.00\" y1=\"2489.19\" x2=\"2970.00\" y2=\"2529.16\" style=\"stroke:#000000;stroke-width:5.76\"/>\n",
       "\t<text x=\"2970.00\" y=\"2619.14\" style=\"font-family:'Helvetica';font-size:99.99px;fill:#000000\" text-anchor=\"middle\">60</text>\n",
       "\t<line x1=\"3795.66\" y1=\"2489.19\" x2=\"3795.66\" y2=\"2529.16\" style=\"stroke:#000000;stroke-width:5.76\"/>\n",
       "\t<text x=\"3795.66\" y=\"2619.14\" style=\"font-family:'Helvetica';font-size:99.99px;fill:#000000\" text-anchor=\"middle\">80</text>\n",
       "\t<text x=\"2124.91\" y=\"2729.16\" style=\"font-family:'Helvetica';font-size:99.99px;fill:#000000\" text-anchor=\"middle\">number face-to-fact md visits</text>\n",
       "</svg>"
      ],
      "text/plain": [
       "<IPython.core.display.SVG object>"
      ]
     },
     "metadata": {},
     "output_type": "display_data"
    }
   ],
   "source": [
    "%%stata\n",
    "histogram mdu"
   ]
  },
  {
   "cell_type": "code",
   "execution_count": 29,
   "metadata": {},
   "outputs": [
    {
     "name": "stdout",
     "output_type": "stream",
     "text": [
      "\n",
      ". poisson mdu lcoins ndisease female age lfam child, robust\n",
      "\n",
      "Iteration 0:   log pseudolikelihood = -17173.414  \n",
      "Iteration 1:   log pseudolikelihood = -17173.058  \n",
      "Iteration 2:   log pseudolikelihood = -17173.058  \n",
      "\n",
      "Poisson regression                                      Number of obs =  5,638\n",
      "                                                        Wald chi2(6)  = 388.20\n",
      "                                                        Prob > chi2   = 0.0000\n",
      "Log pseudolikelihood = -17173.058                       Pseudo R2     = 0.0627\n",
      "\n",
      "------------------------------------------------------------------------------\n",
      "             |               Robust\n",
      "         mdu | Coefficient  std. err.      z    P>|z|     [95% conf. interval]\n",
      "-------------+----------------------------------------------------------------\n",
      "      lcoins |  -.0682563   .0094538    -7.22   0.000    -.0867854   -.0497273\n",
      "    ndisease |     .03538    .002696    13.12   0.000     .0300959    .0406641\n",
      "      female |   .1276798     .04043     3.16   0.002     .0484385    .2069211\n",
      "         age |   .0041167   .0019155     2.15   0.032     .0003624     .007871\n",
      "        lfam |   -.141855   .0336317    -4.22   0.000     -.207772   -.0759381\n",
      "       child |    .056673   .0625248     0.91   0.365    -.0658734    .1792194\n",
      "       _cons |   .7463066   .0861806     8.66   0.000     .5773956    .9152175\n",
      "------------------------------------------------------------------------------\n",
      "\n",
      ". estimates store cpoissonqml\n",
      "\n",
      ". \n"
     ]
    }
   ],
   "source": [
    "%%stata\n",
    "poisson mdu lcoins ndisease female age lfam child, robust\n",
    "estimates store cpoissonqml"
   ]
  },
  {
   "cell_type": "code",
   "execution_count": 30,
   "metadata": {},
   "outputs": [
    {
     "name": "stdout",
     "output_type": "stream",
     "text": [
      "\n",
      "Fitting Poisson model:\n",
      "\n",
      "Iteration 0:   log likelihood = -17173.414  \n",
      "Iteration 1:   log likelihood = -17173.058  \n",
      "Iteration 2:   log likelihood = -17173.058  \n",
      "\n",
      "Fitting constant-only model:\n",
      "\n",
      "Iteration 0:   log likelihood = -13655.951  \n",
      "Iteration 1:   log likelihood = -12393.164  \n",
      "Iteration 2:   log likelihood = -12392.553  \n",
      "Iteration 3:   log likelihood = -12392.553  \n",
      "\n",
      "Fitting full model:\n",
      "\n",
      "Iteration 0:   log likelihood = -12392.553  \n",
      "Iteration 1:   log likelihood = -12217.197  \n",
      "Iteration 2:   log likelihood = -12128.774  \n",
      "Iteration 3:   log likelihood = -12128.041  \n",
      "Iteration 4:   log likelihood = -12128.041  \n",
      "\n",
      "Negative binomial regression                            Number of obs =  5,638\n",
      "                                                        LR chi2(6)    = 529.02\n",
      "Dispersion: constant                                    Prob > chi2   = 0.0000\n",
      "Log likelihood = -12128.041                             Pseudo R2     = 0.0213\n",
      "\n",
      "------------------------------------------------------------------------------\n",
      "         mdu | Coefficient  Std. err.      z    P>|z|     [95% conf. interval]\n",
      "-------------+----------------------------------------------------------------\n",
      "      lcoins |   -.076432   .0069326   -11.02   0.000    -.0900197   -.0628442\n",
      "    ndisease |   .0309127   .0019493    15.86   0.000     .0270922    .0347333\n",
      "      female |   .1447002    .029679     4.88   0.000     .0865305    .2028699\n",
      "         age |   .0027029   .0014494     1.86   0.062    -.0001378    .0055436\n",
      "        lfam |  -.1235042   .0276393    -4.47   0.000    -.1776761   -.0693323\n",
      "       child |  -.0049686   .0499784    -0.10   0.921    -.1029245    .0929873\n",
      "       _cons |   .8537349   .0697031    12.25   0.000     .7171195    .9903504\n",
      "-------------+----------------------------------------------------------------\n",
      "    /lndelta |   1.278115   .0319841                      1.215427    1.340802\n",
      "-------------+----------------------------------------------------------------\n",
      "       delta |   3.589865   .1148187                      3.371733    3.822109\n",
      "------------------------------------------------------------------------------\n",
      "LR test of delta=0: chibar2(01) = 1.0e+04              Prob >= chibar2 = 0.000\n"
     ]
    }
   ],
   "source": [
    "%%stata\n",
    "nbreg mdu lcoins ndisease female age lfam child, dispersion(constant)"
   ]
  },
  {
   "cell_type": "code",
   "execution_count": 31,
   "metadata": {},
   "outputs": [],
   "source": [
    "%%stata\n",
    "estimates store cnegbin1"
   ]
  },
  {
   "cell_type": "code",
   "execution_count": null,
   "metadata": {},
   "outputs": [],
   "source": []
  }
 ],
 "metadata": {
  "kernelspec": {
   "display_name": "Python 3",
   "language": "python",
   "name": "python3"
  },
  "language_info": {
   "codemirror_mode": {
    "name": "ipython",
    "version": 3
   },
   "file_extension": ".py",
   "mimetype": "text/x-python",
   "name": "python",
   "nbconvert_exporter": "python",
   "pygments_lexer": "ipython3",
   "version": "3.11.5"
  },
  "orig_nbformat": 4
 },
 "nbformat": 4,
 "nbformat_minor": 2
}
