{
 "cells": [
  {
   "cell_type": "code",
   "execution_count": 2,
   "metadata": {},
   "outputs": [],
   "source": [
    "import pandas as pd\n",
    "import numpy as np\n",
    "import plotly.graph_objects as go\n",
    "from statsmodels.tsa.seasonal import seasonal_decompose\n",
    "from statsmodels.tsa.arima.model import ARIMA\n",
    "from itertools import product\n",
    "from statsmodels.tsa.stattools import adfuller\n",
    "from statsmodels.graphics.tsaplots import plot_acf,plot_pacf\n",
    "from statsmodels.tsa.statespace.sarimax import SARIMAX\n",
    "from statsmodels.formula.api import ols\n",
    "\n"
   ]
  },
  {
   "attachments": {},
   "cell_type": "markdown",
   "metadata": {},
   "source": [
    "# Data Import and Visualisation\n",
    "- Import data using pandas, and plot using plotly"
   ]
  },
  {
   "cell_type": "code",
   "execution_count": 3,
   "metadata": {},
   "outputs": [],
   "source": [
    "house_df = pd.read_excel(r'/Users/dhruvpandit/Mirror/University/Masters/Semester 2/MacroEcon I/HousePrices.xlsx', index_col='Unnamed: 0')"
   ]
  },
  {
   "cell_type": "code",
   "execution_count": 28,
   "metadata": {},
   "outputs": [
    {
     "data": {
      "application/vnd.plotly.v1+json": {
       "config": {
        "plotlyServerURL": "https://plot.ly"
       },
       "data": [
        {
         "mode": "lines",
         "name": "House Prices",
         "type": "scatter",
         "x": [
          "1988-03-01T00:00:00",
          "1988-06-01T00:00:00",
          "1988-09-01T00:00:00",
          "1988-12-01T00:00:00",
          "1989-03-01T00:00:00",
          "1989-06-01T00:00:00",
          "1989-09-01T00:00:00",
          "1989-12-01T00:00:00",
          "1990-03-01T00:00:00",
          "1990-06-01T00:00:00",
          "1990-09-01T00:00:00",
          "1990-12-01T00:00:00",
          "1991-03-01T00:00:00",
          "1991-06-01T00:00:00",
          "1991-09-01T00:00:00",
          "1991-12-01T00:00:00",
          "1992-03-01T00:00:00",
          "1992-06-01T00:00:00",
          "1992-09-01T00:00:00",
          "1992-12-01T00:00:00",
          "1993-03-01T00:00:00",
          "1993-06-01T00:00:00",
          "1993-09-01T00:00:00",
          "1993-12-01T00:00:00",
          "1994-03-01T00:00:00",
          "1994-06-01T00:00:00",
          "1994-09-01T00:00:00",
          "1994-12-01T00:00:00",
          "1995-03-01T00:00:00",
          "1995-06-01T00:00:00",
          "1995-09-01T00:00:00",
          "1995-12-01T00:00:00",
          "1996-03-01T00:00:00",
          "1996-06-01T00:00:00",
          "1996-09-01T00:00:00",
          "1996-12-01T00:00:00",
          "1997-03-01T00:00:00",
          "1997-06-01T00:00:00",
          "1997-09-01T00:00:00",
          "1997-12-01T00:00:00",
          "1998-03-01T00:00:00",
          "1998-06-01T00:00:00",
          "1998-09-01T00:00:00",
          "1998-12-01T00:00:00",
          "1999-03-01T00:00:00",
          "1999-06-01T00:00:00",
          "1999-09-01T00:00:00",
          "1999-12-01T00:00:00",
          "2000-03-01T00:00:00",
          "2000-06-01T00:00:00",
          "2000-09-01T00:00:00",
          "2000-12-01T00:00:00",
          "2001-03-01T00:00:00",
          "2001-06-01T00:00:00",
          "2001-09-01T00:00:00",
          "2001-12-01T00:00:00",
          "2002-03-01T00:00:00",
          "2002-06-01T00:00:00",
          "2002-09-01T00:00:00",
          "2002-12-01T00:00:00",
          "2003-03-01T00:00:00",
          "2003-06-01T00:00:00",
          "2003-09-01T00:00:00",
          "2003-12-01T00:00:00",
          "2004-03-01T00:00:00",
          "2004-06-01T00:00:00",
          "2004-09-01T00:00:00",
          "2004-12-01T00:00:00",
          "2005-03-01T00:00:00",
          "2005-06-01T00:00:00",
          "2005-09-01T00:00:00",
          "2005-12-01T00:00:00",
          "2006-03-01T00:00:00",
          "2006-06-01T00:00:00",
          "2006-09-01T00:00:00",
          "2006-12-01T00:00:00",
          "2007-03-01T00:00:00",
          "2007-06-01T00:00:00",
          "2007-09-01T00:00:00",
          "2007-12-01T00:00:00",
          "2008-03-01T00:00:00",
          "2008-06-01T00:00:00",
          "2008-09-01T00:00:00",
          "2008-12-01T00:00:00",
          "2009-03-01T00:00:00",
          "2009-06-01T00:00:00",
          "2009-09-01T00:00:00",
          "2009-12-01T00:00:00",
          "2010-03-01T00:00:00",
          "2010-06-01T00:00:00",
          "2010-09-01T00:00:00",
          "2010-12-01T00:00:00",
          "2011-03-01T00:00:00",
          "2011-06-01T00:00:00",
          "2011-09-01T00:00:00",
          "2011-12-01T00:00:00",
          "2012-03-01T00:00:00",
          "2012-06-01T00:00:00",
          "2012-09-01T00:00:00",
          "2012-12-01T00:00:00",
          "2013-03-01T00:00:00",
          "2013-06-01T00:00:00",
          "2013-09-01T00:00:00",
          "2013-12-01T00:00:00",
          "2014-03-01T00:00:00",
          "2014-06-01T00:00:00",
          "2014-09-01T00:00:00",
          "2014-12-01T00:00:00",
          "2015-03-01T00:00:00",
          "2015-06-01T00:00:00",
          "2015-09-01T00:00:00",
          "2015-12-01T00:00:00",
          "2016-03-01T00:00:00",
          "2016-06-01T00:00:00",
          "2016-09-01T00:00:00",
          "2016-12-01T00:00:00",
          "2017-03-01T00:00:00",
          "2017-06-01T00:00:00",
          "2017-09-01T00:00:00",
          "2017-12-01T00:00:00",
          "2018-03-01T00:00:00",
          "2018-06-01T00:00:00",
          "2018-09-01T00:00:00",
          "2018-12-01T00:00:00",
          "2019-03-01T00:00:00",
          "2019-06-01T00:00:00",
          "2019-09-01T00:00:00",
          "2019-12-01T00:00:00",
          "2020-03-01T00:00:00",
          "2020-06-01T00:00:00",
          "2020-09-01T00:00:00",
          "2020-12-01T00:00:00",
          "2021-03-01T00:00:00",
          "2021-06-01T00:00:00",
          "2021-09-01T00:00:00"
         ],
         "y": [
          4.735859076323222,
          4.750483988982088,
          4.763781585556975,
          4.783442794976174,
          4.793314416583107,
          4.79607851221274,
          4.823714407412856,
          4.831472029278411,
          4.820569262415919,
          4.819590406151997,
          4.831062833814452,
          4.827909565227051,
          4.876052147826833,
          4.896555612204262,
          4.9082574797912395,
          4.9219273528645875,
          4.939991429816486,
          4.9435601439802515,
          4.924085357021487,
          4.907851903367239,
          4.902042411394196,
          4.896023068009712,
          4.8739964684696915,
          4.857404288044363,
          4.849481492102501,
          4.8401368178428195,
          4.836331749316743,
          4.8363257255298935,
          4.81566801862183,
          4.8079565353615,
          4.807142809864764,
          4.803365421942844,
          4.802461066868061,
          4.800364983538994,
          4.791289353484734,
          4.792381629193346,
          4.793682264950522,
          4.798088899364882,
          4.807908847225508,
          4.809851398803847,
          4.809002765410788,
          4.814525829500963,
          4.825753130853853,
          4.8375806206123215,
          4.864690220590049,
          4.875938239862752,
          4.895101839415726,
          4.896455080057446,
          4.907364783035066,
          4.91747819035545,
          4.922102438232154,
          4.937600908732477,
          4.93508489545323,
          4.9407437080546535,
          4.937379401025608,
          4.932751648752619,
          4.923660332630648,
          4.915538383874249,
          4.9015166716775544,
          4.892262412144959,
          4.8886225982742895,
          4.885910073829289,
          4.883056501150011,
          4.8789936537056215,
          4.876055991037937,
          4.870587331021186,
          4.865475665207779,
          4.856923725160315,
          4.843903543676409,
          4.850003164611885,
          4.861314611732069,
          4.853084807577505,
          4.843451354155645,
          4.8409646527194,
          4.835615514634727,
          4.832359213922799,
          4.827338747086491,
          4.811850278098993,
          4.814056511636461,
          4.784660835136155,
          4.749372459970675,
          4.744188478668171,
          4.716134721664402,
          4.710065058062995,
          4.729635400774128,
          4.742545085571177,
          4.745122111515028,
          4.744074571074672,
          4.740532821187418,
          4.740124914632101,
          4.7259463607901475,
          4.712506564552436,
          4.696604630458114,
          4.674680057904326,
          4.657750421546614,
          4.619766332044865,
          4.592888683993858,
          4.572454015150952,
          4.557448795444636,
          4.561818982828974,
          4.540541945577858,
          4.537044245396062,
          4.5382597771723505,
          4.56195576114987,
          4.574832905766965,
          4.592098666998003,
          4.587274182402021,
          4.581112082909979,
          4.579639978145479,
          4.611137703992983,
          4.609382160338434,
          4.619862742824017,
          4.637222719456697,
          4.664251715834138,
          4.6723335748836465,
          4.681541631741898,
          4.696866216774397,
          4.72493209541246,
          4.7577876544818665,
          4.7660283164515365,
          4.799728888932076,
          4.816240013471522,
          4.8221811927812315,
          4.838020688085859,
          4.8750830494782935,
          4.897951208252319,
          4.918495789030734,
          4.930235474799732,
          4.968699084625269,
          4.9849261264340585,
          4.977512356897618,
          5.0038081484066295,
          5.026075085182799,
          5.051162974750436,
          5.071585094155133
         ]
        }
       ],
       "layout": {
        "font": {
         "color": "#000000",
         "family": "Futura",
         "size": 14
        },
        "template": {
         "data": {
          "bar": [
           {
            "error_x": {
             "color": "#2a3f5f"
            },
            "error_y": {
             "color": "#2a3f5f"
            },
            "marker": {
             "line": {
              "color": "#E5ECF6",
              "width": 0.5
             },
             "pattern": {
              "fillmode": "overlay",
              "size": 10,
              "solidity": 0.2
             }
            },
            "type": "bar"
           }
          ],
          "barpolar": [
           {
            "marker": {
             "line": {
              "color": "#E5ECF6",
              "width": 0.5
             },
             "pattern": {
              "fillmode": "overlay",
              "size": 10,
              "solidity": 0.2
             }
            },
            "type": "barpolar"
           }
          ],
          "carpet": [
           {
            "aaxis": {
             "endlinecolor": "#2a3f5f",
             "gridcolor": "white",
             "linecolor": "white",
             "minorgridcolor": "white",
             "startlinecolor": "#2a3f5f"
            },
            "baxis": {
             "endlinecolor": "#2a3f5f",
             "gridcolor": "white",
             "linecolor": "white",
             "minorgridcolor": "white",
             "startlinecolor": "#2a3f5f"
            },
            "type": "carpet"
           }
          ],
          "choropleth": [
           {
            "colorbar": {
             "outlinewidth": 0,
             "ticks": ""
            },
            "type": "choropleth"
           }
          ],
          "contour": [
           {
            "colorbar": {
             "outlinewidth": 0,
             "ticks": ""
            },
            "colorscale": [
             [
              0,
              "#0d0887"
             ],
             [
              0.1111111111111111,
              "#46039f"
             ],
             [
              0.2222222222222222,
              "#7201a8"
             ],
             [
              0.3333333333333333,
              "#9c179e"
             ],
             [
              0.4444444444444444,
              "#bd3786"
             ],
             [
              0.5555555555555556,
              "#d8576b"
             ],
             [
              0.6666666666666666,
              "#ed7953"
             ],
             [
              0.7777777777777778,
              "#fb9f3a"
             ],
             [
              0.8888888888888888,
              "#fdca26"
             ],
             [
              1,
              "#f0f921"
             ]
            ],
            "type": "contour"
           }
          ],
          "contourcarpet": [
           {
            "colorbar": {
             "outlinewidth": 0,
             "ticks": ""
            },
            "type": "contourcarpet"
           }
          ],
          "heatmap": [
           {
            "colorbar": {
             "outlinewidth": 0,
             "ticks": ""
            },
            "colorscale": [
             [
              0,
              "#0d0887"
             ],
             [
              0.1111111111111111,
              "#46039f"
             ],
             [
              0.2222222222222222,
              "#7201a8"
             ],
             [
              0.3333333333333333,
              "#9c179e"
             ],
             [
              0.4444444444444444,
              "#bd3786"
             ],
             [
              0.5555555555555556,
              "#d8576b"
             ],
             [
              0.6666666666666666,
              "#ed7953"
             ],
             [
              0.7777777777777778,
              "#fb9f3a"
             ],
             [
              0.8888888888888888,
              "#fdca26"
             ],
             [
              1,
              "#f0f921"
             ]
            ],
            "type": "heatmap"
           }
          ],
          "heatmapgl": [
           {
            "colorbar": {
             "outlinewidth": 0,
             "ticks": ""
            },
            "colorscale": [
             [
              0,
              "#0d0887"
             ],
             [
              0.1111111111111111,
              "#46039f"
             ],
             [
              0.2222222222222222,
              "#7201a8"
             ],
             [
              0.3333333333333333,
              "#9c179e"
             ],
             [
              0.4444444444444444,
              "#bd3786"
             ],
             [
              0.5555555555555556,
              "#d8576b"
             ],
             [
              0.6666666666666666,
              "#ed7953"
             ],
             [
              0.7777777777777778,
              "#fb9f3a"
             ],
             [
              0.8888888888888888,
              "#fdca26"
             ],
             [
              1,
              "#f0f921"
             ]
            ],
            "type": "heatmapgl"
           }
          ],
          "histogram": [
           {
            "marker": {
             "pattern": {
              "fillmode": "overlay",
              "size": 10,
              "solidity": 0.2
             }
            },
            "type": "histogram"
           }
          ],
          "histogram2d": [
           {
            "colorbar": {
             "outlinewidth": 0,
             "ticks": ""
            },
            "colorscale": [
             [
              0,
              "#0d0887"
             ],
             [
              0.1111111111111111,
              "#46039f"
             ],
             [
              0.2222222222222222,
              "#7201a8"
             ],
             [
              0.3333333333333333,
              "#9c179e"
             ],
             [
              0.4444444444444444,
              "#bd3786"
             ],
             [
              0.5555555555555556,
              "#d8576b"
             ],
             [
              0.6666666666666666,
              "#ed7953"
             ],
             [
              0.7777777777777778,
              "#fb9f3a"
             ],
             [
              0.8888888888888888,
              "#fdca26"
             ],
             [
              1,
              "#f0f921"
             ]
            ],
            "type": "histogram2d"
           }
          ],
          "histogram2dcontour": [
           {
            "colorbar": {
             "outlinewidth": 0,
             "ticks": ""
            },
            "colorscale": [
             [
              0,
              "#0d0887"
             ],
             [
              0.1111111111111111,
              "#46039f"
             ],
             [
              0.2222222222222222,
              "#7201a8"
             ],
             [
              0.3333333333333333,
              "#9c179e"
             ],
             [
              0.4444444444444444,
              "#bd3786"
             ],
             [
              0.5555555555555556,
              "#d8576b"
             ],
             [
              0.6666666666666666,
              "#ed7953"
             ],
             [
              0.7777777777777778,
              "#fb9f3a"
             ],
             [
              0.8888888888888888,
              "#fdca26"
             ],
             [
              1,
              "#f0f921"
             ]
            ],
            "type": "histogram2dcontour"
           }
          ],
          "mesh3d": [
           {
            "colorbar": {
             "outlinewidth": 0,
             "ticks": ""
            },
            "type": "mesh3d"
           }
          ],
          "parcoords": [
           {
            "line": {
             "colorbar": {
              "outlinewidth": 0,
              "ticks": ""
             }
            },
            "type": "parcoords"
           }
          ],
          "pie": [
           {
            "automargin": true,
            "type": "pie"
           }
          ],
          "scatter": [
           {
            "fillpattern": {
             "fillmode": "overlay",
             "size": 10,
             "solidity": 0.2
            },
            "type": "scatter"
           }
          ],
          "scatter3d": [
           {
            "line": {
             "colorbar": {
              "outlinewidth": 0,
              "ticks": ""
             }
            },
            "marker": {
             "colorbar": {
              "outlinewidth": 0,
              "ticks": ""
             }
            },
            "type": "scatter3d"
           }
          ],
          "scattercarpet": [
           {
            "marker": {
             "colorbar": {
              "outlinewidth": 0,
              "ticks": ""
             }
            },
            "type": "scattercarpet"
           }
          ],
          "scattergeo": [
           {
            "marker": {
             "colorbar": {
              "outlinewidth": 0,
              "ticks": ""
             }
            },
            "type": "scattergeo"
           }
          ],
          "scattergl": [
           {
            "marker": {
             "colorbar": {
              "outlinewidth": 0,
              "ticks": ""
             }
            },
            "type": "scattergl"
           }
          ],
          "scattermapbox": [
           {
            "marker": {
             "colorbar": {
              "outlinewidth": 0,
              "ticks": ""
             }
            },
            "type": "scattermapbox"
           }
          ],
          "scatterpolar": [
           {
            "marker": {
             "colorbar": {
              "outlinewidth": 0,
              "ticks": ""
             }
            },
            "type": "scatterpolar"
           }
          ],
          "scatterpolargl": [
           {
            "marker": {
             "colorbar": {
              "outlinewidth": 0,
              "ticks": ""
             }
            },
            "type": "scatterpolargl"
           }
          ],
          "scatterternary": [
           {
            "marker": {
             "colorbar": {
              "outlinewidth": 0,
              "ticks": ""
             }
            },
            "type": "scatterternary"
           }
          ],
          "surface": [
           {
            "colorbar": {
             "outlinewidth": 0,
             "ticks": ""
            },
            "colorscale": [
             [
              0,
              "#0d0887"
             ],
             [
              0.1111111111111111,
              "#46039f"
             ],
             [
              0.2222222222222222,
              "#7201a8"
             ],
             [
              0.3333333333333333,
              "#9c179e"
             ],
             [
              0.4444444444444444,
              "#bd3786"
             ],
             [
              0.5555555555555556,
              "#d8576b"
             ],
             [
              0.6666666666666666,
              "#ed7953"
             ],
             [
              0.7777777777777778,
              "#fb9f3a"
             ],
             [
              0.8888888888888888,
              "#fdca26"
             ],
             [
              1,
              "#f0f921"
             ]
            ],
            "type": "surface"
           }
          ],
          "table": [
           {
            "cells": {
             "fill": {
              "color": "#EBF0F8"
             },
             "line": {
              "color": "white"
             }
            },
            "header": {
             "fill": {
              "color": "#C8D4E3"
             },
             "line": {
              "color": "white"
             }
            },
            "type": "table"
           }
          ]
         },
         "layout": {
          "annotationdefaults": {
           "arrowcolor": "#2a3f5f",
           "arrowhead": 0,
           "arrowwidth": 1
          },
          "autotypenumbers": "strict",
          "coloraxis": {
           "colorbar": {
            "outlinewidth": 0,
            "ticks": ""
           }
          },
          "colorscale": {
           "diverging": [
            [
             0,
             "#8e0152"
            ],
            [
             0.1,
             "#c51b7d"
            ],
            [
             0.2,
             "#de77ae"
            ],
            [
             0.3,
             "#f1b6da"
            ],
            [
             0.4,
             "#fde0ef"
            ],
            [
             0.5,
             "#f7f7f7"
            ],
            [
             0.6,
             "#e6f5d0"
            ],
            [
             0.7,
             "#b8e186"
            ],
            [
             0.8,
             "#7fbc41"
            ],
            [
             0.9,
             "#4d9221"
            ],
            [
             1,
             "#276419"
            ]
           ],
           "sequential": [
            [
             0,
             "#0d0887"
            ],
            [
             0.1111111111111111,
             "#46039f"
            ],
            [
             0.2222222222222222,
             "#7201a8"
            ],
            [
             0.3333333333333333,
             "#9c179e"
            ],
            [
             0.4444444444444444,
             "#bd3786"
            ],
            [
             0.5555555555555556,
             "#d8576b"
            ],
            [
             0.6666666666666666,
             "#ed7953"
            ],
            [
             0.7777777777777778,
             "#fb9f3a"
            ],
            [
             0.8888888888888888,
             "#fdca26"
            ],
            [
             1,
             "#f0f921"
            ]
           ],
           "sequentialminus": [
            [
             0,
             "#0d0887"
            ],
            [
             0.1111111111111111,
             "#46039f"
            ],
            [
             0.2222222222222222,
             "#7201a8"
            ],
            [
             0.3333333333333333,
             "#9c179e"
            ],
            [
             0.4444444444444444,
             "#bd3786"
            ],
            [
             0.5555555555555556,
             "#d8576b"
            ],
            [
             0.6666666666666666,
             "#ed7953"
            ],
            [
             0.7777777777777778,
             "#fb9f3a"
            ],
            [
             0.8888888888888888,
             "#fdca26"
            ],
            [
             1,
             "#f0f921"
            ]
           ]
          },
          "colorway": [
           "#636efa",
           "#EF553B",
           "#00cc96",
           "#ab63fa",
           "#FFA15A",
           "#19d3f3",
           "#FF6692",
           "#B6E880",
           "#FF97FF",
           "#FECB52"
          ],
          "font": {
           "color": "#2a3f5f"
          },
          "geo": {
           "bgcolor": "white",
           "lakecolor": "white",
           "landcolor": "#E5ECF6",
           "showlakes": true,
           "showland": true,
           "subunitcolor": "white"
          },
          "hoverlabel": {
           "align": "left"
          },
          "hovermode": "closest",
          "mapbox": {
           "style": "light"
          },
          "paper_bgcolor": "white",
          "plot_bgcolor": "#E5ECF6",
          "polar": {
           "angularaxis": {
            "gridcolor": "white",
            "linecolor": "white",
            "ticks": ""
           },
           "bgcolor": "#E5ECF6",
           "radialaxis": {
            "gridcolor": "white",
            "linecolor": "white",
            "ticks": ""
           }
          },
          "scene": {
           "xaxis": {
            "backgroundcolor": "#E5ECF6",
            "gridcolor": "white",
            "gridwidth": 2,
            "linecolor": "white",
            "showbackground": true,
            "ticks": "",
            "zerolinecolor": "white"
           },
           "yaxis": {
            "backgroundcolor": "#E5ECF6",
            "gridcolor": "white",
            "gridwidth": 2,
            "linecolor": "white",
            "showbackground": true,
            "ticks": "",
            "zerolinecolor": "white"
           },
           "zaxis": {
            "backgroundcolor": "#E5ECF6",
            "gridcolor": "white",
            "gridwidth": 2,
            "linecolor": "white",
            "showbackground": true,
            "ticks": "",
            "zerolinecolor": "white"
           }
          },
          "shapedefaults": {
           "line": {
            "color": "#2a3f5f"
           }
          },
          "ternary": {
           "aaxis": {
            "gridcolor": "white",
            "linecolor": "white",
            "ticks": ""
           },
           "baxis": {
            "gridcolor": "white",
            "linecolor": "white",
            "ticks": ""
           },
           "bgcolor": "#E5ECF6",
           "caxis": {
            "gridcolor": "white",
            "linecolor": "white",
            "ticks": ""
           }
          },
          "title": {
           "x": 0.05
          },
          "xaxis": {
           "automargin": true,
           "gridcolor": "white",
           "linecolor": "white",
           "ticks": "",
           "title": {
            "standoff": 15
           },
           "zerolinecolor": "white",
           "zerolinewidth": 2
          },
          "yaxis": {
           "automargin": true,
           "gridcolor": "white",
           "linecolor": "white",
           "ticks": "",
           "title": {
            "standoff": 15
           },
           "zerolinecolor": "white",
           "zerolinewidth": 2
          }
         }
        },
        "title": {
         "text": "House Prices From 1988 to 2021 in Portugal",
         "x": 0.5
        },
        "xaxis": {
         "title": {
          "text": "Year"
         }
        },
        "yaxis": {
         "title": {
          "text": "Price"
         }
        }
       }
      }
     },
     "metadata": {},
     "output_type": "display_data"
    }
   ],
   "source": [
    "fig  = go.Figure()\n",
    "fig.add_trace(go.Scatter(x=house_df.index, y=house_df['PTrpp'],\n",
    "                    mode='lines', name='House Prices', ))\n",
    "fig.update_layout(title={'text':'House Prices From 1988 to 2021 in Portugal', \"x\" : 0.5},\n",
    "                   xaxis_title='Year',\n",
    "                   yaxis_title='Price', font=dict(family='Futura', color='#000000' , size=14))\n"
   ]
  },
  {
   "attachments": {},
   "cell_type": "markdown",
   "metadata": {},
   "source": [
    "# Modelling The Data"
   ]
  },
  {
   "attachments": {},
   "cell_type": "markdown",
   "metadata": {},
   "source": [
    "### Cleaning the data\n",
    "- Define the regressors from the pandas dataframe\n",
    "- Define the independent variable from the dataframe"
   ]
  },
  {
   "cell_type": "code",
   "execution_count": 8,
   "metadata": {},
   "outputs": [],
   "source": [
    "house_df_exog = house_df[['PTgdppercapita', 'PTgfcfhousvol', 'PTloanhpr', 'PTmtgrr', 'PTunemp']]\n",
    "house_price = house_df['PTrpp']"
   ]
  },
  {
   "attachments": {},
   "cell_type": "markdown",
   "metadata": {},
   "source": [
    "### Model Fitting\n",
    "- Add a constant for the MLR model using sm.add_constant and pass in your regressors\n",
    "- Fit the model\n",
    "- "
   ]
  },
  {
   "cell_type": "code",
   "execution_count": 9,
   "metadata": {},
   "outputs": [],
   "source": [
    "import statsmodels.api as sm\n",
    "house_df_exog_sm = sm.add_constant(house_df_exog)\n",
    "model = sm.OLS(house_price, house_df_exog_sm).fit()"
   ]
  },
  {
   "cell_type": "code",
   "execution_count": 10,
   "metadata": {},
   "outputs": [
    {
     "name": "stdout",
     "output_type": "stream",
     "text": [
      "                            OLS Regression Results                            \n",
      "==============================================================================\n",
      "Dep. Variable:                  PTrpp   R-squared:                       0.821\n",
      "Model:                            OLS   Adj. R-squared:                  0.814\n",
      "Method:                 Least Squares   F-statistic:                     118.7\n",
      "Date:                Tue, 28 Feb 2023   Prob (F-statistic):           1.67e-46\n",
      "Time:                        18:52:41   Log-Likelihood:                 214.50\n",
      "No. Observations:                 135   AIC:                            -417.0\n",
      "Df Residuals:                     129   BIC:                            -399.6\n",
      "Df Model:                           5                                         \n",
      "Covariance Type:            nonrobust                                         \n",
      "==================================================================================\n",
      "                     coef    std err          t      P>|t|      [0.025      0.975]\n",
      "----------------------------------------------------------------------------------\n",
      "const              4.7138      0.270     17.487      0.000       4.180       5.247\n",
      "PTgdppercapita     0.1198      0.154      0.776      0.439      -0.186       0.425\n",
      "PTgfcfhousvol      0.0078      0.022      0.355      0.723      -0.036       0.051\n",
      "PTloanhpr          0.0401      0.033      1.230      0.221      -0.024       0.105\n",
      "PTmtgrr           -0.0017      0.003     -0.560      0.577      -0.008       0.004\n",
      "PTunemp           -0.0354      0.003    -10.438      0.000      -0.042      -0.029\n",
      "==============================================================================\n",
      "Omnibus:                        7.617   Durbin-Watson:                   0.111\n",
      "Prob(Omnibus):                  0.022   Jarque-Bera (JB):                7.272\n",
      "Skew:                           0.515   Prob(JB):                       0.0264\n",
      "Kurtosis:                       3.480   Cond. No.                         897.\n",
      "==============================================================================\n",
      "\n",
      "Notes:\n",
      "[1] Standard Errors assume that the covariance matrix of the errors is correctly specified.\n"
     ]
    }
   ],
   "source": [
    "print(model.summary())"
   ]
  },
  {
   "attachments": {},
   "cell_type": "markdown",
   "metadata": {},
   "source": [
    "## Conducting Tests\n",
    "- White test for heteroskedasticity\n",
    "  - Fit model $Y = \\beta_0 + x_1 \\hat{\\beta_1}  ... + x_k \\hat{\\beta_k} + \\hat{u_i}$ and obtain residuals\n",
    "  - Run regression of residuals on regressors : $ \\hat{u_i}= \\tilde{\\beta_0} + x_1 \\tilde{\\beta_1}  ... + x_k \\tilde{\\beta_k} + \\tilde{v_i}$\n",
    "  - Test overall significance : $H_0 : \\tilde{\\beta_k} = 0 ; H_a : alternative$\n",
    "- Breusch pagan test\n",
    "- Durbin watson:\n",
    "  - Can only test autocorrelation of order 1, (jan related to feb, monday related to tuesday etc)\n",
    "  - Can only use it on static models, not dyanmic\n",
    "  - Alternative used: Breusch godfrey\n"
   ]
  },
  {
   "cell_type": "code",
   "execution_count": 11,
   "metadata": {},
   "outputs": [],
   "source": [
    "import statsmodels.stats.diagnostic as smd"
   ]
  },
  {
   "cell_type": "code",
   "execution_count": 34,
   "metadata": {},
   "outputs": [
    {
     "name": "stdout",
     "output_type": "stream",
     "text": [
      "lm: 89.33427593490512 lm_pvalue: 9.68922456485885e-11\n"
     ]
    }
   ],
   "source": [
    "wtest = smd.het_white(resid=model.resid, exog = house_df_exog_sm)\n",
    "print(\"lm:\", wtest[0], \"lm_pvalue:\", wtest[1])"
   ]
  },
  {
   "cell_type": "code",
   "execution_count": 19,
   "metadata": {},
   "outputs": [
    {
     "data": {
      "text/html": [
       "<table class=\"simpletable\">\n",
       "<caption>Robust linear Model Regression Results</caption>\n",
       "<tr>\n",
       "  <th>Dep. Variable:</th>        <td>PTrpp</td>      <th>  No. Observations:  </th> <td>   135</td>\n",
       "</tr>\n",
       "<tr>\n",
       "  <th>Model:</th>                 <td>RLM</td>       <th>  Df Residuals:      </th> <td>   129</td>\n",
       "</tr>\n",
       "<tr>\n",
       "  <th>Method:</th>               <td>IRLS</td>       <th>  Df Model:          </th> <td>     5</td>\n",
       "</tr>\n",
       "<tr>\n",
       "  <th>Norm:</th>             <td>LeastSquares</td>   <th>                     </th>    <td> </td>  \n",
       "</tr>\n",
       "<tr>\n",
       "  <th>Scale Est.:</th>            <td>mad</td>       <th>                     </th>    <td> </td>  \n",
       "</tr>\n",
       "<tr>\n",
       "  <th>Cov Type:</th>              <td>H1</td>        <th>                     </th>    <td> </td>  \n",
       "</tr>\n",
       "<tr>\n",
       "  <th>Date:</th>           <td>Tue, 28 Feb 2023</td> <th>                     </th>    <td> </td>  \n",
       "</tr>\n",
       "<tr>\n",
       "  <th>Time:</th>               <td>19:16:07</td>     <th>                     </th>    <td> </td>  \n",
       "</tr>\n",
       "<tr>\n",
       "  <th>No. Iterations:</th>         <td>2</td>        <th>                     </th>    <td> </td>  \n",
       "</tr>\n",
       "</table>\n",
       "<table class=\"simpletable\">\n",
       "<tr>\n",
       "         <td></td>           <th>coef</th>     <th>std err</th>      <th>z</th>      <th>P>|z|</th>  <th>[0.025</th>    <th>0.975]</th>  \n",
       "</tr>\n",
       "<tr>\n",
       "  <th>const</th>          <td>    4.7138</td> <td>    0.270</td> <td>   17.487</td> <td> 0.000</td> <td>    4.185</td> <td>    5.242</td>\n",
       "</tr>\n",
       "<tr>\n",
       "  <th>PTgdppercapita</th> <td>    0.1198</td> <td>    0.154</td> <td>    0.776</td> <td> 0.438</td> <td>   -0.183</td> <td>    0.422</td>\n",
       "</tr>\n",
       "<tr>\n",
       "  <th>PTgfcfhousvol</th>  <td>    0.0078</td> <td>    0.022</td> <td>    0.355</td> <td> 0.723</td> <td>   -0.035</td> <td>    0.051</td>\n",
       "</tr>\n",
       "<tr>\n",
       "  <th>PTloanhpr</th>      <td>    0.0401</td> <td>    0.033</td> <td>    1.230</td> <td> 0.219</td> <td>   -0.024</td> <td>    0.104</td>\n",
       "</tr>\n",
       "<tr>\n",
       "  <th>PTmtgrr</th>        <td>   -0.0017</td> <td>    0.003</td> <td>   -0.560</td> <td> 0.576</td> <td>   -0.008</td> <td>    0.004</td>\n",
       "</tr>\n",
       "<tr>\n",
       "  <th>PTunemp</th>        <td>   -0.0354</td> <td>    0.003</td> <td>  -10.438</td> <td> 0.000</td> <td>   -0.042</td> <td>   -0.029</td>\n",
       "</tr>\n",
       "</table><br/><br/>If the model instance has been used for another fit with different fit parameters, then the fit options might not be the correct ones anymore ."
      ],
      "text/plain": [
       "<class 'statsmodels.iolib.summary.Summary'>\n",
       "\"\"\"\n",
       "                    Robust linear Model Regression Results                    \n",
       "==============================================================================\n",
       "Dep. Variable:                  PTrpp   No. Observations:                  135\n",
       "Model:                            RLM   Df Residuals:                      129\n",
       "Method:                          IRLS   Df Model:                            5\n",
       "Norm:                    LeastSquares                                         \n",
       "Scale Est.:                       mad                                         \n",
       "Cov Type:                          H1                                         \n",
       "Date:                Tue, 28 Feb 2023                                         \n",
       "Time:                        19:16:07                                         \n",
       "No. Iterations:                     2                                         \n",
       "==================================================================================\n",
       "                     coef    std err          z      P>|z|      [0.025      0.975]\n",
       "----------------------------------------------------------------------------------\n",
       "const              4.7138      0.270     17.487      0.000       4.185       5.242\n",
       "PTgdppercapita     0.1198      0.154      0.776      0.438      -0.183       0.422\n",
       "PTgfcfhousvol      0.0078      0.022      0.355      0.723      -0.035       0.051\n",
       "PTloanhpr          0.0401      0.033      1.230      0.219      -0.024       0.104\n",
       "PTmtgrr           -0.0017      0.003     -0.560      0.576      -0.008       0.004\n",
       "PTunemp           -0.0354      0.003    -10.438      0.000      -0.042      -0.029\n",
       "==================================================================================\n",
       "\n",
       "If the model instance has been used for another fit with different fit parameters, then the fit options might not be the correct ones anymore .\n",
       "\"\"\""
      ]
     },
     "execution_count": 19,
     "metadata": {},
     "output_type": "execute_result"
    }
   ],
   "source": [
    "rlm_model = sm.RLM(house_price, house_df_exog_sm, M=sm.robust.norms.LeastSquares()).fit()\n",
    "\n",
    "rlm_model.summary()"
   ]
  },
  {
   "cell_type": "code",
   "execution_count": null,
   "metadata": {},
   "outputs": [],
   "source": []
  }
 ],
 "metadata": {
  "kernelspec": {
   "display_name": "Python 3",
   "language": "python",
   "name": "python3"
  },
  "language_info": {
   "codemirror_mode": {
    "name": "ipython",
    "version": 3
   },
   "file_extension": ".py",
   "mimetype": "text/x-python",
   "name": "python",
   "nbconvert_exporter": "python",
   "pygments_lexer": "ipython3",
   "version": "3.10.7"
  },
  "orig_nbformat": 4,
  "vscode": {
   "interpreter": {
    "hash": "b0fa6594d8f4cbf19f97940f81e996739fb7646882a419484c72d19e05852a7e"
   }
  }
 },
 "nbformat": 4,
 "nbformat_minor": 2
}
