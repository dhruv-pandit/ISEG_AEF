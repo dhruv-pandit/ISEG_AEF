{
 "cells": [
  {
   "cell_type": "code",
   "execution_count": 5,
   "metadata": {
    "vscode": {
     "languageId": "r"
    }
   },
   "outputs": [
    {
     "name": "stdout",
     "output_type": "stream",
     "text": [
      "\n",
      "The downloaded binary packages are in\n",
      "\t/var/folders/6c/vby383sn3xlg0j_c253f0sf40000gn/T//Rtmp5rV7sf/downloaded_packages\n",
      "\n",
      "The downloaded binary packages are in\n",
      "\t/var/folders/6c/vby383sn3xlg0j_c253f0sf40000gn/T//Rtmp5rV7sf/downloaded_packages\n"
     ]
    }
   ],
   "source": [
    "# Load all necesearry packages\n",
    "library(fpp3) \n",
    "library(quantmod)\n",
    "#library(tsibble)\n",
    "library(zoo)\n",
    "#library(dplyr)\n",
    "#library(ggplot2)\n",
    "library(forecast)\n",
    "#library(pastecs)\n",
    "#install.packages(\"moments\")\n",
    "install.packages('moments')\n",
    "library(moments)\n",
    "#install.packages(\"tseries\")\n",
    "#tseries are very bad, goes against some fpp3 functions\n",
    "#library(tseries)\n",
    "#install.packages(\"sandwich\")\n",
    "library(sandwich)\n",
    "#install.packages(\"rugarch\") \n",
    "library(rugarch)\n",
    "#install.packages(\"gridExtra\") \n",
    "install.packages('moments')\n",
    "\n",
    "library(gridExtra)\n"
   ]
  },
  {
   "attachments": {},
   "cell_type": "markdown",
   "metadata": {},
   "source": [
    "## UBS "
   ]
  },
  {
   "attachments": {},
   "cell_type": "markdown",
   "metadata": {},
   "source": [
    "### UBS Data Cleaning and Transformation"
   ]
  },
  {
   "cell_type": "code",
   "execution_count": 6,
   "metadata": {
    "vscode": {
     "languageId": "r"
    }
   },
   "outputs": [
    {
     "data": {
      "text/html": [
       "'UBS'"
      ],
      "text/latex": [
       "'UBS'"
      ],
      "text/markdown": [
       "'UBS'"
      ],
      "text/plain": [
       "[1] \"UBS\""
      ]
     },
     "metadata": {},
     "output_type": "display_data"
    }
   ],
   "source": [
    "library(quantmod)   # For stock data retrieval\n",
    "library(tsibble)    # For working with time series data\n",
    "library(rugarch)    # For GARCH modeling\n",
    "library(tibble)     # For creating and manipulating data frames\n",
    "\n",
    "symbol_ubs <- \"UBS\"\n",
    "start_date <- \"2018-05-08\"\n",
    "end_date <- \"2023-05-08\" \n",
    "# Retrieve the stock data using quantmod\n",
    "getSymbols(symbol_ubs, from = start_date, to = end_date, src=\"yahoo\")\n",
    "stock_data_ubs <- UBS[, \"UBS.Adjusted\"]\n",
    "log_returns_ubs <- diff(log(stock_data_ubs))\n",
    "log_returns_ubs <- na.omit(log_returns_ubs)  # Remove any missing values"
   ]
  },
  {
   "cell_type": "code",
   "execution_count": 7,
   "metadata": {
    "vscode": {
     "languageId": "r"
    }
   },
   "outputs": [
    {
     "data": {
      "text/html": [
       "<table class=\"dataframe\">\n",
       "<caption>A matrix: 1 × 1 of type dbl</caption>\n",
       "<thead>\n",
       "\t<tr><th></th><th scope=col>UBS.Adjusted</th></tr>\n",
       "</thead>\n",
       "<tbody>\n",
       "\t<tr><th scope=row>VaR</th><td>-0.02117569</td></tr>\n",
       "</tbody>\n",
       "</table>\n"
      ],
      "text/latex": [
       "A matrix: 1 × 1 of type dbl\n",
       "\\begin{tabular}{r|l}\n",
       "  & UBS.Adjusted\\\\\n",
       "\\hline\n",
       "\tVaR & -0.02117569\\\\\n",
       "\\end{tabular}\n"
      ],
      "text/markdown": [
       "\n",
       "A matrix: 1 × 1 of type dbl\n",
       "\n",
       "| <!--/--> | UBS.Adjusted |\n",
       "|---|---|\n",
       "| VaR | -0.02117569 |\n",
       "\n"
      ],
      "text/plain": [
       "    UBS.Adjusted\n",
       "VaR -0.02117569 "
      ]
     },
     "metadata": {},
     "output_type": "display_data"
    },
    {
     "data": {
      "text/html": [
       "<table class=\"dataframe\">\n",
       "<caption>A matrix: 1 × 1 of type dbl</caption>\n",
       "<thead>\n",
       "\t<tr><th></th><th scope=col>UBS.Adjusted</th></tr>\n",
       "</thead>\n",
       "<tbody>\n",
       "\t<tr><th scope=row>VaR</th><td>-0.02985615</td></tr>\n",
       "</tbody>\n",
       "</table>\n"
      ],
      "text/latex": [
       "A matrix: 1 × 1 of type dbl\n",
       "\\begin{tabular}{r|l}\n",
       "  & UBS.Adjusted\\\\\n",
       "\\hline\n",
       "\tVaR & -0.02985615\\\\\n",
       "\\end{tabular}\n"
      ],
      "text/markdown": [
       "\n",
       "A matrix: 1 × 1 of type dbl\n",
       "\n",
       "| <!--/--> | UBS.Adjusted |\n",
       "|---|---|\n",
       "| VaR | -0.02985615 |\n",
       "\n"
      ],
      "text/plain": [
       "    UBS.Adjusted\n",
       "VaR -0.02985615 "
      ]
     },
     "metadata": {},
     "output_type": "display_data"
    },
    {
     "data": {
      "text/html": [
       "<table class=\"dataframe\">\n",
       "<caption>A matrix: 1 × 1 of type dbl</caption>\n",
       "<thead>\n",
       "\t<tr><th></th><th scope=col>UBS.Adjusted</th></tr>\n",
       "</thead>\n",
       "<tbody>\n",
       "\t<tr><th scope=row>VaR</th><td>-0.05506206</td></tr>\n",
       "</tbody>\n",
       "</table>\n"
      ],
      "text/latex": [
       "A matrix: 1 × 1 of type dbl\n",
       "\\begin{tabular}{r|l}\n",
       "  & UBS.Adjusted\\\\\n",
       "\\hline\n",
       "\tVaR & -0.05506206\\\\\n",
       "\\end{tabular}\n"
      ],
      "text/markdown": [
       "\n",
       "A matrix: 1 × 1 of type dbl\n",
       "\n",
       "| <!--/--> | UBS.Adjusted |\n",
       "|---|---|\n",
       "| VaR | -0.05506206 |\n",
       "\n"
      ],
      "text/plain": [
       "    UBS.Adjusted\n",
       "VaR -0.05506206 "
      ]
     },
     "metadata": {},
     "output_type": "display_data"
    }
   ],
   "source": [
    "library(PerformanceAnalytics)\n",
    "\n",
    "VaR(log_returns_ubs,p = 0.90 ,method = \"historical\")\n",
    "VaR(log_returns_ubs,p = 0.95 ,method = \"historical\")\n",
    "VaR(log_returns_ubs,p = 0.99 ,method = \"historical\")\n"
   ]
  },
  {
   "cell_type": "code",
   "execution_count": 11,
   "metadata": {
    "vscode": {
     "languageId": "r"
    }
   },
   "outputs": [],
   "source": [
    "confidence_levels <- c(0.90, 0.95,0.99)"
   ]
  },
  {
   "attachments": {},
   "cell_type": "markdown",
   "metadata": {},
   "source": [
    "### VaR Uncondtional Mean"
   ]
  },
  {
   "attachments": {},
   "cell_type": "markdown",
   "metadata": {},
   "source": [
    "### VaR GARCH (1,1) - Normal Errors w. only a constant in the conditional mean function"
   ]
  },
  {
   "cell_type": "code",
   "execution_count": 12,
   "metadata": {
    "vscode": {
     "languageId": "r"
    }
   },
   "outputs": [
    {
     "data": {
      "text/html": [
       "<table class=\"dataframe\">\n",
       "<caption>A data.frame: 5 × 8</caption>\n",
       "<thead>\n",
       "\t<tr><th scope=col>Conditional_Mean</th><th scope=col>Forecasted_Volatility</th><th scope=col>VaR90</th><th scope=col>VaR95</th><th scope=col>VaR99</th><th scope=col>VaR90Pos</th><th scope=col>VaR95Pos</th><th scope=col>VaR99Pos</th></tr>\n",
       "\t<tr><th scope=col>&lt;dbl[,1]&gt;</th><th scope=col>&lt;dbl&gt;</th><th scope=col>&lt;dbl&gt;</th><th scope=col>&lt;dbl&gt;</th><th scope=col>&lt;dbl&gt;</th><th scope=col>&lt;dbl&gt;</th><th scope=col>&lt;dbl&gt;</th><th scope=col>&lt;dbl&gt;</th></tr>\n",
       "</thead>\n",
       "<tbody>\n",
       "\t<tr><td>0.0005994778</td><td>0.02424541</td><td>0.03167122</td><td>0.04047962</td><td>0.05700273</td><td>316712.2</td><td>404796.2</td><td>570027.3</td></tr>\n",
       "\t<tr><td>0.0005994778</td><td>0.02417418</td><td>0.03157993</td><td>0.04036246</td><td>0.05683702</td><td>315799.3</td><td>403624.6</td><td>568370.2</td></tr>\n",
       "\t<tr><td>0.0005994778</td><td>0.02410487</td><td>0.03149112</td><td>0.04024847</td><td>0.05667580</td><td>314911.2</td><td>402484.7</td><td>566758.0</td></tr>\n",
       "\t<tr><td>0.0005994778</td><td>0.02403745</td><td>0.03140471</td><td>0.04013756</td><td>0.05651895</td><td>314047.1</td><td>401375.6</td><td>565189.5</td></tr>\n",
       "\t<tr><td>0.0005994778</td><td>0.02397186</td><td>0.03132065</td><td>0.04002968</td><td>0.05636636</td><td>313206.5</td><td>400296.8</td><td>563663.6</td></tr>\n",
       "</tbody>\n",
       "</table>\n"
      ],
      "text/latex": [
       "A data.frame: 5 × 8\n",
       "\\begin{tabular}{llllllll}\n",
       " Conditional\\_Mean & Forecasted\\_Volatility & VaR90 & VaR95 & VaR99 & VaR90Pos & VaR95Pos & VaR99Pos\\\\\n",
       " <dbl{[},1{]}> & <dbl> & <dbl> & <dbl> & <dbl> & <dbl> & <dbl> & <dbl>\\\\\n",
       "\\hline\n",
       "\t 0.0005994778 & 0.02424541 & 0.03167122 & 0.04047962 & 0.05700273 & 316712.2 & 404796.2 & 570027.3\\\\\n",
       "\t 0.0005994778 & 0.02417418 & 0.03157993 & 0.04036246 & 0.05683702 & 315799.3 & 403624.6 & 568370.2\\\\\n",
       "\t 0.0005994778 & 0.02410487 & 0.03149112 & 0.04024847 & 0.05667580 & 314911.2 & 402484.7 & 566758.0\\\\\n",
       "\t 0.0005994778 & 0.02403745 & 0.03140471 & 0.04013756 & 0.05651895 & 314047.1 & 401375.6 & 565189.5\\\\\n",
       "\t 0.0005994778 & 0.02397186 & 0.03132065 & 0.04002968 & 0.05636636 & 313206.5 & 400296.8 & 563663.6\\\\\n",
       "\\end{tabular}\n"
      ],
      "text/markdown": [
       "\n",
       "A data.frame: 5 × 8\n",
       "\n",
       "| Conditional_Mean &lt;dbl[,1]&gt; | Forecasted_Volatility &lt;dbl&gt; | VaR90 &lt;dbl&gt; | VaR95 &lt;dbl&gt; | VaR99 &lt;dbl&gt; | VaR90Pos &lt;dbl&gt; | VaR95Pos &lt;dbl&gt; | VaR99Pos &lt;dbl&gt; |\n",
       "|---|---|---|---|---|---|---|---|\n",
       "| 0.0005994778 | 0.02424541 | 0.03167122 | 0.04047962 | 0.05700273 | 316712.2 | 404796.2 | 570027.3 |\n",
       "| 0.0005994778 | 0.02417418 | 0.03157993 | 0.04036246 | 0.05683702 | 315799.3 | 403624.6 | 568370.2 |\n",
       "| 0.0005994778 | 0.02410487 | 0.03149112 | 0.04024847 | 0.05667580 | 314911.2 | 402484.7 | 566758.0 |\n",
       "| 0.0005994778 | 0.02403745 | 0.03140471 | 0.04013756 | 0.05651895 | 314047.1 | 401375.6 | 565189.5 |\n",
       "| 0.0005994778 | 0.02397186 | 0.03132065 | 0.04002968 | 0.05636636 | 313206.5 | 400296.8 | 563663.6 |\n",
       "\n"
      ],
      "text/plain": [
       "  Conditional_Mean Forecasted_Volatility VaR90      VaR95      VaR99     \n",
       "1 0.0005994778     0.02424541            0.03167122 0.04047962 0.05700273\n",
       "2 0.0005994778     0.02417418            0.03157993 0.04036246 0.05683702\n",
       "3 0.0005994778     0.02410487            0.03149112 0.04024847 0.05667580\n",
       "4 0.0005994778     0.02403745            0.03140471 0.04013756 0.05651895\n",
       "5 0.0005994778     0.02397186            0.03132065 0.04002968 0.05636636\n",
       "  VaR90Pos VaR95Pos VaR99Pos\n",
       "1 316712.2 404796.2 570027.3\n",
       "2 315799.3 403624.6 568370.2\n",
       "3 314911.2 402484.7 566758.0\n",
       "4 314047.1 401375.6 565189.5\n",
       "5 313206.5 400296.8 563663.6"
      ]
     },
     "metadata": {},
     "output_type": "display_data"
    }
   ],
   "source": [
    "# Create the GARCH(1,1) model\n",
    "garch_spec_ubs <- ugarchspec(variance.model = list(model = \"sGARCH\", garchOrder = c(1, 1)),\n",
    "                         mean.model = list(armaOrder = c(0, 0), include.mean = TRUE))\n",
    "\n",
    "# Fit the GARCH model to the log returns\n",
    "garch_model_ubs <- ugarchfit(spec = garch_spec_ubs, data = log_returns_ubs)\n",
    "\n",
    "# Step 5: Obtain the forecast for the next 5 trading days\n",
    "forecast_horizon <- 5\n",
    "forecast_ubs <- ugarchforecast(garch_model_ubs, n.ahead = forecast_horizon)\n",
    "forecasted_volatility_ubs <- sigma(forecast_ubs)\n",
    "forecast_tbl_ubs <- tibble(Conditional_Mean = forecast_ubs@forecast$seriesFor, Forecasted_Volatility = forecasted_volatility_ubs[1:forecast_horizon])\n",
    "# Step 6: Obtain the VaR for the next 5 trading days at different confidence levels\n",
    "VaR_ubs <- matrix(0, nrow = forecast_horizon, ncol = length(confidence_levels))\n",
    "\n",
    "for (i in 1:forecast_horizon) {\n",
    "  forecasted_vol <- forecasted_volatility_ubs[i]\n",
    "  VaR_ubs[i, ] <- forecast_ubs@forecast$seriesFor[i] + qnorm(p = c(0.9,0.95,0.99),mean =0,sd=1)*forecast_ubs@forecast$sigmaFor[i]\n",
    "\n",
    "}\n",
    "\n",
    "# Step 7: Calculate the VaR based on a long position of 10 million Euros\n",
    "position <- 10e6\n",
    "VaR_based_on_position_ubs <- position * VaR_ubs\n",
    "\n",
    "# Add VaR columns to the forecast table\n",
    "forecast_tbl_ubs <- cbind(forecast_tbl_ubs, VaR = VaR_ubs, VaR_based_on_position = VaR_based_on_position_ubs)\n",
    "\n",
    "# Print the final forecast table\n",
    "\n",
    "forecast_tbl_ubs <- forecast_tbl_ubs %>%\n",
    "  rename(VaR90 = VaR.1,VaR95 = VaR.2,VaR99 = VaR.3, VaR90Pos = VaR_based_on_position.1,VaR95Pos = VaR_based_on_position.2,VaR99Pos = VaR_based_on_position.3)\n",
    "forecast_tbl_ubs"
   ]
  },
  {
   "attachments": {},
   "cell_type": "markdown",
   "metadata": {},
   "source": [
    "For a GARCH(1,1), with normal errors, we observe that as the confidence level increases from 0.90 to 0.99, the Value at Risk (VaR) for UBS increases. For a long position of 10,000,000 euros, we observe a roughly 80% increase in the VaR as the confidence level increases from 0.9 to 0,99. Conversely, over the five day ahead forecast horizon, the VaR decreases for each associated confidence level, although this is a small decrease of roughly 1%."
   ]
  },
  {
   "attachments": {},
   "cell_type": "markdown",
   "metadata": {},
   "source": [
    "### VaR AR(1)- GARCH (1,1) - Normal Errors"
   ]
  },
  {
   "cell_type": "code",
   "execution_count": 13,
   "metadata": {
    "vscode": {
     "languageId": "r"
    }
   },
   "outputs": [
    {
     "data": {
      "text/html": [
       "<table class=\"dataframe\">\n",
       "<caption>A data.frame: 5 × 8</caption>\n",
       "<thead>\n",
       "\t<tr><th scope=col>Conditional_Mean</th><th scope=col>Forecasted_Volatility</th><th scope=col>VaR90</th><th scope=col>VaR95</th><th scope=col>VaR99</th><th scope=col>VaR90Pos</th><th scope=col>VaR95Pos</th><th scope=col>VaR99Pos</th></tr>\n",
       "\t<tr><th scope=col>&lt;dbl[,1]&gt;</th><th scope=col>&lt;dbl&gt;</th><th scope=col>&lt;dbl&gt;</th><th scope=col>&lt;dbl&gt;</th><th scope=col>&lt;dbl&gt;</th><th scope=col>&lt;dbl&gt;</th><th scope=col>&lt;dbl&gt;</th><th scope=col>&lt;dbl&gt;</th></tr>\n",
       "</thead>\n",
       "<tbody>\n",
       "\t<tr><td>0.0025508311</td><td>0.02443195</td><td>0.03386164</td><td>0.04273782</td><td>0.05938806</td><td>338616.4</td><td>427378.2</td><td>593880.6</td></tr>\n",
       "\t<tr><td>0.0007043788</td><td>0.02436173</td><td>0.03192519</td><td>0.04077585</td><td>0.05737823</td><td>319251.9</td><td>407758.5</td><td>573782.3</td></tr>\n",
       "\t<tr><td>0.0006116090</td><td>0.02429336</td><td>0.03174480</td><td>0.04057063</td><td>0.05712642</td><td>317448.0</td><td>405706.3</td><td>571264.2</td></tr>\n",
       "\t<tr><td>0.0006069480</td><td>0.02422682</td><td>0.03165486</td><td>0.04045652</td><td>0.05696695</td><td>316548.6</td><td>404565.2</td><td>569669.5</td></tr>\n",
       "\t<tr><td>0.0006067138</td><td>0.02416205</td><td>0.03157163</td><td>0.04034975</td><td>0.05681605</td><td>315716.3</td><td>403497.5</td><td>568160.5</td></tr>\n",
       "</tbody>\n",
       "</table>\n"
      ],
      "text/latex": [
       "A data.frame: 5 × 8\n",
       "\\begin{tabular}{llllllll}\n",
       " Conditional\\_Mean & Forecasted\\_Volatility & VaR90 & VaR95 & VaR99 & VaR90Pos & VaR95Pos & VaR99Pos\\\\\n",
       " <dbl{[},1{]}> & <dbl> & <dbl> & <dbl> & <dbl> & <dbl> & <dbl> & <dbl>\\\\\n",
       "\\hline\n",
       "\t 0.0025508311 & 0.02443195 & 0.03386164 & 0.04273782 & 0.05938806 & 338616.4 & 427378.2 & 593880.6\\\\\n",
       "\t 0.0007043788 & 0.02436173 & 0.03192519 & 0.04077585 & 0.05737823 & 319251.9 & 407758.5 & 573782.3\\\\\n",
       "\t 0.0006116090 & 0.02429336 & 0.03174480 & 0.04057063 & 0.05712642 & 317448.0 & 405706.3 & 571264.2\\\\\n",
       "\t 0.0006069480 & 0.02422682 & 0.03165486 & 0.04045652 & 0.05696695 & 316548.6 & 404565.2 & 569669.5\\\\\n",
       "\t 0.0006067138 & 0.02416205 & 0.03157163 & 0.04034975 & 0.05681605 & 315716.3 & 403497.5 & 568160.5\\\\\n",
       "\\end{tabular}\n"
      ],
      "text/markdown": [
       "\n",
       "A data.frame: 5 × 8\n",
       "\n",
       "| Conditional_Mean &lt;dbl[,1]&gt; | Forecasted_Volatility &lt;dbl&gt; | VaR90 &lt;dbl&gt; | VaR95 &lt;dbl&gt; | VaR99 &lt;dbl&gt; | VaR90Pos &lt;dbl&gt; | VaR95Pos &lt;dbl&gt; | VaR99Pos &lt;dbl&gt; |\n",
       "|---|---|---|---|---|---|---|---|\n",
       "| 0.0025508311 | 0.02443195 | 0.03386164 | 0.04273782 | 0.05938806 | 338616.4 | 427378.2 | 593880.6 |\n",
       "| 0.0007043788 | 0.02436173 | 0.03192519 | 0.04077585 | 0.05737823 | 319251.9 | 407758.5 | 573782.3 |\n",
       "| 0.0006116090 | 0.02429336 | 0.03174480 | 0.04057063 | 0.05712642 | 317448.0 | 405706.3 | 571264.2 |\n",
       "| 0.0006069480 | 0.02422682 | 0.03165486 | 0.04045652 | 0.05696695 | 316548.6 | 404565.2 | 569669.5 |\n",
       "| 0.0006067138 | 0.02416205 | 0.03157163 | 0.04034975 | 0.05681605 | 315716.3 | 403497.5 | 568160.5 |\n",
       "\n"
      ],
      "text/plain": [
       "  Conditional_Mean Forecasted_Volatility VaR90      VaR95      VaR99     \n",
       "1 0.0025508311     0.02443195            0.03386164 0.04273782 0.05938806\n",
       "2 0.0007043788     0.02436173            0.03192519 0.04077585 0.05737823\n",
       "3 0.0006116090     0.02429336            0.03174480 0.04057063 0.05712642\n",
       "4 0.0006069480     0.02422682            0.03165486 0.04045652 0.05696695\n",
       "5 0.0006067138     0.02416205            0.03157163 0.04034975 0.05681605\n",
       "  VaR90Pos VaR95Pos VaR99Pos\n",
       "1 338616.4 427378.2 593880.6\n",
       "2 319251.9 407758.5 573782.3\n",
       "3 317448.0 405706.3 571264.2\n",
       "4 316548.6 404565.2 569669.5\n",
       "5 315716.3 403497.5 568160.5"
      ]
     },
     "metadata": {},
     "output_type": "display_data"
    }
   ],
   "source": [
    "garch_spec_ubs <- ugarchspec(variance.model = list(model = \"sGARCH\", garchOrder = c(1, 1)),\n",
    "                         mean.model = list(armaOrder = c(1, 0), include.mean = TRUE))\n",
    "\n",
    "# Fit the GARCH model to the log returns\n",
    "garch_model_ubs <- ugarchfit(spec = garch_spec_ubs, data = log_returns_ubs)\n",
    "\n",
    "# Step 5: Obtain the forecast for the next 5 trading days\n",
    "forecast_horizon <- 5\n",
    "forecast_ubs <- ugarchforecast(garch_model_ubs, n.ahead = forecast_horizon)\n",
    "forecasted_volatility_ubs <- sigma(forecast_ubs)\n",
    "forecast_tbl_ubs <- tibble(Conditional_Mean = forecast_ubs@forecast$seriesFor, Forecasted_Volatility = forecasted_volatility_ubs[1:forecast_horizon])\n",
    "# Step 6: Obtain the VaR for the next 5 trading days at different confidence levels\n",
    "VaR_ubs <- matrix(0, nrow = forecast_horizon, ncol = length(confidence_levels))\n",
    "\n",
    "for (i in 1:forecast_horizon) {\n",
    "  forecasted_vol <- forecasted_volatility_ubs[i]\n",
    "  VaR_ubs[i, ] <- forecast_ubs@forecast$seriesFor[i] + qnorm(p = c(0.9,0.95,0.99),mean =0,sd=1)*forecast_ubs@forecast$sigmaFor[i]\n",
    "\n",
    "}\n",
    "\n",
    "# Step 7: Calculate the VaR based on a long position of 10 million Euros\n",
    "position <- 10e6\n",
    "VaR_based_on_position_ubs <- position * VaR_ubs\n",
    "\n",
    "# Add VaR columns to the forecast table\n",
    "forecast_tbl_ubs <- cbind(forecast_tbl_ubs, VaR = VaR_ubs, VaR_based_on_position = VaR_based_on_position_ubs)\n",
    "\n",
    "# Print the final forecast table\n",
    "forecast_tbl_ubs <- forecast_tbl_ubs %>%\n",
    "  rename(VaR90 = VaR.1,VaR95 = VaR.2,VaR99 = VaR.3, VaR90Pos = VaR_based_on_position.1,VaR95Pos = VaR_based_on_position.2,VaR99Pos = VaR_based_on_position.3)\n",
    "forecast_tbl_ubs\n"
   ]
  },
  {
   "attachments": {},
   "cell_type": "markdown",
   "metadata": {},
   "source": [
    "For an AR(1) - GARCH(1,1), with normal errors, we observe that as the confidence level increases from 0.90 to 0.99, the Value at Risk (VaR) for UBS increases. For a long position of 10,000,000 euros, we observe a roughly 75% increase in the VaR as the confidence level increases from 0.9 to 0,99. Conversely, over the five day ahead forecast horizon, the VaR decreases for each associated confidence level, although this is a small decrease of roughly 1%.\n",
    "When compared to the VaR obtained for the previous GARCH(1,1), we observe a substantially higher VaR at each associated confidence level. For example, the next day VaR at a 0.99 confidence level is approximately 4% larger, or 24,000 euros (approx.). \n"
   ]
  },
  {
   "attachments": {},
   "cell_type": "markdown",
   "metadata": {},
   "source": [
    "### VaR GARCH (1,1) - STD-T Errors w. only a constant in the conditional mean function"
   ]
  },
  {
   "cell_type": "code",
   "execution_count": 14,
   "metadata": {
    "vscode": {
     "languageId": "r"
    }
   },
   "outputs": [
    {
     "data": {
      "text/html": [
       "<table class=\"dataframe\">\n",
       "<caption>A data.frame: 5 × 8</caption>\n",
       "<thead>\n",
       "\t<tr><th scope=col>Conditional_Mean</th><th scope=col>Forecasted_Volatility</th><th scope=col>VaR90</th><th scope=col>VaR95</th><th scope=col>VaR99</th><th scope=col>VaR90Pos</th><th scope=col>VaR95Pos</th><th scope=col>VaR99Pos</th></tr>\n",
       "\t<tr><th scope=col>&lt;dbl[,1]&gt;</th><th scope=col>&lt;dbl&gt;</th><th scope=col>&lt;dbl&gt;</th><th scope=col>&lt;dbl&gt;</th><th scope=col>&lt;dbl&gt;</th><th scope=col>&lt;dbl&gt;</th><th scope=col>&lt;dbl&gt;</th><th scope=col>&lt;dbl&gt;</th></tr>\n",
       "</thead>\n",
       "<tbody>\n",
       "\t<tr><td>0.0006499862</td><td>0.02434466</td><td>0.02820184</td><td>0.03841037</td><td>0.06437974</td><td>282018.4</td><td>384103.7</td><td>643797.4</td></tr>\n",
       "\t<tr><td>0.0006499862</td><td>0.02429423</td><td>0.02814477</td><td>0.03833214</td><td>0.06424772</td><td>281447.7</td><td>383321.4</td><td>642477.2</td></tr>\n",
       "\t<tr><td>0.0006499862</td><td>0.02424507</td><td>0.02808913</td><td>0.03825589</td><td>0.06411903</td><td>280891.3</td><td>382558.9</td><td>641190.3</td></tr>\n",
       "\t<tr><td>0.0006499862</td><td>0.02419715</td><td>0.02803490</td><td>0.03818157</td><td>0.06399360</td><td>280349.0</td><td>381815.7</td><td>639936.0</td></tr>\n",
       "\t<tr><td>0.0006499862</td><td>0.02415045</td><td>0.02798205</td><td>0.03810914</td><td>0.06387135</td><td>279820.5</td><td>381091.4</td><td>638713.5</td></tr>\n",
       "</tbody>\n",
       "</table>\n"
      ],
      "text/latex": [
       "A data.frame: 5 × 8\n",
       "\\begin{tabular}{llllllll}\n",
       " Conditional\\_Mean & Forecasted\\_Volatility & VaR90 & VaR95 & VaR99 & VaR90Pos & VaR95Pos & VaR99Pos\\\\\n",
       " <dbl{[},1{]}> & <dbl> & <dbl> & <dbl> & <dbl> & <dbl> & <dbl> & <dbl>\\\\\n",
       "\\hline\n",
       "\t 0.0006499862 & 0.02434466 & 0.02820184 & 0.03841037 & 0.06437974 & 282018.4 & 384103.7 & 643797.4\\\\\n",
       "\t 0.0006499862 & 0.02429423 & 0.02814477 & 0.03833214 & 0.06424772 & 281447.7 & 383321.4 & 642477.2\\\\\n",
       "\t 0.0006499862 & 0.02424507 & 0.02808913 & 0.03825589 & 0.06411903 & 280891.3 & 382558.9 & 641190.3\\\\\n",
       "\t 0.0006499862 & 0.02419715 & 0.02803490 & 0.03818157 & 0.06399360 & 280349.0 & 381815.7 & 639936.0\\\\\n",
       "\t 0.0006499862 & 0.02415045 & 0.02798205 & 0.03810914 & 0.06387135 & 279820.5 & 381091.4 & 638713.5\\\\\n",
       "\\end{tabular}\n"
      ],
      "text/markdown": [
       "\n",
       "A data.frame: 5 × 8\n",
       "\n",
       "| Conditional_Mean &lt;dbl[,1]&gt; | Forecasted_Volatility &lt;dbl&gt; | VaR90 &lt;dbl&gt; | VaR95 &lt;dbl&gt; | VaR99 &lt;dbl&gt; | VaR90Pos &lt;dbl&gt; | VaR95Pos &lt;dbl&gt; | VaR99Pos &lt;dbl&gt; |\n",
       "|---|---|---|---|---|---|---|---|\n",
       "| 0.0006499862 | 0.02434466 | 0.02820184 | 0.03841037 | 0.06437974 | 282018.4 | 384103.7 | 643797.4 |\n",
       "| 0.0006499862 | 0.02429423 | 0.02814477 | 0.03833214 | 0.06424772 | 281447.7 | 383321.4 | 642477.2 |\n",
       "| 0.0006499862 | 0.02424507 | 0.02808913 | 0.03825589 | 0.06411903 | 280891.3 | 382558.9 | 641190.3 |\n",
       "| 0.0006499862 | 0.02419715 | 0.02803490 | 0.03818157 | 0.06399360 | 280349.0 | 381815.7 | 639936.0 |\n",
       "| 0.0006499862 | 0.02415045 | 0.02798205 | 0.03810914 | 0.06387135 | 279820.5 | 381091.4 | 638713.5 |\n",
       "\n"
      ],
      "text/plain": [
       "  Conditional_Mean Forecasted_Volatility VaR90      VaR95      VaR99     \n",
       "1 0.0006499862     0.02434466            0.02820184 0.03841037 0.06437974\n",
       "2 0.0006499862     0.02429423            0.02814477 0.03833214 0.06424772\n",
       "3 0.0006499862     0.02424507            0.02808913 0.03825589 0.06411903\n",
       "4 0.0006499862     0.02419715            0.02803490 0.03818157 0.06399360\n",
       "5 0.0006499862     0.02415045            0.02798205 0.03810914 0.06387135\n",
       "  VaR90Pos VaR95Pos VaR99Pos\n",
       "1 282018.4 384103.7 643797.4\n",
       "2 281447.7 383321.4 642477.2\n",
       "3 280891.3 382558.9 641190.3\n",
       "4 280349.0 381815.7 639936.0\n",
       "5 279820.5 381091.4 638713.5"
      ]
     },
     "metadata": {},
     "output_type": "display_data"
    }
   ],
   "source": [
    "# Create the GARCH(1,1) model\n",
    "garch_spec_ubs <- ugarchspec(variance.model = list(model = \"sGARCH\", garchOrder = c(1, 1)),\n",
    "                         mean.model = list(armaOrder = c(0, 0), include.mean = TRUE), distribution.model = 'std')\n",
    "\n",
    "# Fit the GARCH model to the log returns\n",
    "garch_model_ubs <- ugarchfit(spec = garch_spec_ubs, data = log_returns_ubs)\n",
    "\n",
    "# Step 5: Obtain the forecast for the next 5 trading days\n",
    "forecast_horizon <- 5\n",
    "forecast_ubs <- ugarchforecast(garch_model_ubs, n.ahead = forecast_horizon)\n",
    "forecasted_volatility_ubs <- sigma(forecast_ubs)\n",
    "forecast_tbl_tdist_ubs <- tibble(Conditional_Mean = forecast_ubs@forecast$seriesFor, Forecasted_Volatility = forecasted_volatility_ubs[1:forecast_horizon])\n",
    "# Step 6: Obtain the VaR for the next 5 trading days at different confidence levels\n",
    "VaR_tdist_ubs <- matrix(0, nrow = forecast_horizon, ncol = length(confidence_levels))\n",
    "\n",
    "for (i in 1:forecast_horizon) {\n",
    "  forecasted_vol <- forecasted_volatility_ubs[i]\n",
    "  VaR_tdist_ubs[i, ] <- forecast_ubs@forecast$seriesFor[i] + forecast_ubs@forecast$sigmaFor[i]* qdist(distribution='std', shape=garch_model_ubs@fit[[\"coef\"]][[\"shape\"]], p=c(0.90,0.95,0.99))\n",
    "\n",
    "}\n",
    "\n",
    "# Step 7: Calculate the VaR based on a long position of 10 million Euros\n",
    "position <- 10e6\n",
    "VaR_based_on_position_tdis_ubs <- position * VaR_tdist_ubs\n",
    "\n",
    "# Add VaR columns to the forecast table\n",
    "forecast_tbl_tdist_ubs <- cbind(forecast_tbl_tdist_ubs, VaR = VaR_tdist_ubs, VaR_based_on_position = VaR_based_on_position_tdis_ubs)\n",
    "\n",
    "# Print the final forecast table\n",
    "forecast_tbl_tdist_ubs <- forecast_tbl_tdist_ubs %>%\n",
    "  rename(VaR90 = VaR.1,VaR95 = VaR.2,VaR99 = VaR.3, VaR90Pos = VaR_based_on_position.1,VaR95Pos = VaR_based_on_position.2,VaR99Pos = VaR_based_on_position.3)\n",
    "forecast_tbl_tdist_ubs\n"
   ]
  },
  {
   "attachments": {},
   "cell_type": "markdown",
   "metadata": {},
   "source": [
    "For an GARCH(1,1), with student t errors, we observe that as the confidence level increases from 0.90 to 0.99, the Value at Risk (VaR) for UBS also increases. For a long position of 10,000,000 euros, the we observe a roughly 128% increase in the VaR as the confidence level increases from 0.9 to 0,99. Conversely, over the five day ahead forecast horizon, the VaR decreases for each associated confidence level, although this is a small decrease of roughly 1%.\n",
    "When compared to the VaR obtained for the previous GARCH(1,1) with normal errors, we observe a significantly higher VaR at a confidence level of 0.99 (12%; approx 73,000 euros), although the VaR at a confidence level of 0.90 is lower when compared to the GARCH model with normal errors. "
   ]
  },
  {
   "attachments": {},
   "cell_type": "markdown",
   "metadata": {},
   "source": [
    "### VaR AR(1) - GARCH (1,1) - STD-T Errors"
   ]
  },
  {
   "cell_type": "code",
   "execution_count": 15,
   "metadata": {
    "vscode": {
     "languageId": "r"
    }
   },
   "outputs": [
    {
     "data": {
      "text/html": [
       "<table class=\"dataframe\">\n",
       "<caption>A data.frame: 5 × 8</caption>\n",
       "<thead>\n",
       "\t<tr><th scope=col>Conditional_Mean</th><th scope=col>Forecasted_Volatility</th><th scope=col>VaR90</th><th scope=col>VaR95</th><th scope=col>VaR99</th><th scope=col>VaR90Pos</th><th scope=col>VaR95Pos</th><th scope=col>VaR99Pos</th></tr>\n",
       "\t<tr><th scope=col>&lt;dbl[,1]&gt;</th><th scope=col>&lt;dbl&gt;</th><th scope=col>&lt;dbl&gt;</th><th scope=col>&lt;dbl&gt;</th><th scope=col>&lt;dbl&gt;</th><th scope=col>&lt;dbl&gt;</th><th scope=col>&lt;dbl&gt;</th><th scope=col>&lt;dbl&gt;</th></tr>\n",
       "</thead>\n",
       "<tbody>\n",
       "\t<tr><td>0.0006543906</td><td>0.02434648</td><td>0.02820750</td><td>0.03841690</td><td>0.06438966</td><td>282075.0</td><td>384169.0</td><td>643896.6</td></tr>\n",
       "\t<tr><td>0.0006496488</td><td>0.02429620</td><td>0.02814585</td><td>0.03833416</td><td>0.06425327</td><td>281458.5</td><td>383341.6</td><td>642532.7</td></tr>\n",
       "\t<tr><td>0.0006496482</td><td>0.02424718</td><td>0.02809038</td><td>0.03825814</td><td>0.06412496</td><td>280903.8</td><td>382581.4</td><td>641249.6</td></tr>\n",
       "\t<tr><td>0.0006496482</td><td>0.02419941</td><td>0.02803632</td><td>0.03818404</td><td>0.06399990</td><td>280363.2</td><td>381840.4</td><td>639999.0</td></tr>\n",
       "\t<tr><td>0.0006496482</td><td>0.02415285</td><td>0.02798363</td><td>0.03811183</td><td>0.06387802</td><td>279836.3</td><td>381118.3</td><td>638780.2</td></tr>\n",
       "</tbody>\n",
       "</table>\n"
      ],
      "text/latex": [
       "A data.frame: 5 × 8\n",
       "\\begin{tabular}{llllllll}\n",
       " Conditional\\_Mean & Forecasted\\_Volatility & VaR90 & VaR95 & VaR99 & VaR90Pos & VaR95Pos & VaR99Pos\\\\\n",
       " <dbl{[},1{]}> & <dbl> & <dbl> & <dbl> & <dbl> & <dbl> & <dbl> & <dbl>\\\\\n",
       "\\hline\n",
       "\t 0.0006543906 & 0.02434648 & 0.02820750 & 0.03841690 & 0.06438966 & 282075.0 & 384169.0 & 643896.6\\\\\n",
       "\t 0.0006496488 & 0.02429620 & 0.02814585 & 0.03833416 & 0.06425327 & 281458.5 & 383341.6 & 642532.7\\\\\n",
       "\t 0.0006496482 & 0.02424718 & 0.02809038 & 0.03825814 & 0.06412496 & 280903.8 & 382581.4 & 641249.6\\\\\n",
       "\t 0.0006496482 & 0.02419941 & 0.02803632 & 0.03818404 & 0.06399990 & 280363.2 & 381840.4 & 639999.0\\\\\n",
       "\t 0.0006496482 & 0.02415285 & 0.02798363 & 0.03811183 & 0.06387802 & 279836.3 & 381118.3 & 638780.2\\\\\n",
       "\\end{tabular}\n"
      ],
      "text/markdown": [
       "\n",
       "A data.frame: 5 × 8\n",
       "\n",
       "| Conditional_Mean &lt;dbl[,1]&gt; | Forecasted_Volatility &lt;dbl&gt; | VaR90 &lt;dbl&gt; | VaR95 &lt;dbl&gt; | VaR99 &lt;dbl&gt; | VaR90Pos &lt;dbl&gt; | VaR95Pos &lt;dbl&gt; | VaR99Pos &lt;dbl&gt; |\n",
       "|---|---|---|---|---|---|---|---|\n",
       "| 0.0006543906 | 0.02434648 | 0.02820750 | 0.03841690 | 0.06438966 | 282075.0 | 384169.0 | 643896.6 |\n",
       "| 0.0006496488 | 0.02429620 | 0.02814585 | 0.03833416 | 0.06425327 | 281458.5 | 383341.6 | 642532.7 |\n",
       "| 0.0006496482 | 0.02424718 | 0.02809038 | 0.03825814 | 0.06412496 | 280903.8 | 382581.4 | 641249.6 |\n",
       "| 0.0006496482 | 0.02419941 | 0.02803632 | 0.03818404 | 0.06399990 | 280363.2 | 381840.4 | 639999.0 |\n",
       "| 0.0006496482 | 0.02415285 | 0.02798363 | 0.03811183 | 0.06387802 | 279836.3 | 381118.3 | 638780.2 |\n",
       "\n"
      ],
      "text/plain": [
       "  Conditional_Mean Forecasted_Volatility VaR90      VaR95      VaR99     \n",
       "1 0.0006543906     0.02434648            0.02820750 0.03841690 0.06438966\n",
       "2 0.0006496488     0.02429620            0.02814585 0.03833416 0.06425327\n",
       "3 0.0006496482     0.02424718            0.02809038 0.03825814 0.06412496\n",
       "4 0.0006496482     0.02419941            0.02803632 0.03818404 0.06399990\n",
       "5 0.0006496482     0.02415285            0.02798363 0.03811183 0.06387802\n",
       "  VaR90Pos VaR95Pos VaR99Pos\n",
       "1 282075.0 384169.0 643896.6\n",
       "2 281458.5 383341.6 642532.7\n",
       "3 280903.8 382581.4 641249.6\n",
       "4 280363.2 381840.4 639999.0\n",
       "5 279836.3 381118.3 638780.2"
      ]
     },
     "metadata": {},
     "output_type": "display_data"
    }
   ],
   "source": [
    "# Create the GARCH(1,1) model\n",
    "garch_spec_ubs <- ugarchspec(variance.model = list(model = \"sGARCH\", garchOrder = c(1, 1)),\n",
    "                         mean.model = list(armaOrder = c(1, 0), include.mean = TRUE), distribution.model = 'std')\n",
    "\n",
    "# Fit the GARCH model to the log returns\n",
    "garch_model_ubs_ar <- ugarchfit(spec = garch_spec_ubs, data = log_returns_ubs)\n",
    "\n",
    "# Step 5: Obtain the forecast for the next 5 trading days\n",
    "forecast_horizon <- 5\n",
    "forecast_ubs_ar <- ugarchforecast(garch_model_ubs_ar, n.ahead = forecast_horizon)\n",
    "forecasted_volatility_ar_ubs <- sigma(forecast_ubs_ar)\n",
    "forecast_tbl_ubs_ar <- tibble(Conditional_Mean = forecast_ubs_ar@forecast$seriesFor, Forecasted_Volatility = forecasted_volatility_ar_ubs[1:forecast_horizon])\n",
    "# Step 6: Obtain the VaR for the next 5 trading days at different confidence levels\n",
    "VaR_ar <- matrix(0, nrow = forecast_horizon, ncol = length(confidence_levels))\n",
    "\n",
    "for (i in 1:forecast_horizon) {\n",
    "  forecasted_vol <- forecasted_volatility_ar_ubs[i]\n",
    "  VaR_ar[i, ] <- forecast_ubs_ar@forecast$seriesFor[i] + forecast_ubs_ar@forecast$sigmaFor[i]* qdist(distribution='std', shape=garch_model_ubs_ar@fit[[\"coef\"]][[\"shape\"]], p=c(0.90,0.95,0.99))\n",
    "\n",
    "}\n",
    "\n",
    "# Step 7: Calculate the VaR based on a long position of 10 million Euros\n",
    "position <- 10e6\n",
    "VaR_based_on_position_ar <- position * VaR_ar\n",
    "\n",
    "# Add VaR columns to the forecast table\n",
    "forecast_tbl_ubs_ar <- cbind(forecast_tbl_ubs_ar, VaR = VaR_ar, VaR_based_on_position = VaR_based_on_position_ar)\n",
    "\n",
    "# Print the final forecast table\n",
    "forecast_tbl_ubs_ar <- forecast_tbl_ubs_ar %>%\n",
    "  rename(VaR90 = VaR.1,VaR95 = VaR.2,VaR99 = VaR.3, VaR90Pos = VaR_based_on_position.1,VaR95Pos = VaR_based_on_position.2,VaR99Pos = VaR_based_on_position.3)\n",
    "forecast_tbl_ubs_ar\n"
   ]
  },
  {
   "cell_type": "code",
   "execution_count": 16,
   "metadata": {
    "vscode": {
     "languageId": "r"
    }
   },
   "outputs": [
    {
     "data": {
      "text/html": [
       "56533.9"
      ],
      "text/latex": [
       "56533.9"
      ],
      "text/markdown": [
       "56533.9"
      ],
      "text/plain": [
       "[1] 56533.9"
      ]
     },
     "metadata": {},
     "output_type": "display_data"
    }
   ],
   "source": [
    "(338609.8 - 282075.9) #/ 282075.9"
   ]
  },
  {
   "attachments": {},
   "cell_type": "markdown",
   "metadata": {},
   "source": [
    "For an AR(1) - GARCH(1,1), with student t errors, we observe that as the confidence level increases from 0.90 to 0.99, the Value at Risk (VaR) for UBS also increases. For a long position of 10,000,000 euros, we observe a roughly 128% increase in the VaR as the confidence level increases from 0.9 to 0,99. Conversely, over the five day ahead forecast horizon, the VaR decreases for each associated confidence level, although this is a small decrease of roughly 1%.\n",
    "When compared to the VaR obtained for the previous AR(1) - GARCH(1,1) with normal errors, we observe a significantly higher VaR at a confidence level of 0.99 (8%; approx 50,000 euros), although the VaR at a confidence level of 0.90 is lower when compared to the model with normal errors.  "
   ]
  },
  {
   "attachments": {},
   "cell_type": "markdown",
   "metadata": {},
   "source": [
    "### VaR AR(1) - GARCH-M (1,1) - STD-T Errors"
   ]
  },
  {
   "cell_type": "code",
   "execution_count": 20,
   "metadata": {
    "vscode": {
     "languageId": "r"
    }
   },
   "outputs": [
    {
     "data": {
      "text/html": [
       "<table class=\"dataframe\">\n",
       "<caption>A data.frame: 5 × 8</caption>\n",
       "<thead>\n",
       "\t<tr><th scope=col>Conditional_Mean</th><th scope=col>Forecasted_Volatility</th><th scope=col>VaR90</th><th scope=col>VaR95</th><th scope=col>VaR99</th><th scope=col>VaR90Pos</th><th scope=col>VaR95Pos</th><th scope=col>VaR99Pos</th></tr>\n",
       "\t<tr><th scope=col>&lt;dbl[,1]&gt;</th><th scope=col>&lt;dbl&gt;</th><th scope=col>&lt;dbl&gt;</th><th scope=col>&lt;dbl&gt;</th><th scope=col>&lt;dbl&gt;</th><th scope=col>&lt;dbl&gt;</th><th scope=col>&lt;dbl&gt;</th><th scope=col>&lt;dbl&gt;</th></tr>\n",
       "</thead>\n",
       "<tbody>\n",
       "\t<tr><td>0.001629116</td><td>0.02436145</td><td>0.02925309</td><td>0.03946138</td><td>0.06535313</td><td>292530.9</td><td>394613.8</td><td>653531.3</td></tr>\n",
       "\t<tr><td>0.001714897</td><td>0.02431110</td><td>0.02928177</td><td>0.03946896</td><td>0.06530720</td><td>292817.7</td><td>394689.6</td><td>653072.0</td></tr>\n",
       "\t<tr><td>0.001708141</td><td>0.02426197</td><td>0.02921930</td><td>0.03938590</td><td>0.06517192</td><td>292193.0</td><td>393859.0</td><td>651719.2</td></tr>\n",
       "\t<tr><td>0.001701768</td><td>0.02421403</td><td>0.02915857</td><td>0.03930508</td><td>0.06504016</td><td>291585.7</td><td>393050.8</td><td>650401.6</td></tr>\n",
       "\t<tr><td>0.001695550</td><td>0.02416726</td><td>0.02909932</td><td>0.03922623</td><td>0.06491160</td><td>290993.2</td><td>392262.3</td><td>649116.0</td></tr>\n",
       "</tbody>\n",
       "</table>\n"
      ],
      "text/latex": [
       "A data.frame: 5 × 8\n",
       "\\begin{tabular}{llllllll}\n",
       " Conditional\\_Mean & Forecasted\\_Volatility & VaR90 & VaR95 & VaR99 & VaR90Pos & VaR95Pos & VaR99Pos\\\\\n",
       " <dbl{[},1{]}> & <dbl> & <dbl> & <dbl> & <dbl> & <dbl> & <dbl> & <dbl>\\\\\n",
       "\\hline\n",
       "\t 0.001629116 & 0.02436145 & 0.02925309 & 0.03946138 & 0.06535313 & 292530.9 & 394613.8 & 653531.3\\\\\n",
       "\t 0.001714897 & 0.02431110 & 0.02928177 & 0.03946896 & 0.06530720 & 292817.7 & 394689.6 & 653072.0\\\\\n",
       "\t 0.001708141 & 0.02426197 & 0.02921930 & 0.03938590 & 0.06517192 & 292193.0 & 393859.0 & 651719.2\\\\\n",
       "\t 0.001701768 & 0.02421403 & 0.02915857 & 0.03930508 & 0.06504016 & 291585.7 & 393050.8 & 650401.6\\\\\n",
       "\t 0.001695550 & 0.02416726 & 0.02909932 & 0.03922623 & 0.06491160 & 290993.2 & 392262.3 & 649116.0\\\\\n",
       "\\end{tabular}\n"
      ],
      "text/markdown": [
       "\n",
       "A data.frame: 5 × 8\n",
       "\n",
       "| Conditional_Mean &lt;dbl[,1]&gt; | Forecasted_Volatility &lt;dbl&gt; | VaR90 &lt;dbl&gt; | VaR95 &lt;dbl&gt; | VaR99 &lt;dbl&gt; | VaR90Pos &lt;dbl&gt; | VaR95Pos &lt;dbl&gt; | VaR99Pos &lt;dbl&gt; |\n",
       "|---|---|---|---|---|---|---|---|\n",
       "| 0.001629116 | 0.02436145 | 0.02925309 | 0.03946138 | 0.06535313 | 292530.9 | 394613.8 | 653531.3 |\n",
       "| 0.001714897 | 0.02431110 | 0.02928177 | 0.03946896 | 0.06530720 | 292817.7 | 394689.6 | 653072.0 |\n",
       "| 0.001708141 | 0.02426197 | 0.02921930 | 0.03938590 | 0.06517192 | 292193.0 | 393859.0 | 651719.2 |\n",
       "| 0.001701768 | 0.02421403 | 0.02915857 | 0.03930508 | 0.06504016 | 291585.7 | 393050.8 | 650401.6 |\n",
       "| 0.001695550 | 0.02416726 | 0.02909932 | 0.03922623 | 0.06491160 | 290993.2 | 392262.3 | 649116.0 |\n",
       "\n"
      ],
      "text/plain": [
       "  Conditional_Mean Forecasted_Volatility VaR90      VaR95      VaR99     \n",
       "1 0.001629116      0.02436145            0.02925309 0.03946138 0.06535313\n",
       "2 0.001714897      0.02431110            0.02928177 0.03946896 0.06530720\n",
       "3 0.001708141      0.02426197            0.02921930 0.03938590 0.06517192\n",
       "4 0.001701768      0.02421403            0.02915857 0.03930508 0.06504016\n",
       "5 0.001695550      0.02416726            0.02909932 0.03922623 0.06491160\n",
       "  VaR90Pos VaR95Pos VaR99Pos\n",
       "1 292530.9 394613.8 653531.3\n",
       "2 292817.7 394689.6 653072.0\n",
       "3 292193.0 393859.0 651719.2\n",
       "4 291585.7 393050.8 650401.6\n",
       "5 290993.2 392262.3 649116.0"
      ]
     },
     "metadata": {},
     "output_type": "display_data"
    }
   ],
   "source": [
    "# Create the GARCH(1,1) model\n",
    "garch_spec_ubs <- ugarchspec(variance.model = list(model = \"sGARCH\", garchOrder = c(1, 1)),\n",
    "                         mean.model = list(armaOrder = c(1, 0), include.mean = TRUE, archm = TRUE), distribution.model = 'std')\n",
    "\n",
    "# Fit the GARCH model to the log returns\n",
    "garch_model_ubs_gm_tdist <- ugarchfit(spec = garch_spec_ubs, data = log_returns_ubs)\n",
    "\n",
    "# Step 5: Obtain the forecast for the next 5 trading days\n",
    "forecast_horizon <- 5\n",
    "forecast_ubs_gm_tdist <- ugarchforecast(garch_model_ubs_gm_tdist, n.ahead = forecast_horizon)\n",
    "forecasted_volatility_ubs_gm_tdist <- sigma(forecast_ubs_gm_tdist)\n",
    "forecast_tbl_gm_tdist <- tibble(Conditional_Mean = forecast_ubs_gm_tdist@forecast$seriesFor, Forecasted_Volatility = forecasted_volatility_ubs_gm_tdist[1:forecast_horizon])\n",
    "# Step 6: Obtain the VaR for the next 5 trading days at different confidence levels\n",
    "VaR_tdist_gm <- matrix(0, nrow = forecast_horizon, ncol = length(confidence_levels))\n",
    "\n",
    "for (i in 1:forecast_horizon) {\n",
    "  forecasted_vol <- forecasted_volatility_ubs_gm_tdist[i]\n",
    "  VaR_tdist_gm[i, ] <- forecast_ubs_gm_tdist@forecast$seriesFor[i] + forecast_ubs_gm_tdist@forecast$sigmaFor[i]* qdist(distribution='std', shape=garch_model_ubs_gm_tdist@fit[[\"coef\"]][[\"shape\"]], p=c(0.90,0.95,0.99))\n",
    "\n",
    "}\n",
    "\n",
    "# Step 7: Calculate the VaR based on a long position of 10 million Euros\n",
    "position <- 10e6\n",
    "VaR_based_on_position_tdis_gm <- position * VaR_tdist_gm\n",
    "\n",
    "# Add VaR columns to the forecast table\n",
    "forecast_tbl_gm_tdist <- cbind(forecast_tbl_gm_tdist, VaR = VaR_tdist_gm, VaR_based_on_position = VaR_based_on_position_tdis_gm)\n",
    "\n",
    "# Print the final forecast table\n",
    "forecast_tbl_gm_tdist <- forecast_tbl_gm_tdist %>%\n",
    "  rename(VaR90 = VaR.1,VaR95 = VaR.2,VaR99 = VaR.3, VaR90Pos = VaR_based_on_position.1,VaR95Pos = VaR_based_on_position.2,VaR99Pos = VaR_based_on_position.3)\n",
    "forecast_tbl_gm_tdist\n"
   ]
  },
  {
   "cell_type": "code",
   "execution_count": 21,
   "metadata": {
    "vscode": {
     "languageId": "r"
    }
   },
   "outputs": [
    {
     "data": {
      "text/html": [
       "0.00676322795669542"
      ],
      "text/latex": [
       "0.00676322795669542"
      ],
      "text/markdown": [
       "0.00676322795669542"
      ],
      "text/plain": [
       "[1] 0.006763228"
      ]
     },
     "metadata": {},
     "output_type": "display_data"
    }
   ],
   "source": [
    "(653519.3 - 649099.4)/ 653519.3"
   ]
  },
  {
   "attachments": {},
   "cell_type": "markdown",
   "metadata": {},
   "source": [
    "For an AR(1) - GARCH-M(1,1), with student t errors, we observe that as the confidence level increases from 0.90 to 0.99, the Value at Risk (VaR) for UBS also increases. For a long position of 10,000,000 euros, we observe a roughly 127% increase in the VaR as the confidence level increases from 0.9 to 0,99. Furthermore, as opposed to the previous models, the VaR has an incremental increase over the five day forecast horizon.\n",
    "When compared to the VaR obtained for the previous AR(1) - GARCH(1,1) with student t errors, we observe a significantly lower VaR at all associated confidence levels. Furthermore, we observe a outlying trend in the GARCH-M model with regards to the VaR over the forecast horizon. "
   ]
  },
  {
   "attachments": {},
   "cell_type": "markdown",
   "metadata": {},
   "source": [
    "### VaR AR(1) - GARCH-M (1,1) - Normal Errors"
   ]
  },
  {
   "cell_type": "code",
   "execution_count": 22,
   "metadata": {
    "vscode": {
     "languageId": "r"
    }
   },
   "outputs": [
    {
     "data": {
      "text/html": [
       "<table class=\"dataframe\">\n",
       "<caption>A data.frame: 5 × 8</caption>\n",
       "<thead>\n",
       "\t<tr><th scope=col>Conditional_Mean</th><th scope=col>Forecasted_Volatility</th><th scope=col>VaR90</th><th scope=col>VaR95</th><th scope=col>VaR99</th><th scope=col>VaR90Pos</th><th scope=col>VaR95Pos</th><th scope=col>VaR99Pos</th></tr>\n",
       "\t<tr><th scope=col>&lt;dbl[,1]&gt;</th><th scope=col>&lt;dbl&gt;</th><th scope=col>&lt;dbl&gt;</th><th scope=col>&lt;dbl&gt;</th><th scope=col>&lt;dbl&gt;</th><th scope=col>&lt;dbl&gt;</th><th scope=col>&lt;dbl&gt;</th><th scope=col>&lt;dbl&gt;</th></tr>\n",
       "</thead>\n",
       "<tbody>\n",
       "\t<tr><td>0.003751194</td><td>0.02439671</td><td>0.03501683</td><td>0.04388021</td><td>0.06050643</td><td>350168.3</td><td>438802.1</td><td>605064.3</td></tr>\n",
       "\t<tr><td>0.002029705</td><td>0.02432518</td><td>0.03320368</td><td>0.04204106</td><td>0.05861853</td><td>332036.8</td><td>420410.6</td><td>586185.3</td></tr>\n",
       "\t<tr><td>0.001937222</td><td>0.02425553</td><td>0.03302194</td><td>0.04183402</td><td>0.05836403</td><td>330219.4</td><td>418340.2</td><td>583640.3</td></tr>\n",
       "\t<tr><td>0.001922381</td><td>0.02418772</td><td>0.03292019</td><td>0.04170764</td><td>0.05819144</td><td>329201.9</td><td>417076.4</td><td>581914.4</td></tr>\n",
       "\t<tr><td>0.001911505</td><td>0.02412171</td><td>0.03282472</td><td>0.04158818</td><td>0.05802699</td><td>328247.2</td><td>415881.8</td><td>580269.9</td></tr>\n",
       "</tbody>\n",
       "</table>\n"
      ],
      "text/latex": [
       "A data.frame: 5 × 8\n",
       "\\begin{tabular}{llllllll}\n",
       " Conditional\\_Mean & Forecasted\\_Volatility & VaR90 & VaR95 & VaR99 & VaR90Pos & VaR95Pos & VaR99Pos\\\\\n",
       " <dbl{[},1{]}> & <dbl> & <dbl> & <dbl> & <dbl> & <dbl> & <dbl> & <dbl>\\\\\n",
       "\\hline\n",
       "\t 0.003751194 & 0.02439671 & 0.03501683 & 0.04388021 & 0.06050643 & 350168.3 & 438802.1 & 605064.3\\\\\n",
       "\t 0.002029705 & 0.02432518 & 0.03320368 & 0.04204106 & 0.05861853 & 332036.8 & 420410.6 & 586185.3\\\\\n",
       "\t 0.001937222 & 0.02425553 & 0.03302194 & 0.04183402 & 0.05836403 & 330219.4 & 418340.2 & 583640.3\\\\\n",
       "\t 0.001922381 & 0.02418772 & 0.03292019 & 0.04170764 & 0.05819144 & 329201.9 & 417076.4 & 581914.4\\\\\n",
       "\t 0.001911505 & 0.02412171 & 0.03282472 & 0.04158818 & 0.05802699 & 328247.2 & 415881.8 & 580269.9\\\\\n",
       "\\end{tabular}\n"
      ],
      "text/markdown": [
       "\n",
       "A data.frame: 5 × 8\n",
       "\n",
       "| Conditional_Mean &lt;dbl[,1]&gt; | Forecasted_Volatility &lt;dbl&gt; | VaR90 &lt;dbl&gt; | VaR95 &lt;dbl&gt; | VaR99 &lt;dbl&gt; | VaR90Pos &lt;dbl&gt; | VaR95Pos &lt;dbl&gt; | VaR99Pos &lt;dbl&gt; |\n",
       "|---|---|---|---|---|---|---|---|\n",
       "| 0.003751194 | 0.02439671 | 0.03501683 | 0.04388021 | 0.06050643 | 350168.3 | 438802.1 | 605064.3 |\n",
       "| 0.002029705 | 0.02432518 | 0.03320368 | 0.04204106 | 0.05861853 | 332036.8 | 420410.6 | 586185.3 |\n",
       "| 0.001937222 | 0.02425553 | 0.03302194 | 0.04183402 | 0.05836403 | 330219.4 | 418340.2 | 583640.3 |\n",
       "| 0.001922381 | 0.02418772 | 0.03292019 | 0.04170764 | 0.05819144 | 329201.9 | 417076.4 | 581914.4 |\n",
       "| 0.001911505 | 0.02412171 | 0.03282472 | 0.04158818 | 0.05802699 | 328247.2 | 415881.8 | 580269.9 |\n",
       "\n"
      ],
      "text/plain": [
       "  Conditional_Mean Forecasted_Volatility VaR90      VaR95      VaR99     \n",
       "1 0.003751194      0.02439671            0.03501683 0.04388021 0.06050643\n",
       "2 0.002029705      0.02432518            0.03320368 0.04204106 0.05861853\n",
       "3 0.001937222      0.02425553            0.03302194 0.04183402 0.05836403\n",
       "4 0.001922381      0.02418772            0.03292019 0.04170764 0.05819144\n",
       "5 0.001911505      0.02412171            0.03282472 0.04158818 0.05802699\n",
       "  VaR90Pos VaR95Pos VaR99Pos\n",
       "1 350168.3 438802.1 605064.3\n",
       "2 332036.8 420410.6 586185.3\n",
       "3 330219.4 418340.2 583640.3\n",
       "4 329201.9 417076.4 581914.4\n",
       "5 328247.2 415881.8 580269.9"
      ]
     },
     "metadata": {},
     "output_type": "display_data"
    }
   ],
   "source": [
    "# Create the GARCH(1,1) model\n",
    "garch_spec_ubs <- ugarchspec(variance.model = list(model = \"sGARCH\", garchOrder = c(1, 1)),\n",
    "                         mean.model = list(armaOrder = c(1, 0), include.mean = TRUE, archm = TRUE))\n",
    "\n",
    "# Fit the GARCH model to the log returns\n",
    "garch_model_m_nrm <- ugarchfit(spec = garch_spec_ubs, data = log_returns_ubs)\n",
    "\n",
    "# Step 5: Obtain the forecast for the next 5 trading days\n",
    "forecast_horizon <- 5\n",
    "forecast_gm_nm <- ugarchforecast(garch_model_m_nrm, n.ahead = forecast_horizon)\n",
    "forecasted_volatility_gm_nm <- sigma(forecast_gm_nm)\n",
    "forecast_tbl_gm_nm <- tibble(Conditional_Mean = forecast_gm_nm@forecast$seriesFor, Forecasted_Volatility = forecasted_volatility_gm_nm[1:forecast_horizon])\n",
    "# Step 6: Obtain the VaR for the next 5 trading days at different confidence levels\n",
    "VaR_gm_nm <- matrix(0, nrow = forecast_horizon, ncol = length(confidence_levels))\n",
    "\n",
    "for (i in 1:forecast_horizon) {\n",
    "  forecasted_vol <- forecasted_volatility_gm_nm[i]\n",
    "  VaR_gm_nm[i, ] <- forecast_gm_nm@forecast$seriesFor[i] + qnorm(p = c(0.9,0.95,0.99),mean =0,sd=1)*forecast_gm_nm@forecast$sigmaFor[i]\n",
    "\n",
    "}\n",
    "\n",
    "# Step 7: Calculate the VaR based on a long position of 10 million Euros\n",
    "position <- 10e6\n",
    "VaR_based_on_position_gm_nm <- position * VaR_gm_nm\n",
    "\n",
    "# Add VaR columns to the forecast table\n",
    "forecast_tbl_gm_nm <- cbind(forecast_tbl_gm_nm, VaR = VaR_gm_nm, VaR_based_on_position = VaR_based_on_position_gm_nm)\n",
    "\n",
    "# Print the final forecast table\n",
    "forecast_tbl_gm_nm <- forecast_tbl_gm_nm %>%\n",
    "  rename(VaR90 = VaR.1,VaR95 = VaR.2,VaR99 = VaR.3, VaR90Pos = VaR_based_on_position.1,VaR95Pos = VaR_based_on_position.2,VaR99Pos = VaR_based_on_position.3)\n",
    "forecast_tbl_gm_nm\n",
    "\n"
   ]
  },
  {
   "cell_type": "code",
   "execution_count": 23,
   "metadata": {
    "vscode": {
     "languageId": "r"
    }
   },
   "outputs": [
    {
     "data": {
      "text/html": [
       "0.72792106227352"
      ],
      "text/latex": [
       "0.72792106227352"
      ],
      "text/markdown": [
       "0.72792106227352"
      ],
      "text/plain": [
       "[1] 0.7279211"
      ]
     },
     "metadata": {},
     "output_type": "display_data"
    }
   ],
   "source": [
    "(605065.6 - 350169.7) / 350169.7"
   ]
  },
  {
   "attachments": {},
   "cell_type": "markdown",
   "metadata": {},
   "source": [
    "For an AR(1) - GARCH-M(1,1), with normal errors, we observe that as the confidence level increases from 0.90 to 0.99, the Value at Risk (VaR) for UBS also increases. For a long position of 10,000,000 euros, we observe a roughly 82% increase in the VaR as the confidence level increases from 0.9 to 0,99. Furthermore,the VaR has an incremental increase over the five day forecast horizon.\n",
    "When compared to the VaR obtained for the previous AR(1) - GARCH - M(1,1) with student t errors, we observe a significantly lower VaR at a confidence level of 0.99, while a higher VaR is observed for confidence level of 0.90. Furthermore, we observe a similar outlying trend in the GARCH-M model with regards to the increasing VaR over the forecast horizon. "
   ]
  },
  {
   "attachments": {},
   "cell_type": "markdown",
   "metadata": {},
   "source": [
    "## Ryanair (RYAAY)"
   ]
  },
  {
   "attachments": {},
   "cell_type": "markdown",
   "metadata": {},
   "source": [
    "### Data Cleaning"
   ]
  },
  {
   "cell_type": "code",
   "execution_count": 24,
   "metadata": {
    "vscode": {
     "languageId": "r"
    }
   },
   "outputs": [
    {
     "data": {
      "text/html": [
       "'RYAAY'"
      ],
      "text/latex": [
       "'RYAAY'"
      ],
      "text/markdown": [
       "'RYAAY'"
      ],
      "text/plain": [
       "[1] \"RYAAY\""
      ]
     },
     "metadata": {},
     "output_type": "display_data"
    }
   ],
   "source": [
    "library(quantmod)   # For stock data retrieval\n",
    "library(tsibble)    # For working with time series data\n",
    "library(rugarch)    # For GARCH modeling\n",
    "library(tibble)     # For creating and manipulating data frames\n",
    "\n",
    "symbol_ryan <- \"RYAAY\"\n",
    "start_date <- \"2018-05-08\"\n",
    "end_date <- \"2023-05-08\" \n",
    "# Retrieve the stock data using quantmod\n",
    "getSymbols(symbol_ryan, from = start_date, to = end_date)\n",
    "stock_data_ryan<- RYAAY[, \"RYAAY.Adjusted\"]\n",
    "log_returns_ryan <- diff(log(stock_data_ryan))\n",
    "log_returns_ryan <- na.omit(log_returns_ryan)  # Remove any missing values\n",
    "confidence_levels <- c(0.9, 0.95, 0.99)"
   ]
  },
  {
   "attachments": {},
   "cell_type": "markdown",
   "metadata": {},
   "source": [
    "### Unconditional VaR"
   ]
  },
  {
   "cell_type": "code",
   "execution_count": 25,
   "metadata": {
    "vscode": {
     "languageId": "r"
    }
   },
   "outputs": [
    {
     "data": {
      "text/html": [
       "<table class=\"dataframe\">\n",
       "<caption>A matrix: 1 × 1 of type dbl</caption>\n",
       "<thead>\n",
       "\t<tr><th></th><th scope=col>RYAAY.Adjusted</th></tr>\n",
       "</thead>\n",
       "<tbody>\n",
       "\t<tr><th scope=row>VaR</th><td>-0.02664093</td></tr>\n",
       "</tbody>\n",
       "</table>\n"
      ],
      "text/latex": [
       "A matrix: 1 × 1 of type dbl\n",
       "\\begin{tabular}{r|l}\n",
       "  & RYAAY.Adjusted\\\\\n",
       "\\hline\n",
       "\tVaR & -0.02664093\\\\\n",
       "\\end{tabular}\n"
      ],
      "text/markdown": [
       "\n",
       "A matrix: 1 × 1 of type dbl\n",
       "\n",
       "| <!--/--> | RYAAY.Adjusted |\n",
       "|---|---|\n",
       "| VaR | -0.02664093 |\n",
       "\n"
      ],
      "text/plain": [
       "    RYAAY.Adjusted\n",
       "VaR -0.02664093   "
      ]
     },
     "metadata": {},
     "output_type": "display_data"
    },
    {
     "data": {
      "text/html": [
       "<table class=\"dataframe\">\n",
       "<caption>A matrix: 1 × 1 of type dbl</caption>\n",
       "<thead>\n",
       "\t<tr><th></th><th scope=col>RYAAY.Adjusted</th></tr>\n",
       "</thead>\n",
       "<tbody>\n",
       "\t<tr><th scope=row>VaR</th><td>-0.03730439</td></tr>\n",
       "</tbody>\n",
       "</table>\n"
      ],
      "text/latex": [
       "A matrix: 1 × 1 of type dbl\n",
       "\\begin{tabular}{r|l}\n",
       "  & RYAAY.Adjusted\\\\\n",
       "\\hline\n",
       "\tVaR & -0.03730439\\\\\n",
       "\\end{tabular}\n"
      ],
      "text/markdown": [
       "\n",
       "A matrix: 1 × 1 of type dbl\n",
       "\n",
       "| <!--/--> | RYAAY.Adjusted |\n",
       "|---|---|\n",
       "| VaR | -0.03730439 |\n",
       "\n"
      ],
      "text/plain": [
       "    RYAAY.Adjusted\n",
       "VaR -0.03730439   "
      ]
     },
     "metadata": {},
     "output_type": "display_data"
    },
    {
     "data": {
      "text/html": [
       "<table class=\"dataframe\">\n",
       "<caption>A matrix: 1 × 1 of type dbl</caption>\n",
       "<thead>\n",
       "\t<tr><th></th><th scope=col>RYAAY.Adjusted</th></tr>\n",
       "</thead>\n",
       "<tbody>\n",
       "\t<tr><th scope=row>VaR</th><td>-0.06695162</td></tr>\n",
       "</tbody>\n",
       "</table>\n"
      ],
      "text/latex": [
       "A matrix: 1 × 1 of type dbl\n",
       "\\begin{tabular}{r|l}\n",
       "  & RYAAY.Adjusted\\\\\n",
       "\\hline\n",
       "\tVaR & -0.06695162\\\\\n",
       "\\end{tabular}\n"
      ],
      "text/markdown": [
       "\n",
       "A matrix: 1 × 1 of type dbl\n",
       "\n",
       "| <!--/--> | RYAAY.Adjusted |\n",
       "|---|---|\n",
       "| VaR | -0.06695162 |\n",
       "\n"
      ],
      "text/plain": [
       "    RYAAY.Adjusted\n",
       "VaR -0.06695162   "
      ]
     },
     "metadata": {},
     "output_type": "display_data"
    }
   ],
   "source": [
    "library(PerformanceAnalytics)\n",
    "\n",
    "VaR(log_returns_ryan,p = 0.90 ,method = \"historical\")\n",
    "VaR(log_returns_ryan,p = 0.95 ,method = \"historical\")\n",
    "VaR(log_returns_ryan,p = 0.99 ,method = \"historical\")\n"
   ]
  },
  {
   "attachments": {},
   "cell_type": "markdown",
   "metadata": {},
   "source": [
    "### GARCH (1,1) With Constant Mean Normal Errors"
   ]
  },
  {
   "cell_type": "code",
   "execution_count": 26,
   "metadata": {
    "vscode": {
     "languageId": "r"
    }
   },
   "outputs": [
    {
     "data": {
      "text/html": [
       "<table class=\"dataframe\">\n",
       "<caption>A data.frame: 5 × 8</caption>\n",
       "<thead>\n",
       "\t<tr><th scope=col>Conditional_Mean</th><th scope=col>Forecasted_Volatility</th><th scope=col>VaR90</th><th scope=col>VaR95</th><th scope=col>VaR99</th><th scope=col>VaR90Pos</th><th scope=col>VaR95Pos</th><th scope=col>VaR99Pos</th></tr>\n",
       "\t<tr><th scope=col>&lt;dbl[,1]&gt;</th><th scope=col>&lt;dbl&gt;</th><th scope=col>&lt;dbl&gt;</th><th scope=col>&lt;dbl&gt;</th><th scope=col>&lt;dbl&gt;</th><th scope=col>&lt;dbl&gt;</th><th scope=col>&lt;dbl&gt;</th><th scope=col>&lt;dbl&gt;</th></tr>\n",
       "</thead>\n",
       "<tbody>\n",
       "\t<tr><td>7.463506e-05</td><td>0.02231751</td><td>0.02867568</td><td>0.03678368</td><td>0.05199294</td><td>286756.8</td><td>367836.8</td><td>519929.4</td></tr>\n",
       "\t<tr><td>7.463506e-05</td><td>0.02243089</td><td>0.02882097</td><td>0.03697016</td><td>0.05225668</td><td>288209.7</td><td>369701.6</td><td>522566.8</td></tr>\n",
       "\t<tr><td>7.463506e-05</td><td>0.02254005</td><td>0.02896087</td><td>0.03714972</td><td>0.05251063</td><td>289608.7</td><td>371497.2</td><td>525106.3</td></tr>\n",
       "\t<tr><td>7.463506e-05</td><td>0.02264518</td><td>0.02909560</td><td>0.03732264</td><td>0.05275521</td><td>290956.0</td><td>373226.4</td><td>527552.1</td></tr>\n",
       "\t<tr><td>7.463506e-05</td><td>0.02274645</td><td>0.02922538</td><td>0.03748922</td><td>0.05299079</td><td>292253.8</td><td>374892.2</td><td>529907.9</td></tr>\n",
       "</tbody>\n",
       "</table>\n"
      ],
      "text/latex": [
       "A data.frame: 5 × 8\n",
       "\\begin{tabular}{llllllll}\n",
       " Conditional\\_Mean & Forecasted\\_Volatility & VaR90 & VaR95 & VaR99 & VaR90Pos & VaR95Pos & VaR99Pos\\\\\n",
       " <dbl{[},1{]}> & <dbl> & <dbl> & <dbl> & <dbl> & <dbl> & <dbl> & <dbl>\\\\\n",
       "\\hline\n",
       "\t 7.463506e-05 & 0.02231751 & 0.02867568 & 0.03678368 & 0.05199294 & 286756.8 & 367836.8 & 519929.4\\\\\n",
       "\t 7.463506e-05 & 0.02243089 & 0.02882097 & 0.03697016 & 0.05225668 & 288209.7 & 369701.6 & 522566.8\\\\\n",
       "\t 7.463506e-05 & 0.02254005 & 0.02896087 & 0.03714972 & 0.05251063 & 289608.7 & 371497.2 & 525106.3\\\\\n",
       "\t 7.463506e-05 & 0.02264518 & 0.02909560 & 0.03732264 & 0.05275521 & 290956.0 & 373226.4 & 527552.1\\\\\n",
       "\t 7.463506e-05 & 0.02274645 & 0.02922538 & 0.03748922 & 0.05299079 & 292253.8 & 374892.2 & 529907.9\\\\\n",
       "\\end{tabular}\n"
      ],
      "text/markdown": [
       "\n",
       "A data.frame: 5 × 8\n",
       "\n",
       "| Conditional_Mean &lt;dbl[,1]&gt; | Forecasted_Volatility &lt;dbl&gt; | VaR90 &lt;dbl&gt; | VaR95 &lt;dbl&gt; | VaR99 &lt;dbl&gt; | VaR90Pos &lt;dbl&gt; | VaR95Pos &lt;dbl&gt; | VaR99Pos &lt;dbl&gt; |\n",
       "|---|---|---|---|---|---|---|---|\n",
       "| 7.463506e-05 | 0.02231751 | 0.02867568 | 0.03678368 | 0.05199294 | 286756.8 | 367836.8 | 519929.4 |\n",
       "| 7.463506e-05 | 0.02243089 | 0.02882097 | 0.03697016 | 0.05225668 | 288209.7 | 369701.6 | 522566.8 |\n",
       "| 7.463506e-05 | 0.02254005 | 0.02896087 | 0.03714972 | 0.05251063 | 289608.7 | 371497.2 | 525106.3 |\n",
       "| 7.463506e-05 | 0.02264518 | 0.02909560 | 0.03732264 | 0.05275521 | 290956.0 | 373226.4 | 527552.1 |\n",
       "| 7.463506e-05 | 0.02274645 | 0.02922538 | 0.03748922 | 0.05299079 | 292253.8 | 374892.2 | 529907.9 |\n",
       "\n"
      ],
      "text/plain": [
       "  Conditional_Mean Forecasted_Volatility VaR90      VaR95      VaR99     \n",
       "1 7.463506e-05     0.02231751            0.02867568 0.03678368 0.05199294\n",
       "2 7.463506e-05     0.02243089            0.02882097 0.03697016 0.05225668\n",
       "3 7.463506e-05     0.02254005            0.02896087 0.03714972 0.05251063\n",
       "4 7.463506e-05     0.02264518            0.02909560 0.03732264 0.05275521\n",
       "5 7.463506e-05     0.02274645            0.02922538 0.03748922 0.05299079\n",
       "  VaR90Pos VaR95Pos VaR99Pos\n",
       "1 286756.8 367836.8 519929.4\n",
       "2 288209.7 369701.6 522566.8\n",
       "3 289608.7 371497.2 525106.3\n",
       "4 290956.0 373226.4 527552.1\n",
       "5 292253.8 374892.2 529907.9"
      ]
     },
     "metadata": {},
     "output_type": "display_data"
    }
   ],
   "source": [
    "# Create the GARCH(1,1) model\n",
    "garch_spec_ryan <- ugarchspec(variance.model = list(model = \"sGARCH\", garchOrder = c(1, 1)),\n",
    "                         mean.model = list(armaOrder = c(0, 0), include.mean = TRUE))\n",
    "\n",
    "# Fit the GARCH model to the log returns\n",
    "garch_model_ryan <- ugarchfit(spec = garch_spec_ryan, data = log_returns_ryan)\n",
    "\n",
    "# Step 5: Obtain the forecast for the next 5 trading days\n",
    "forecast_horizon <- 5\n",
    "forecast_ryan <- ugarchforecast(garch_model_ryan, n.ahead = forecast_horizon)\n",
    "forecasted_volatility_ryan <- sigma(forecast_ryan)\n",
    "forecast_tbl_ryan <- tibble(Conditional_Mean = forecast_ryan@forecast$seriesFor, Forecasted_Volatility = forecasted_volatility_ryan[1:forecast_horizon])\n",
    "# Step 6: Obtain the VaR for the next 5 trading days at different confidence levels\n",
    "VaR_ryan <- matrix(0, nrow = forecast_horizon, ncol = length(confidence_levels))\n",
    "\n",
    "for (i in 1:forecast_horizon) {\n",
    "  forecasted_vol <- forecasted_volatility_ryan[i]\n",
    "  VaR_ryan[i, ] <- forecast_ryan@forecast$seriesFor[i] + qnorm(p = c(0.9,0.95,0.99),mean =0,sd=1)*forecast_ryan@forecast$sigmaFor[i]\n",
    "\n",
    "}\n",
    "\n",
    "# Step 7: Calculate the VaR based on a long position of 10 million Euros\n",
    "position <- 10e6\n",
    "VaR_based_on_position_ryan <- position * VaR_ryan\n",
    "\n",
    "# Add VaR columns to the forecast table\n",
    "forecast_tbl_ryan <- cbind(forecast_tbl_ryan, VaR = VaR_ryan, VaR_based_on_position = VaR_based_on_position_ryan)\n",
    "\n",
    "# Print the final forecast table\n",
    "\n",
    "forecast_tbl_ryan <- forecast_tbl_ryan %>%\n",
    "  rename(VaR90 = VaR.1,VaR95 = VaR.2,VaR99 = VaR.3, VaR90Pos = VaR_based_on_position.1,VaR95Pos = VaR_based_on_position.2,VaR99Pos = VaR_based_on_position.3)\n",
    "forecast_tbl_ryan"
   ]
  },
  {
   "attachments": {},
   "cell_type": "markdown",
   "metadata": {},
   "source": [
    "For a GARCH(1,1), with normal errors, we observe that as the confidence level increases from 0.90 to 0.99, the Value at Risk (VaR) for RYAAY increases. Furthermore, the VaR increases for each associated confidence level over the forecast horizon. For a long position of 10,000,000 euros, we observe a roughly 81% increase in the VaR as the confidence level increases from 0.9 to 0,99. ."
   ]
  },
  {
   "attachments": {},
   "cell_type": "markdown",
   "metadata": {},
   "source": [
    "### VaR AR(1) - GARCH (1,1) With Constant Mean Normal Errors"
   ]
  },
  {
   "cell_type": "code",
   "execution_count": 27,
   "metadata": {
    "vscode": {
     "languageId": "r"
    }
   },
   "outputs": [
    {
     "data": {
      "text/html": [
       "<table class=\"dataframe\">\n",
       "<caption>A data.frame: 5 × 8</caption>\n",
       "<thead>\n",
       "\t<tr><th scope=col>Conditional_Mean</th><th scope=col>Forecasted_Volatility</th><th scope=col>VaR90</th><th scope=col>VaR95</th><th scope=col>VaR99</th><th scope=col>VaR90Pos</th><th scope=col>VaR95Pos</th><th scope=col>VaR99Pos</th></tr>\n",
       "\t<tr><th scope=col>&lt;dbl[,1]&gt;</th><th scope=col>&lt;dbl&gt;</th><th scope=col>&lt;dbl&gt;</th><th scope=col>&lt;dbl&gt;</th><th scope=col>&lt;dbl&gt;</th><th scope=col>&lt;dbl&gt;</th><th scope=col>&lt;dbl&gt;</th><th scope=col>&lt;dbl&gt;</th></tr>\n",
       "</thead>\n",
       "<tbody>\n",
       "\t<tr><td>1.105485e-03</td><td>0.02229107</td><td>0.02967264</td><td>0.03777104</td><td>0.05296228</td><td>296726.4</td><td>377710.4</td><td>529622.8</td></tr>\n",
       "\t<tr><td>1.197061e-04</td><td>0.02240444</td><td>0.02883215</td><td>0.03697173</td><td>0.05224023</td><td>288321.5</td><td>369717.3</td><td>522402.3</td></tr>\n",
       "\t<tr><td>7.422246e-05</td><td>0.02251363</td><td>0.02892660</td><td>0.03710585</td><td>0.05244876</td><td>289266.0</td><td>371058.5</td><td>524487.6</td></tr>\n",
       "\t<tr><td>7.212385e-05</td><td>0.02261881</td><td>0.02905930</td><td>0.03727676</td><td>0.05269135</td><td>290593.0</td><td>372767.6</td><td>526913.5</td></tr>\n",
       "\t<tr><td>7.202702e-05</td><td>0.02272016</td><td>0.02918908</td><td>0.03744336</td><td>0.05292702</td><td>291890.8</td><td>374433.6</td><td>529270.2</td></tr>\n",
       "</tbody>\n",
       "</table>\n"
      ],
      "text/latex": [
       "A data.frame: 5 × 8\n",
       "\\begin{tabular}{llllllll}\n",
       " Conditional\\_Mean & Forecasted\\_Volatility & VaR90 & VaR95 & VaR99 & VaR90Pos & VaR95Pos & VaR99Pos\\\\\n",
       " <dbl{[},1{]}> & <dbl> & <dbl> & <dbl> & <dbl> & <dbl> & <dbl> & <dbl>\\\\\n",
       "\\hline\n",
       "\t 1.105485e-03 & 0.02229107 & 0.02967264 & 0.03777104 & 0.05296228 & 296726.4 & 377710.4 & 529622.8\\\\\n",
       "\t 1.197061e-04 & 0.02240444 & 0.02883215 & 0.03697173 & 0.05224023 & 288321.5 & 369717.3 & 522402.3\\\\\n",
       "\t 7.422246e-05 & 0.02251363 & 0.02892660 & 0.03710585 & 0.05244876 & 289266.0 & 371058.5 & 524487.6\\\\\n",
       "\t 7.212385e-05 & 0.02261881 & 0.02905930 & 0.03727676 & 0.05269135 & 290593.0 & 372767.6 & 526913.5\\\\\n",
       "\t 7.202702e-05 & 0.02272016 & 0.02918908 & 0.03744336 & 0.05292702 & 291890.8 & 374433.6 & 529270.2\\\\\n",
       "\\end{tabular}\n"
      ],
      "text/markdown": [
       "\n",
       "A data.frame: 5 × 8\n",
       "\n",
       "| Conditional_Mean &lt;dbl[,1]&gt; | Forecasted_Volatility &lt;dbl&gt; | VaR90 &lt;dbl&gt; | VaR95 &lt;dbl&gt; | VaR99 &lt;dbl&gt; | VaR90Pos &lt;dbl&gt; | VaR95Pos &lt;dbl&gt; | VaR99Pos &lt;dbl&gt; |\n",
       "|---|---|---|---|---|---|---|---|\n",
       "| 1.105485e-03 | 0.02229107 | 0.02967264 | 0.03777104 | 0.05296228 | 296726.4 | 377710.4 | 529622.8 |\n",
       "| 1.197061e-04 | 0.02240444 | 0.02883215 | 0.03697173 | 0.05224023 | 288321.5 | 369717.3 | 522402.3 |\n",
       "| 7.422246e-05 | 0.02251363 | 0.02892660 | 0.03710585 | 0.05244876 | 289266.0 | 371058.5 | 524487.6 |\n",
       "| 7.212385e-05 | 0.02261881 | 0.02905930 | 0.03727676 | 0.05269135 | 290593.0 | 372767.6 | 526913.5 |\n",
       "| 7.202702e-05 | 0.02272016 | 0.02918908 | 0.03744336 | 0.05292702 | 291890.8 | 374433.6 | 529270.2 |\n",
       "\n"
      ],
      "text/plain": [
       "  Conditional_Mean Forecasted_Volatility VaR90      VaR95      VaR99     \n",
       "1 1.105485e-03     0.02229107            0.02967264 0.03777104 0.05296228\n",
       "2 1.197061e-04     0.02240444            0.02883215 0.03697173 0.05224023\n",
       "3 7.422246e-05     0.02251363            0.02892660 0.03710585 0.05244876\n",
       "4 7.212385e-05     0.02261881            0.02905930 0.03727676 0.05269135\n",
       "5 7.202702e-05     0.02272016            0.02918908 0.03744336 0.05292702\n",
       "  VaR90Pos VaR95Pos VaR99Pos\n",
       "1 296726.4 377710.4 529622.8\n",
       "2 288321.5 369717.3 522402.3\n",
       "3 289266.0 371058.5 524487.6\n",
       "4 290593.0 372767.6 526913.5\n",
       "5 291890.8 374433.6 529270.2"
      ]
     },
     "metadata": {},
     "output_type": "display_data"
    }
   ],
   "source": [
    "garch_spec_ryan <- ugarchspec(variance.model = list(model = \"sGARCH\", garchOrder = c(1, 1)),\n",
    "                         mean.model = list(armaOrder = c(1, 0), include.mean = TRUE))\n",
    "\n",
    "# Fit the GARCH model to the log returns\n",
    "garch_model_ryan <- ugarchfit(spec = garch_spec_ryan, data = log_returns_ryan)\n",
    "\n",
    "# Step 5: Obtain the forecast for the next 5 trading days\n",
    "forecast_horizon <- 5\n",
    "forecast_ryan <- ugarchforecast(garch_model_ryan, n.ahead = forecast_horizon)\n",
    "forecasted_volatility_ryan <- sigma(forecast_ryan)\n",
    "forecast_tbl_ryan <- tibble(Conditional_Mean = forecast_ryan@forecast$seriesFor, Forecasted_Volatility = forecasted_volatility_ryan[1:forecast_horizon])\n",
    "# Step 6: Obtain the VaR for the next 5 trading days at different confidence levels\n",
    "VaR_ryan <- matrix(0, nrow = forecast_horizon, ncol = length(confidence_levels))\n",
    "\n",
    "for (i in 1:forecast_horizon) {\n",
    "  forecasted_vol <- forecasted_volatility_ryan[i]\n",
    "  VaR_ryan[i, ] <- forecast_ryan@forecast$seriesFor[i] + qnorm(p = c(0.9,0.95,0.99),mean =0,sd=1)*forecast_ryan@forecast$sigmaFor[i]\n",
    "\n",
    "}\n",
    "\n",
    "# Step 7: Calculate the VaR based on a long position of 10 million Euros\n",
    "position <- 10e6\n",
    "VaR_based_on_position_ryan <- position * VaR_ryan\n",
    "\n",
    "# Add VaR columns to the forecast table\n",
    "forecast_tbl_ryan <- cbind(forecast_tbl_ryan, VaR = VaR_ryan, VaR_based_on_position = VaR_based_on_position_ryan)\n",
    "\n",
    "# Print the final forecast table\n",
    "forecast_tbl_ryan <- forecast_tbl_ryan %>%\n",
    "  rename(VaR90 = VaR.1,VaR95 = VaR.2,VaR99 = VaR.3, VaR90Pos = VaR_based_on_position.1,VaR95Pos = VaR_based_on_position.2,VaR99Pos = VaR_based_on_position.3)\n",
    "forecast_tbl_ryan\n"
   ]
  },
  {
   "attachments": {},
   "cell_type": "markdown",
   "metadata": {},
   "source": [
    "For an AR(1) - GARCH(1,1), with normal errors, we observe that as the confidence level increases from 0.90 to 0.99, the Value at Risk (VaR) for RYAAY increases. Furthermore, the VaR increases for each associated confidence level over the forecast horizon For a long position of 10,000,000 euros, we observe a roughly 80% increase in the VaR as the confidence level increases from 0.9 to 0,99. \n",
    "When compared to the VaR obtained for the previous GARCH(1,1), we observe a  lower VaR at each associated confidence level."
   ]
  },
  {
   "attachments": {},
   "cell_type": "markdown",
   "metadata": {},
   "source": [
    "### VaR GARCH (1,1) - STD-T Errors w. only a constant in the conditional mean function"
   ]
  },
  {
   "cell_type": "code",
   "execution_count": 28,
   "metadata": {
    "vscode": {
     "languageId": "r"
    }
   },
   "outputs": [
    {
     "data": {
      "text/html": [
       "<table class=\"dataframe\">\n",
       "<caption>A data.frame: 5 × 8</caption>\n",
       "<thead>\n",
       "\t<tr><th scope=col>Conditional_Mean</th><th scope=col>Forecasted_Volatility</th><th scope=col>VaR90</th><th scope=col>VaR95</th><th scope=col>VaR99</th><th scope=col>VaR90Pos</th><th scope=col>VaR95Pos</th><th scope=col>VaR99Pos</th></tr>\n",
       "\t<tr><th scope=col>&lt;dbl[,1]&gt;</th><th scope=col>&lt;dbl&gt;</th><th scope=col>&lt;dbl&gt;</th><th scope=col>&lt;dbl&gt;</th><th scope=col>&lt;dbl&gt;</th><th scope=col>&lt;dbl&gt;</th><th scope=col>&lt;dbl&gt;</th><th scope=col>&lt;dbl&gt;</th></tr>\n",
       "</thead>\n",
       "<tbody>\n",
       "\t<tr><td>0.0002450986</td><td>0.02110505</td><td>0.02308769</td><td>0.03202282</td><td>0.05617843</td><td>230876.9</td><td>320228.2</td><td>561784.3</td></tr>\n",
       "\t<tr><td>0.0002450986</td><td>0.02115648</td><td>0.02314335</td><td>0.03210025</td><td>0.05631472</td><td>231433.5</td><td>321002.5</td><td>563147.2</td></tr>\n",
       "\t<tr><td>0.0002450986</td><td>0.02120725</td><td>0.02319830</td><td>0.03217670</td><td>0.05644929</td><td>231983.0</td><td>321767.0</td><td>564492.9</td></tr>\n",
       "\t<tr><td>0.0002450986</td><td>0.02125739</td><td>0.02325256</td><td>0.03225219</td><td>0.05658216</td><td>232525.6</td><td>322521.9</td><td>565821.6</td></tr>\n",
       "\t<tr><td>0.0002450986</td><td>0.02130689</td><td>0.02330614</td><td>0.03232673</td><td>0.05671335</td><td>233061.4</td><td>323267.3</td><td>567133.5</td></tr>\n",
       "</tbody>\n",
       "</table>\n"
      ],
      "text/latex": [
       "A data.frame: 5 × 8\n",
       "\\begin{tabular}{llllllll}\n",
       " Conditional\\_Mean & Forecasted\\_Volatility & VaR90 & VaR95 & VaR99 & VaR90Pos & VaR95Pos & VaR99Pos\\\\\n",
       " <dbl{[},1{]}> & <dbl> & <dbl> & <dbl> & <dbl> & <dbl> & <dbl> & <dbl>\\\\\n",
       "\\hline\n",
       "\t 0.0002450986 & 0.02110505 & 0.02308769 & 0.03202282 & 0.05617843 & 230876.9 & 320228.2 & 561784.3\\\\\n",
       "\t 0.0002450986 & 0.02115648 & 0.02314335 & 0.03210025 & 0.05631472 & 231433.5 & 321002.5 & 563147.2\\\\\n",
       "\t 0.0002450986 & 0.02120725 & 0.02319830 & 0.03217670 & 0.05644929 & 231983.0 & 321767.0 & 564492.9\\\\\n",
       "\t 0.0002450986 & 0.02125739 & 0.02325256 & 0.03225219 & 0.05658216 & 232525.6 & 322521.9 & 565821.6\\\\\n",
       "\t 0.0002450986 & 0.02130689 & 0.02330614 & 0.03232673 & 0.05671335 & 233061.4 & 323267.3 & 567133.5\\\\\n",
       "\\end{tabular}\n"
      ],
      "text/markdown": [
       "\n",
       "A data.frame: 5 × 8\n",
       "\n",
       "| Conditional_Mean &lt;dbl[,1]&gt; | Forecasted_Volatility &lt;dbl&gt; | VaR90 &lt;dbl&gt; | VaR95 &lt;dbl&gt; | VaR99 &lt;dbl&gt; | VaR90Pos &lt;dbl&gt; | VaR95Pos &lt;dbl&gt; | VaR99Pos &lt;dbl&gt; |\n",
       "|---|---|---|---|---|---|---|---|\n",
       "| 0.0002450986 | 0.02110505 | 0.02308769 | 0.03202282 | 0.05617843 | 230876.9 | 320228.2 | 561784.3 |\n",
       "| 0.0002450986 | 0.02115648 | 0.02314335 | 0.03210025 | 0.05631472 | 231433.5 | 321002.5 | 563147.2 |\n",
       "| 0.0002450986 | 0.02120725 | 0.02319830 | 0.03217670 | 0.05644929 | 231983.0 | 321767.0 | 564492.9 |\n",
       "| 0.0002450986 | 0.02125739 | 0.02325256 | 0.03225219 | 0.05658216 | 232525.6 | 322521.9 | 565821.6 |\n",
       "| 0.0002450986 | 0.02130689 | 0.02330614 | 0.03232673 | 0.05671335 | 233061.4 | 323267.3 | 567133.5 |\n",
       "\n"
      ],
      "text/plain": [
       "  Conditional_Mean Forecasted_Volatility VaR90      VaR95      VaR99     \n",
       "1 0.0002450986     0.02110505            0.02308769 0.03202282 0.05617843\n",
       "2 0.0002450986     0.02115648            0.02314335 0.03210025 0.05631472\n",
       "3 0.0002450986     0.02120725            0.02319830 0.03217670 0.05644929\n",
       "4 0.0002450986     0.02125739            0.02325256 0.03225219 0.05658216\n",
       "5 0.0002450986     0.02130689            0.02330614 0.03232673 0.05671335\n",
       "  VaR90Pos VaR95Pos VaR99Pos\n",
       "1 230876.9 320228.2 561784.3\n",
       "2 231433.5 321002.5 563147.2\n",
       "3 231983.0 321767.0 564492.9\n",
       "4 232525.6 322521.9 565821.6\n",
       "5 233061.4 323267.3 567133.5"
      ]
     },
     "metadata": {},
     "output_type": "display_data"
    }
   ],
   "source": [
    "# Create the GARCH(1,1) model\n",
    "garch_spec_ryan <- ugarchspec(variance.model = list(model = \"sGARCH\", garchOrder = c(1, 1)),\n",
    "                         mean.model = list(armaOrder = c(0, 0), include.mean = TRUE), distribution.model = 'std')\n",
    "\n",
    "# Fit the GARCH model to the log returns\n",
    "garch_model_ryan <- ugarchfit(spec = garch_spec_ryan, data = log_returns_ryan)\n",
    "\n",
    "# Step 5: Obtain the forecast for the next 5 trading days\n",
    "forecast_horizon <- 5\n",
    "forecast_ryan <- ugarchforecast(garch_model_ryan, n.ahead = forecast_horizon)\n",
    "forecasted_volatility_ryan <- sigma(forecast_ryan)\n",
    "forecast_tbl_tdist_ryan <- tibble(Conditional_Mean = forecast_ryan@forecast$seriesFor, Forecasted_Volatility = forecasted_volatility_ryan[1:forecast_horizon])\n",
    "# Step 6: Obtain the VaR for the next 5 trading days at different confidence levels\n",
    "VaR_tdist_ryan <- matrix(0, nrow = forecast_horizon, ncol = length(confidence_levels))\n",
    "\n",
    "for (i in 1:forecast_horizon) {\n",
    "  forecasted_vol <- forecasted_volatility_ryan[i]\n",
    "  VaR_tdist_ryan[i, ] <- forecast_ryan@forecast$seriesFor[i] + forecast_ryan@forecast$sigmaFor[i]* qdist(distribution='std', shape=garch_model_ryan@fit[[\"coef\"]][[\"shape\"]], p=c(0.90,0.95,0.99))\n",
    "\n",
    "}\n",
    "\n",
    "# Step 7: Calculate the VaR based on a long position of 10 million Euros\n",
    "position <- 10e6\n",
    "VaR_based_on_position_tdis_ryan <- position * VaR_tdist_ryan\n",
    "\n",
    "# Add VaR columns to the forecast table\n",
    "forecast_tbl_tdist_ryan <- cbind(forecast_tbl_tdist_ryan, VaR = VaR_tdist_ryan, VaR_based_on_position = VaR_based_on_position_tdis_ryan)\n",
    "\n",
    "# Print the final forecast table\n",
    "forecast_tbl_tdist_ryan <- forecast_tbl_tdist_ryan %>%\n",
    "  rename(VaR90 = VaR.1,VaR95 = VaR.2,VaR99 = VaR.3, VaR90Pos = VaR_based_on_position.1,VaR95Pos = VaR_based_on_position.2,VaR99Pos = VaR_based_on_position.3)\n",
    "forecast_tbl_tdist_ryan\n"
   ]
  },
  {
   "cell_type": "code",
   "execution_count": 29,
   "metadata": {
    "vscode": {
     "languageId": "r"
    }
   },
   "outputs": [
    {
     "data": {
      "text/html": [
       "41854.9"
      ],
      "text/latex": [
       "41854.9"
      ],
      "text/markdown": [
       "41854.9"
      ],
      "text/plain": [
       "[1] 41854.9"
      ]
     },
     "metadata": {},
     "output_type": "display_data"
    }
   ],
   "source": [
    "(561784.3 - 519929.4 )#/ 519929.4"
   ]
  },
  {
   "attachments": {},
   "cell_type": "markdown",
   "metadata": {},
   "source": [
    "For an GARCH(1,1), with student t errors, we observe that as the confidence level increases from 0.90 to 0.99, the Value at Risk (VaR) for RYAAY also increases. For a long position of 10,000,000 euros, the we observe a roughly 141% increase in the VaR as the confidence level increases from 0.9 to 0,99. Further, over the five day ahead forecast horizon, the VaR increase for each associated confidence level.\n",
    "When compared to the VaR obtained for the previous GARCH(1,1) with normal errors, we observe a significantly higher VaR at a confidence level of 0.99 (10%; approx 48,000 euros), although the VaR at a confidence level of 0.90 is only marginally higher when compared to the GARCH model with normal errors. "
   ]
  },
  {
   "attachments": {},
   "cell_type": "markdown",
   "metadata": {},
   "source": [
    "### VaR AR(1) GARCH (1,1) - STD-T Errors"
   ]
  },
  {
   "cell_type": "code",
   "execution_count": 30,
   "metadata": {
    "vscode": {
     "languageId": "r"
    }
   },
   "outputs": [
    {
     "data": {
      "text/html": [
       "<table class=\"dataframe\">\n",
       "<caption>A data.frame: 5 × 8</caption>\n",
       "<thead>\n",
       "\t<tr><th scope=col>Conditional_Mean</th><th scope=col>Forecasted_Volatility</th><th scope=col>VaR90</th><th scope=col>VaR95</th><th scope=col>VaR99</th><th scope=col>VaR90Pos</th><th scope=col>VaR95Pos</th><th scope=col>VaR99Pos</th></tr>\n",
       "\t<tr><th scope=col>&lt;dbl[,1]&gt;</th><th scope=col>&lt;dbl&gt;</th><th scope=col>&lt;dbl&gt;</th><th scope=col>&lt;dbl&gt;</th><th scope=col>&lt;dbl&gt;</th><th scope=col>&lt;dbl&gt;</th><th scope=col>&lt;dbl&gt;</th><th scope=col>&lt;dbl&gt;</th></tr>\n",
       "</thead>\n",
       "<tbody>\n",
       "\t<tr><td>0.0007591970</td><td>0.02110801</td><td>0.02359260</td><td>0.03252938</td><td>0.05670528</td><td>235926.0</td><td>325293.8</td><td>567052.8</td></tr>\n",
       "\t<tr><td>0.0002467598</td><td>0.02115921</td><td>0.02313556</td><td>0.03209402</td><td>0.05632857</td><td>231355.6</td><td>320940.2</td><td>563285.7</td></tr>\n",
       "\t<tr><td>0.0002346650</td><td>0.02120979</td><td>0.02317817</td><td>0.03215805</td><td>0.05645052</td><td>231781.7</td><td>321580.5</td><td>564505.2</td></tr>\n",
       "\t<tr><td>0.0002343796</td><td>0.02125974</td><td>0.02323192</td><td>0.03223294</td><td>0.05658262</td><td>232319.2</td><td>322329.4</td><td>565826.2</td></tr>\n",
       "\t<tr><td>0.0002343728</td><td>0.02130907</td><td>0.02328528</td><td>0.03230718</td><td>0.05671337</td><td>232852.8</td><td>323071.8</td><td>567133.7</td></tr>\n",
       "</tbody>\n",
       "</table>\n"
      ],
      "text/latex": [
       "A data.frame: 5 × 8\n",
       "\\begin{tabular}{llllllll}\n",
       " Conditional\\_Mean & Forecasted\\_Volatility & VaR90 & VaR95 & VaR99 & VaR90Pos & VaR95Pos & VaR99Pos\\\\\n",
       " <dbl{[},1{]}> & <dbl> & <dbl> & <dbl> & <dbl> & <dbl> & <dbl> & <dbl>\\\\\n",
       "\\hline\n",
       "\t 0.0007591970 & 0.02110801 & 0.02359260 & 0.03252938 & 0.05670528 & 235926.0 & 325293.8 & 567052.8\\\\\n",
       "\t 0.0002467598 & 0.02115921 & 0.02313556 & 0.03209402 & 0.05632857 & 231355.6 & 320940.2 & 563285.7\\\\\n",
       "\t 0.0002346650 & 0.02120979 & 0.02317817 & 0.03215805 & 0.05645052 & 231781.7 & 321580.5 & 564505.2\\\\\n",
       "\t 0.0002343796 & 0.02125974 & 0.02323192 & 0.03223294 & 0.05658262 & 232319.2 & 322329.4 & 565826.2\\\\\n",
       "\t 0.0002343728 & 0.02130907 & 0.02328528 & 0.03230718 & 0.05671337 & 232852.8 & 323071.8 & 567133.7\\\\\n",
       "\\end{tabular}\n"
      ],
      "text/markdown": [
       "\n",
       "A data.frame: 5 × 8\n",
       "\n",
       "| Conditional_Mean &lt;dbl[,1]&gt; | Forecasted_Volatility &lt;dbl&gt; | VaR90 &lt;dbl&gt; | VaR95 &lt;dbl&gt; | VaR99 &lt;dbl&gt; | VaR90Pos &lt;dbl&gt; | VaR95Pos &lt;dbl&gt; | VaR99Pos &lt;dbl&gt; |\n",
       "|---|---|---|---|---|---|---|---|\n",
       "| 0.0007591970 | 0.02110801 | 0.02359260 | 0.03252938 | 0.05670528 | 235926.0 | 325293.8 | 567052.8 |\n",
       "| 0.0002467598 | 0.02115921 | 0.02313556 | 0.03209402 | 0.05632857 | 231355.6 | 320940.2 | 563285.7 |\n",
       "| 0.0002346650 | 0.02120979 | 0.02317817 | 0.03215805 | 0.05645052 | 231781.7 | 321580.5 | 564505.2 |\n",
       "| 0.0002343796 | 0.02125974 | 0.02323192 | 0.03223294 | 0.05658262 | 232319.2 | 322329.4 | 565826.2 |\n",
       "| 0.0002343728 | 0.02130907 | 0.02328528 | 0.03230718 | 0.05671337 | 232852.8 | 323071.8 | 567133.7 |\n",
       "\n"
      ],
      "text/plain": [
       "  Conditional_Mean Forecasted_Volatility VaR90      VaR95      VaR99     \n",
       "1 0.0007591970     0.02110801            0.02359260 0.03252938 0.05670528\n",
       "2 0.0002467598     0.02115921            0.02313556 0.03209402 0.05632857\n",
       "3 0.0002346650     0.02120979            0.02317817 0.03215805 0.05645052\n",
       "4 0.0002343796     0.02125974            0.02323192 0.03223294 0.05658262\n",
       "5 0.0002343728     0.02130907            0.02328528 0.03230718 0.05671337\n",
       "  VaR90Pos VaR95Pos VaR99Pos\n",
       "1 235926.0 325293.8 567052.8\n",
       "2 231355.6 320940.2 563285.7\n",
       "3 231781.7 321580.5 564505.2\n",
       "4 232319.2 322329.4 565826.2\n",
       "5 232852.8 323071.8 567133.7"
      ]
     },
     "metadata": {},
     "output_type": "display_data"
    }
   ],
   "source": [
    "# Create the GARCH(1,1) model\n",
    "garch_spec_ryan <- ugarchspec(variance.model = list(model = \"sGARCH\", garchOrder = c(1, 1)),\n",
    "                         mean.model = list(armaOrder = c(1, 0), include.mean = TRUE), distribution.model = 'std')\n",
    "\n",
    "# Fit the GARCH model to the log returns\n",
    "garch_model_ryan_ar <- ugarchfit(spec = garch_spec_ryan, data = log_returns_ryan)\n",
    "\n",
    "# Step 5: Obtain the forecast for the next 5 trading days\n",
    "forecast_horizon <- 5\n",
    "forecast_ryan_ar <- ugarchforecast(garch_model_ryan_ar, n.ahead = forecast_horizon)\n",
    "forecasted_volatility_ar_ryan <- sigma(forecast_ryan_ar)\n",
    "forecast_tbl_ryan_ar <- tibble(Conditional_Mean = forecast_ryan_ar@forecast$seriesFor, Forecasted_Volatility = forecasted_volatility_ar_ryan[1:forecast_horizon])\n",
    "# Step 6: Obtain the VaR for the next 5 trading days at different confidence levels\n",
    "VaR_ar_tdist <- matrix(0, nrow = forecast_horizon, ncol = length(confidence_levels))\n",
    "\n",
    "for (i in 1:forecast_horizon) {\n",
    "  forecasted_vol <- forecasted_volatility_ar_ryan[i]\n",
    "  VaR_ar_tdist[i, ] <- forecast_ryan_ar@forecast$seriesFor[i] + forecast_ryan_ar@forecast$sigmaFor[i]* qdist(distribution='std', shape=garch_model_ryan_ar@fit[[\"coef\"]][[\"shape\"]], p=c(0.90,0.95,0.99))\n",
    "\n",
    "}\n",
    "\n",
    "# Step 7: Calculate the VaR based on a long position of 10 million Euros\n",
    "position <- 10e6\n",
    "VaR_based_on_position_ar_ryan <- position * VaR_ar_tdist\n",
    "\n",
    "# Add VaR columns to the forecast table\n",
    "forecast_tbl_ryan_ar <- cbind(forecast_tbl_ryan_ar, VaR = VaR_ar_tdist, VaR_based_on_position = VaR_based_on_position_ar_ryan)\n",
    "\n",
    "# Print the final forecast table\n",
    "forecast_tbl_ryan_ar <- forecast_tbl_ryan_ar %>%\n",
    "  rename(VaR90 = VaR.1,VaR95 = VaR.2,VaR99 = VaR.3, VaR90Pos = VaR_based_on_position.1,VaR95Pos = VaR_based_on_position.2,VaR99Pos = VaR_based_on_position.3)\n",
    "forecast_tbl_ryan_ar\n"
   ]
  },
  {
   "cell_type": "code",
   "execution_count": 31,
   "metadata": {
    "vscode": {
     "languageId": "r"
    }
   },
   "outputs": [
    {
     "data": {
      "text/html": [
       "0.204903911482093"
      ],
      "text/latex": [
       "0.204903911482093"
      ],
      "text/markdown": [
       "0.204903911482093"
      ],
      "text/plain": [
       "[1] 0.2049039"
      ]
     },
     "metadata": {},
     "output_type": "display_data"
    }
   ],
   "source": [
    "(296726.4 - 235926.0) / 296726.4"
   ]
  },
  {
   "attachments": {},
   "cell_type": "markdown",
   "metadata": {},
   "source": [
    "For an AR(1) - GARCH(1,1), with student t errors, we observe that as the confidence level increases from 0.90 to 0.99, the Value at Risk (VaR) for RYAAY also increases. For a long position of 10,000,000 euros, we observe a roughly 141% increase in the VaR as the confidence level increases from 0.9 to 0,99. Further, over the five day ahead forecast horizon, the VaR increases for each associated confidence level.\n",
    "When compared to the VaR obtained for the previous AR(1) - GARCH(1,1) with normal errors, we observe a significantly higher VaR at a confidence level of 0.99 (10%; approx 48,000 euros), although the VaR at a confidence level of 0.90 is substantially lower when compared to the model with normal errors.  "
   ]
  },
  {
   "attachments": {},
   "cell_type": "markdown",
   "metadata": {},
   "source": [
    "### VaR AR(1) GARCH-M (1,1) - STD-T Errors"
   ]
  },
  {
   "cell_type": "code",
   "execution_count": 32,
   "metadata": {
    "vscode": {
     "languageId": "r"
    }
   },
   "outputs": [
    {
     "data": {
      "text/html": [
       "<table class=\"dataframe\">\n",
       "<caption>A data.frame: 5 × 8</caption>\n",
       "<thead>\n",
       "\t<tr><th scope=col>Conditional_Mean</th><th scope=col>Forecasted_Volatility</th><th scope=col>VaR90</th><th scope=col>VaR95</th><th scope=col>VaR99</th><th scope=col>VaR90Pos</th><th scope=col>VaR95Pos</th><th scope=col>VaR99Pos</th></tr>\n",
       "\t<tr><th scope=col>&lt;dbl[,1]&gt;</th><th scope=col>&lt;dbl&gt;</th><th scope=col>&lt;dbl&gt;</th><th scope=col>&lt;dbl&gt;</th><th scope=col>&lt;dbl&gt;</th><th scope=col>&lt;dbl&gt;</th><th scope=col>&lt;dbl&gt;</th><th scope=col>&lt;dbl&gt;</th></tr>\n",
       "</thead>\n",
       "<tbody>\n",
       "\t<tr><td>0.0006820692</td><td>0.02109487</td><td>0.02350681</td><td>0.03243785</td><td>0.05659112</td><td>235068.1</td><td>324378.5</td><td>565911.2</td></tr>\n",
       "\t<tr><td>0.0001707697</td><td>0.02114570</td><td>0.02305052</td><td>0.03200308</td><td>0.05621456</td><td>230505.2</td><td>320030.8</td><td>562145.6</td></tr>\n",
       "\t<tr><td>0.0001616413</td><td>0.02119592</td><td>0.02309572</td><td>0.03206955</td><td>0.05633852</td><td>230957.2</td><td>320695.5</td><td>563385.2</td></tr>\n",
       "\t<tr><td>0.0001643279</td><td>0.02124552</td><td>0.02315208</td><td>0.03214690</td><td>0.05647267</td><td>231520.8</td><td>321469.0</td><td>564726.7</td></tr>\n",
       "\t<tr><td>0.0001672580</td><td>0.02129452</td><td>0.02320803</td><td>0.03222360</td><td>0.05660547</td><td>232080.3</td><td>322236.0</td><td>566054.7</td></tr>\n",
       "</tbody>\n",
       "</table>\n"
      ],
      "text/latex": [
       "A data.frame: 5 × 8\n",
       "\\begin{tabular}{llllllll}\n",
       " Conditional\\_Mean & Forecasted\\_Volatility & VaR90 & VaR95 & VaR99 & VaR90Pos & VaR95Pos & VaR99Pos\\\\\n",
       " <dbl{[},1{]}> & <dbl> & <dbl> & <dbl> & <dbl> & <dbl> & <dbl> & <dbl>\\\\\n",
       "\\hline\n",
       "\t 0.0006820692 & 0.02109487 & 0.02350681 & 0.03243785 & 0.05659112 & 235068.1 & 324378.5 & 565911.2\\\\\n",
       "\t 0.0001707697 & 0.02114570 & 0.02305052 & 0.03200308 & 0.05621456 & 230505.2 & 320030.8 & 562145.6\\\\\n",
       "\t 0.0001616413 & 0.02119592 & 0.02309572 & 0.03206955 & 0.05633852 & 230957.2 & 320695.5 & 563385.2\\\\\n",
       "\t 0.0001643279 & 0.02124552 & 0.02315208 & 0.03214690 & 0.05647267 & 231520.8 & 321469.0 & 564726.7\\\\\n",
       "\t 0.0001672580 & 0.02129452 & 0.02320803 & 0.03222360 & 0.05660547 & 232080.3 & 322236.0 & 566054.7\\\\\n",
       "\\end{tabular}\n"
      ],
      "text/markdown": [
       "\n",
       "A data.frame: 5 × 8\n",
       "\n",
       "| Conditional_Mean &lt;dbl[,1]&gt; | Forecasted_Volatility &lt;dbl&gt; | VaR90 &lt;dbl&gt; | VaR95 &lt;dbl&gt; | VaR99 &lt;dbl&gt; | VaR90Pos &lt;dbl&gt; | VaR95Pos &lt;dbl&gt; | VaR99Pos &lt;dbl&gt; |\n",
       "|---|---|---|---|---|---|---|---|\n",
       "| 0.0006820692 | 0.02109487 | 0.02350681 | 0.03243785 | 0.05659112 | 235068.1 | 324378.5 | 565911.2 |\n",
       "| 0.0001707697 | 0.02114570 | 0.02305052 | 0.03200308 | 0.05621456 | 230505.2 | 320030.8 | 562145.6 |\n",
       "| 0.0001616413 | 0.02119592 | 0.02309572 | 0.03206955 | 0.05633852 | 230957.2 | 320695.5 | 563385.2 |\n",
       "| 0.0001643279 | 0.02124552 | 0.02315208 | 0.03214690 | 0.05647267 | 231520.8 | 321469.0 | 564726.7 |\n",
       "| 0.0001672580 | 0.02129452 | 0.02320803 | 0.03222360 | 0.05660547 | 232080.3 | 322236.0 | 566054.7 |\n",
       "\n"
      ],
      "text/plain": [
       "  Conditional_Mean Forecasted_Volatility VaR90      VaR95      VaR99     \n",
       "1 0.0006820692     0.02109487            0.02350681 0.03243785 0.05659112\n",
       "2 0.0001707697     0.02114570            0.02305052 0.03200308 0.05621456\n",
       "3 0.0001616413     0.02119592            0.02309572 0.03206955 0.05633852\n",
       "4 0.0001643279     0.02124552            0.02315208 0.03214690 0.05647267\n",
       "5 0.0001672580     0.02129452            0.02320803 0.03222360 0.05660547\n",
       "  VaR90Pos VaR95Pos VaR99Pos\n",
       "1 235068.1 324378.5 565911.2\n",
       "2 230505.2 320030.8 562145.6\n",
       "3 230957.2 320695.5 563385.2\n",
       "4 231520.8 321469.0 564726.7\n",
       "5 232080.3 322236.0 566054.7"
      ]
     },
     "metadata": {},
     "output_type": "display_data"
    }
   ],
   "source": [
    "# Create the GARCH(1,1) model\n",
    "garch_spec_ryan <- ugarchspec(variance.model = list(model = \"sGARCH\", garchOrder = c(1, 1)),\n",
    "                         mean.model = list(armaOrder = c(1, 0), include.mean = TRUE, archm = TRUE), distribution.model = 'std')\n",
    "\n",
    "# Fit the GARCH model to the log returns\n",
    "garch_model_ryan_gm_tdist <- ugarchfit(spec = garch_spec_ryan, data = log_returns_ryan)\n",
    "\n",
    "# Step 5: Obtain the forecast for the next 5 trading days\n",
    "forecast_horizon <- 5\n",
    "forecast_ryan_gm_tdist <- ugarchforecast(garch_model_ryan_gm_tdist, n.ahead = forecast_horizon)\n",
    "forecasted_volatility_ryan_gm_tdist <- sigma(forecast_ryan_gm_tdist)\n",
    "forecast_tbl_gm_tdist_ryan <- tibble(Conditional_Mean = forecast_ryan_gm_tdist@forecast$seriesFor, Forecasted_Volatility = forecasted_volatility_ryan_gm_tdist[1:forecast_horizon])\n",
    "# Step 6: Obtain the VaR for the next 5 trading days at different confidence levels\n",
    "VaR_tdist_gm_ryan <- matrix(0, nrow = forecast_horizon, ncol = length(confidence_levels))\n",
    "\n",
    "for (i in 1:forecast_horizon) {\n",
    "  forecasted_vol <- forecasted_volatility_ryan_gm_tdist[i]\n",
    "  VaR_tdist_gm_ryan[i, ] <- forecast_ryan_gm_tdist@forecast$seriesFor[i] + forecast_ryan_gm_tdist@forecast$sigmaFor[i]* qdist(distribution='std', shape=garch_model_ryan_gm_tdist@fit[[\"coef\"]][[\"shape\"]], p=c(0.90,0.95,0.99))\n",
    "\n",
    "}\n",
    "\n",
    "# Step 7: Calculate the VaR based on a long position of 10 million Euros\n",
    "position <- 10e6\n",
    "VaR_based_on_position_tdis_gm_ryan <- position * VaR_tdist_gm_ryan\n",
    "\n",
    "# Add VaR columns to the forecast table\n",
    "forecast_tbl_gm_tdist_ryan <- cbind(forecast_tbl_gm_tdist_ryan, VaR = VaR_tdist_gm_ryan, VaR_based_on_position = VaR_based_on_position_tdis_gm_ryan)\n",
    "\n",
    "# Print the final forecast table\n",
    "forecast_tbl_gm_tdist_ryan <- forecast_tbl_gm_tdist_ryan %>%\n",
    "  rename(VaR90 = VaR.1,VaR95 = VaR.2,VaR99 = VaR.3, VaR90Pos = VaR_based_on_position.1,VaR95Pos = VaR_based_on_position.2,VaR99Pos = VaR_based_on_position.3)\n",
    "forecast_tbl_gm_tdist_ryan\n",
    "\n"
   ]
  },
  {
   "cell_type": "code",
   "execution_count": 33,
   "metadata": {
    "vscode": {
     "languageId": "r"
    }
   },
   "outputs": [
    {
     "data": {
      "text/html": [
       "1.40743512199231"
      ],
      "text/latex": [
       "1.40743512199231"
      ],
      "text/markdown": [
       "1.40743512199231"
      ],
      "text/plain": [
       "[1] 1.407435"
      ]
     },
     "metadata": {},
     "output_type": "display_data"
    }
   ],
   "source": [
    "(565911.2 - 235068.1 )/ 235068.1"
   ]
  },
  {
   "attachments": {},
   "cell_type": "markdown",
   "metadata": {},
   "source": [
    "For an AR(1) - GARCH-M(1,1), with student t errors, we observe that as the confidence level increases from 0.90 to 0.99, the Value at Risk (VaR) for RYAAY also increases. For a long position of 10,000,000 euros, we observe a roughly 142% increase in the VaR as the confidence level increases from 0.9 to 0,99. Furthermore, the VaR has an incremental increase over the five day forecast horizon.\n",
    "When compared to the VaR obtained for the previous AR(1) - GARCH(1,1) with student t errors, we observe a lower VaR at all associated confidence levels."
   ]
  },
  {
   "attachments": {},
   "cell_type": "markdown",
   "metadata": {},
   "source": [
    "### VaR AR(1) GARCH-M (1,1) - Normal Errors"
   ]
  },
  {
   "cell_type": "code",
   "execution_count": 34,
   "metadata": {
    "vscode": {
     "languageId": "r"
    }
   },
   "outputs": [
    {
     "name": "stdout",
     "output_type": "stream",
     "text": [
      "[1] 1\n",
      "[1] 2\n",
      "[1] 3\n",
      "[1] 4\n",
      "[1] 5\n"
     ]
    },
    {
     "data": {
      "text/html": [
       "<table class=\"dataframe\">\n",
       "<caption>A data.frame: 5 × 8</caption>\n",
       "<thead>\n",
       "\t<tr><th scope=col>Conditional_Mean</th><th scope=col>Forecasted_Volatility</th><th scope=col>VaR90</th><th scope=col>VaR95</th><th scope=col>VaR99</th><th scope=col>VaR90Pos</th><th scope=col>VaR95Pos</th><th scope=col>VaR99Pos</th></tr>\n",
       "\t<tr><th scope=col>&lt;dbl[,1]&gt;</th><th scope=col>&lt;dbl&gt;</th><th scope=col>&lt;dbl&gt;</th><th scope=col>&lt;dbl&gt;</th><th scope=col>&lt;dbl&gt;</th><th scope=col>&lt;dbl&gt;</th><th scope=col>&lt;dbl&gt;</th><th scope=col>&lt;dbl&gt;</th></tr>\n",
       "</thead>\n",
       "<tbody>\n",
       "\t<tr><td> 9.890552e-04</td><td>0.02229287</td><td>0.02955852</td><td>0.03765756</td><td>0.05285003</td><td>295585.2</td><td>376575.6</td><td>528500.3</td></tr>\n",
       "\t<tr><td> 2.108596e-05</td><td>0.02240763</td><td>0.02873762</td><td>0.03687835</td><td>0.05214902</td><td>287376.2</td><td>368783.5</td><td>521490.2</td></tr>\n",
       "\t<tr><td>-6.826231e-06</td><td>0.02251808</td><td>0.02885126</td><td>0.03703213</td><td>0.05237807</td><td>288512.6</td><td>370321.3</td><td>523780.7</td></tr>\n",
       "\t<tr><td> 7.732490e-06</td><td>0.02262443</td><td>0.02900210</td><td>0.03722160</td><td>0.05264002</td><td>290021.0</td><td>372216.0</td><td>526400.2</td></tr>\n",
       "\t<tr><td> 2.365086e-05</td><td>0.02272683</td><td>0.02914925</td><td>0.03740596</td><td>0.05289416</td><td>291492.5</td><td>374059.6</td><td>528941.6</td></tr>\n",
       "</tbody>\n",
       "</table>\n"
      ],
      "text/latex": [
       "A data.frame: 5 × 8\n",
       "\\begin{tabular}{llllllll}\n",
       " Conditional\\_Mean & Forecasted\\_Volatility & VaR90 & VaR95 & VaR99 & VaR90Pos & VaR95Pos & VaR99Pos\\\\\n",
       " <dbl{[},1{]}> & <dbl> & <dbl> & <dbl> & <dbl> & <dbl> & <dbl> & <dbl>\\\\\n",
       "\\hline\n",
       "\t  9.890552e-04 & 0.02229287 & 0.02955852 & 0.03765756 & 0.05285003 & 295585.2 & 376575.6 & 528500.3\\\\\n",
       "\t  2.108596e-05 & 0.02240763 & 0.02873762 & 0.03687835 & 0.05214902 & 287376.2 & 368783.5 & 521490.2\\\\\n",
       "\t -6.826231e-06 & 0.02251808 & 0.02885126 & 0.03703213 & 0.05237807 & 288512.6 & 370321.3 & 523780.7\\\\\n",
       "\t  7.732490e-06 & 0.02262443 & 0.02900210 & 0.03722160 & 0.05264002 & 290021.0 & 372216.0 & 526400.2\\\\\n",
       "\t  2.365086e-05 & 0.02272683 & 0.02914925 & 0.03740596 & 0.05289416 & 291492.5 & 374059.6 & 528941.6\\\\\n",
       "\\end{tabular}\n"
      ],
      "text/markdown": [
       "\n",
       "A data.frame: 5 × 8\n",
       "\n",
       "| Conditional_Mean &lt;dbl[,1]&gt; | Forecasted_Volatility &lt;dbl&gt; | VaR90 &lt;dbl&gt; | VaR95 &lt;dbl&gt; | VaR99 &lt;dbl&gt; | VaR90Pos &lt;dbl&gt; | VaR95Pos &lt;dbl&gt; | VaR99Pos &lt;dbl&gt; |\n",
       "|---|---|---|---|---|---|---|---|\n",
       "|  9.890552e-04 | 0.02229287 | 0.02955852 | 0.03765756 | 0.05285003 | 295585.2 | 376575.6 | 528500.3 |\n",
       "|  2.108596e-05 | 0.02240763 | 0.02873762 | 0.03687835 | 0.05214902 | 287376.2 | 368783.5 | 521490.2 |\n",
       "| -6.826231e-06 | 0.02251808 | 0.02885126 | 0.03703213 | 0.05237807 | 288512.6 | 370321.3 | 523780.7 |\n",
       "|  7.732490e-06 | 0.02262443 | 0.02900210 | 0.03722160 | 0.05264002 | 290021.0 | 372216.0 | 526400.2 |\n",
       "|  2.365086e-05 | 0.02272683 | 0.02914925 | 0.03740596 | 0.05289416 | 291492.5 | 374059.6 | 528941.6 |\n",
       "\n"
      ],
      "text/plain": [
       "  Conditional_Mean Forecasted_Volatility VaR90      VaR95      VaR99     \n",
       "1  9.890552e-04    0.02229287            0.02955852 0.03765756 0.05285003\n",
       "2  2.108596e-05    0.02240763            0.02873762 0.03687835 0.05214902\n",
       "3 -6.826231e-06    0.02251808            0.02885126 0.03703213 0.05237807\n",
       "4  7.732490e-06    0.02262443            0.02900210 0.03722160 0.05264002\n",
       "5  2.365086e-05    0.02272683            0.02914925 0.03740596 0.05289416\n",
       "  VaR90Pos VaR95Pos VaR99Pos\n",
       "1 295585.2 376575.6 528500.3\n",
       "2 287376.2 368783.5 521490.2\n",
       "3 288512.6 370321.3 523780.7\n",
       "4 290021.0 372216.0 526400.2\n",
       "5 291492.5 374059.6 528941.6"
      ]
     },
     "metadata": {},
     "output_type": "display_data"
    }
   ],
   "source": [
    "# Create the GARCH(1,1) model\n",
    "garch_spec_ryan <- ugarchspec(variance.model = list(model = \"sGARCH\", garchOrder = c(1, 1)),\n",
    "                         mean.model = list(armaOrder = c(1, 0), include.mean = TRUE, archm = TRUE))\n",
    "\n",
    "# Fit the GARCH model to the log returns\n",
    "garch_model_m_nrm_ryan <- ugarchfit(spec = garch_spec_ryan, data = log_returns_ryan)\n",
    "\n",
    "# Step 5: Obtain the forecast for the next 5 trading days\n",
    "forecast_horizon <- 5\n",
    "forecast_gm_nm_ryan <- ugarchforecast(garch_model_m_nrm_ryan, n.ahead = forecast_horizon)\n",
    "forecasted_volatility_gm_nm_ryan <- sigma(forecast_gm_nm_ryan)\n",
    "forecast_tbl_gm_nm_ryan <- tibble(Conditional_Mean = forecast_gm_nm_ryan@forecast$seriesFor, Forecasted_Volatility = forecasted_volatility_gm_nm_ryan[1:forecast_horizon])\n",
    "# Step 6: Obtain the VaR for the next 5 trading days at different confidence levels\n",
    "VaR_gm_nm_ryan <- matrix(0, nrow = forecast_horizon, ncol = length(confidence_levels))\n",
    "\n",
    "for (i in 1:forecast_horizon) {\n",
    "  print(i)\n",
    "  forecasted_vol <- forecasted_volatility_gm_nm_ryan[i]\n",
    "  VaR_gm_nm_ryan[i, ] <- forecast_gm_nm_ryan@forecast$seriesFor[i] + qnorm(p = c(0.9,0.95,0.99),mean =0,sd=1)*forecast_gm_nm_ryan@forecast$sigmaFor[i]\n",
    "\n",
    "}\n",
    "\n",
    "# Step 7: Calculate the VaR based on a long position of 10 million Euros\n",
    "position <- 10e6\n",
    "VaR_based_on_position_gm_nm_ryan <- position * VaR_gm_nm_ryan\n",
    "\n",
    "# Add VaR columns to the forecast table\n",
    "forecast_tbl_gm_nm_ryan <- cbind(forecast_tbl_gm_nm_ryan, VaR = VaR_gm_nm_ryan, VaR_based_on_position = VaR_based_on_position_gm_nm_ryan)\n",
    "\n",
    "# Print the final forecast table\n",
    "forecast_tbl_gm_nm_ryan <- forecast_tbl_gm_nm_ryan %>%\n",
    "  rename(VaR90 = VaR.1,VaR95 = VaR.2,VaR99 = VaR.3, VaR90Pos = VaR_based_on_position.1,VaR95Pos = VaR_based_on_position.2,VaR99Pos = VaR_based_on_position.3)\n",
    "forecast_tbl_gm_nm_ryan\n",
    "\n"
   ]
  },
  {
   "attachments": {},
   "cell_type": "markdown",
   "metadata": {},
   "source": [
    "For an AR(1) - GARCH-M(1,1), with normal errors, we observe that as the confidence level increases from 0.90 to 0.99, the Value at Risk (VaR) for RYAAY also increases. For a long position of 10,000,000 euros, we observe a roughly 82% increase in the VaR as the confidence level increases from 0.9 to 0,99. Furthermore,the VaR has an incremental increase over the five day forecast horizon.\n",
    "When compared to the VaR obtained for the previous AR(1) - GARCH - M(1,1) with student t errors, we observe a significantly lower VaR at a confidence level of 0.99, while a higher VaR is observed for confidence level of 0.90. "
   ]
  },
  {
   "cell_type": "code",
   "execution_count": 35,
   "metadata": {
    "vscode": {
     "languageId": "r"
    }
   },
   "outputs": [
    {
     "data": {
      "text/html": [
       "0.78797957407881"
      ],
      "text/latex": [
       "0.78797957407881"
      ],
      "text/markdown": [
       "0.78797957407881"
      ],
      "text/plain": [
       "[1] 0.7879796"
      ]
     },
     "metadata": {},
     "output_type": "display_data"
    }
   ],
   "source": [
    "(528500.3 - 295585.2) / 295585.2"
   ]
  },
  {
   "attachments": {},
   "cell_type": "markdown",
   "metadata": {},
   "source": [
    "## MuliVariate"
   ]
  },
  {
   "cell_type": "code",
   "execution_count": 64,
   "metadata": {
    "vscode": {
     "languageId": "r"
    }
   },
   "outputs": [
    {
     "name": "stdout",
     "output_type": "stream",
     "text": [
      "\n",
      "The downloaded binary packages are in\n",
      "\t/var/folders/6c/vby383sn3xlg0j_c253f0sf40000gn/T//Rtmp5rV7sf/downloaded_packages\n"
     ]
    }
   ],
   "source": [
    "install.packages(\"rmgarch\")\n",
    "library(rmgarch)\n",
    "# specify i.i.d. model for the univariate time series\n",
    "ugarch_spec <- ugarchspec(mean.model = list(armaOrder = c(0,0), include.mean = FALSE), \n",
    "                          variance.model = list(model = \"sGARCH\", garchOrder = c(1,1)))\n",
    "ms<-replicate(ugarch_spec, n = 2)\n",
    "# specify DCC model\n",
    "dcc_spec <- dccspec(uspec = multispec(ms),\n",
    "                    VAR = TRUE, lag = 2,\n",
    "                    model = \"DCC\", dccOrder = c(1,1))"
   ]
  },
  {
   "cell_type": "code",
   "execution_count": 65,
   "metadata": {
    "vscode": {
     "languageId": "r"
    }
   },
   "outputs": [],
   "source": [
    "logreturns <- cbind(log_returns_ubs, log_returns_ryan)"
   ]
  },
  {
   "cell_type": "code",
   "execution_count": 66,
   "metadata": {
    "vscode": {
     "languageId": "r"
    }
   },
   "outputs": [
    {
     "data": {
      "text/plain": [
       "            UBS.Adjusted RYAAY.Adjusted\n",
       "2018-05-09  0.0149071551  -0.0073761809\n",
       "2018-05-10  0.0024631128  -0.0086898822\n",
       "2018-05-11  0.0049079508   0.0032339320\n",
       "2018-05-14 -0.0042931567  -0.0013462152\n",
       "2018-05-15 -0.0043116674  -0.0131985194\n",
       "2018-05-16 -0.0074350014   0.0058975991\n",
       "2018-05-17 -0.0006220608  -0.0050788971\n",
       "2018-05-18 -0.0062422114   0.0174857541\n",
       "2018-05-21  0.0037499403   0.0478026119\n",
       "2018-05-22  0.0191541574   0.0054366341\n",
       "       ...                             \n",
       "2023-04-24  0.0132191888  -0.0009502614\n",
       "2023-04-25 -0.0478178257  -0.0186582526\n",
       "2023-04-26  0.0182006545  -0.0267205713\n",
       "2023-04-27  0.0173831056   0.0305873968\n",
       "2023-04-28 -0.0029585328   0.0244624583\n",
       "2023-05-01 -0.0104244674   0.0151581703\n",
       "2023-05-02 -0.0065082080   0.0075959920\n",
       "2023-05-03 -0.0285296986  -0.0227541623\n",
       "2023-05-04 -0.0203609754  -0.0243552385\n",
       "2023-05-05  0.0393018544   0.0224705050"
      ]
     },
     "metadata": {},
     "output_type": "display_data"
    }
   ],
   "source": [
    "logreturns"
   ]
  },
  {
   "cell_type": "code",
   "execution_count": 67,
   "metadata": {
    "vscode": {
     "languageId": "r"
    }
   },
   "outputs": [],
   "source": [
    "garchdcc_fit <- dccfit(dcc_spec, data = logreturns)"
   ]
  },
  {
   "cell_type": "code",
   "execution_count": 77,
   "metadata": {
    "vscode": {
     "languageId": "r"
    }
   },
   "outputs": [],
   "source": [
    "dccforecast <- dccforecast(garchdcc_fit, n.ahead = 1)"
   ]
  },
  {
   "cell_type": "code",
   "execution_count": 69,
   "metadata": {
    "vscode": {
     "languageId": "r"
    }
   },
   "outputs": [
    {
     "data": {
      "text/html": [
       "<dl>\n",
       "\t<dt>$n.ahead</dt>\n",
       "\t\t<dd>5</dd>\n",
       "\t<dt>$N</dt>\n",
       "\t\t<dd>1257</dd>\n",
       "\t<dt>$n.start</dt>\n",
       "\t\t<dd>0</dd>\n",
       "\t<dt>$n.roll</dt>\n",
       "\t\t<dd>0</dd>\n",
       "\t<dt>$sigmaFor</dt>\n",
       "\t\t<dd><table class=\"dataframe\">\n",
       "<caption>A matrix: 5 × 1 of type dbl</caption>\n",
       "<thead>\n",
       "\t<tr><th></th><th scope=col>2023-05-05</th></tr>\n",
       "</thead>\n",
       "<tbody>\n",
       "\t<tr><th scope=row>T+1</th><td>0.02229287</td></tr>\n",
       "\t<tr><th scope=row>T+2</th><td>0.02240763</td></tr>\n",
       "\t<tr><th scope=row>T+3</th><td>0.02251808</td></tr>\n",
       "\t<tr><th scope=row>T+4</th><td>0.02262443</td></tr>\n",
       "\t<tr><th scope=row>T+5</th><td>0.02272683</td></tr>\n",
       "</tbody>\n",
       "</table>\n",
       "</dd>\n",
       "\t<dt>$seriesFor</dt>\n",
       "\t\t<dd><table class=\"dataframe\">\n",
       "<caption>A matrix: 5 × 1 of type dbl</caption>\n",
       "<thead>\n",
       "\t<tr><th></th><th scope=col>2023-05-05</th></tr>\n",
       "</thead>\n",
       "<tbody>\n",
       "\t<tr><th scope=row>T+1</th><td> 9.890552e-04</td></tr>\n",
       "\t<tr><th scope=row>T+2</th><td> 2.108596e-05</td></tr>\n",
       "\t<tr><th scope=row>T+3</th><td>-6.826231e-06</td></tr>\n",
       "\t<tr><th scope=row>T+4</th><td> 7.732490e-06</td></tr>\n",
       "\t<tr><th scope=row>T+5</th><td> 2.365086e-05</td></tr>\n",
       "</tbody>\n",
       "</table>\n",
       "</dd>\n",
       "</dl>\n"
      ],
      "text/latex": [
       "\\begin{description}\n",
       "\\item[\\$n.ahead] 5\n",
       "\\item[\\$N] 1257\n",
       "\\item[\\$n.start] 0\n",
       "\\item[\\$n.roll] 0\n",
       "\\item[\\$sigmaFor] A matrix: 5 × 1 of type dbl\n",
       "\\begin{tabular}{r|l}\n",
       "  & 2023-05-05\\\\\n",
       "\\hline\n",
       "\tT+1 & 0.02229287\\\\\n",
       "\tT+2 & 0.02240763\\\\\n",
       "\tT+3 & 0.02251808\\\\\n",
       "\tT+4 & 0.02262443\\\\\n",
       "\tT+5 & 0.02272683\\\\\n",
       "\\end{tabular}\n",
       "\n",
       "\\item[\\$seriesFor] A matrix: 5 × 1 of type dbl\n",
       "\\begin{tabular}{r|l}\n",
       "  & 2023-05-05\\\\\n",
       "\\hline\n",
       "\tT+1 &  9.890552e-04\\\\\n",
       "\tT+2 &  2.108596e-05\\\\\n",
       "\tT+3 & -6.826231e-06\\\\\n",
       "\tT+4 &  7.732490e-06\\\\\n",
       "\tT+5 &  2.365086e-05\\\\\n",
       "\\end{tabular}\n",
       "\n",
       "\\end{description}\n"
      ],
      "text/markdown": [
       "$n.ahead\n",
       ":   5\n",
       "$N\n",
       ":   1257\n",
       "$n.start\n",
       ":   0\n",
       "$n.roll\n",
       ":   0\n",
       "$sigmaFor\n",
       ":   \n",
       "A matrix: 5 × 1 of type dbl\n",
       "\n",
       "| <!--/--> | 2023-05-05 |\n",
       "|---|---|\n",
       "| T+1 | 0.02229287 |\n",
       "| T+2 | 0.02240763 |\n",
       "| T+3 | 0.02251808 |\n",
       "| T+4 | 0.02262443 |\n",
       "| T+5 | 0.02272683 |\n",
       "\n",
       "\n",
       "$seriesFor\n",
       ":   \n",
       "A matrix: 5 × 1 of type dbl\n",
       "\n",
       "| <!--/--> | 2023-05-05 |\n",
       "|---|---|\n",
       "| T+1 |  9.890552e-04 |\n",
       "| T+2 |  2.108596e-05 |\n",
       "| T+3 | -6.826231e-06 |\n",
       "| T+4 |  7.732490e-06 |\n",
       "| T+5 |  2.365086e-05 |\n",
       "\n",
       "\n",
       "\n",
       "\n"
      ],
      "text/plain": [
       "$n.ahead\n",
       "[1] 5\n",
       "\n",
       "$N\n",
       "[1] 1257\n",
       "\n",
       "$n.start\n",
       "[1] 0\n",
       "\n",
       "$n.roll\n",
       "[1] 0\n",
       "\n",
       "$sigmaFor\n",
       "    2023-05-05\n",
       "T+1 0.02229287\n",
       "T+2 0.02240763\n",
       "T+3 0.02251808\n",
       "T+4 0.02262443\n",
       "T+5 0.02272683\n",
       "\n",
       "$seriesFor\n",
       "       2023-05-05\n",
       "T+1  9.890552e-04\n",
       "T+2  2.108596e-05\n",
       "T+3 -6.826231e-06\n",
       "T+4  7.732490e-06\n",
       "T+5  2.365086e-05\n"
      ]
     },
     "metadata": {},
     "output_type": "display_data"
    }
   ],
   "source": [
    "forecast_gm_nm_ryan@forecast"
   ]
  },
  {
   "cell_type": "code",
   "execution_count": 118,
   "metadata": {
    "vscode": {
     "languageId": "r"
    }
   },
   "outputs": [
    {
     "data": {
      "text/plain": [
       "\n",
       "*---------------------------------*\n",
       "*       DCC GARCH Forecast        *\n",
       "*---------------------------------*\n",
       "\n",
       "Distribution         :  mvnorm\n",
       "Model                :  DCC(1,1)\n",
       "Horizon              :  1\n",
       "Roll Steps           :  0\n",
       "-----------------------------------\n",
       "\n",
       "0-roll forecast: \n",
       ", , 1\n",
       "\n",
       "       [,1]   [,2]\n",
       "[1,] 1.0000 0.5059\n",
       "[2,] 0.5059 1.0000\n",
       "\n",
       "\n"
      ]
     },
     "metadata": {},
     "output_type": "display_data"
    }
   ],
   "source": [
    "dccforecast"
   ]
  },
  {
   "cell_type": "code",
   "execution_count": 87,
   "metadata": {
    "vscode": {
     "languageId": "r"
    }
   },
   "outputs": [
    {
     "data": {
      "text/html": [
       "<dl>\n",
       "\t<dt>$H</dt>\n",
       "\t\t<dd><ol>\n",
       "\t<li><style>\n",
       ".list-inline {list-style: none; margin:0; padding: 0}\n",
       ".list-inline>li {display: inline-block}\n",
       ".list-inline>li:not(:last-child)::after {content: \"\\00b7\"; padding: 0 .5ex}\n",
       "</style>\n",
       "<ol class=list-inline><li>0.000614481456832069</li><li>0.000280069474977518</li><li>0.000280069474977518</li><li>0.00049874139054425</li></ol>\n",
       "</li>\n",
       "</ol>\n",
       "</dd>\n",
       "\t<dt>$R</dt>\n",
       "\t\t<dd><ol>\n",
       "\t<li><style>\n",
       ".list-inline {list-style: none; margin:0; padding: 0}\n",
       ".list-inline>li {display: inline-block}\n",
       ".list-inline>li:not(:last-child)::after {content: \"\\00b7\"; padding: 0 .5ex}\n",
       "</style>\n",
       "<ol class=list-inline><li>1</li><li>0.50591048525985</li><li>0.50591048525985</li><li>1</li></ol>\n",
       "</li>\n",
       "</ol>\n",
       "</dd>\n",
       "\t<dt>$Q</dt>\n",
       "\t\t<dd><ol>\n",
       "\t<li><style>\n",
       ".list-inline {list-style: none; margin:0; padding: 0}\n",
       ".list-inline>li {display: inline-block}\n",
       ".list-inline>li:not(:last-child)::after {content: \"\\00b7\"; padding: 0 .5ex}\n",
       "</style>\n",
       "<ol class=list-inline><li>1.0822601111459</li><li>0.498042519422402</li><li>0.498042519422402</li><li>0.895475750990905</li></ol>\n",
       "</li>\n",
       "</ol>\n",
       "</dd>\n",
       "\t<dt>$Rbar</dt>\n",
       "\t\t<dd><ol>\n",
       "\t<li><table class=\"dataframe\">\n",
       "<caption>A matrix: 2 <U+00D7> 2 of type dbl</caption>\n",
       "<tbody>\n",
       "\t<tr><td>1.0000000</td><td>0.4654485</td></tr>\n",
       "\t<tr><td>0.4654485</td><td>1.0000000</td></tr>\n",
       "</tbody>\n",
       "</table>\n",
       "</li>\n",
       "</ol>\n",
       "</dd>\n",
       "\t<dt>$mu</dt>\n",
       "\t\t<dd><style>\n",
       ".list-inline {list-style: none; margin:0; padding: 0}\n",
       ".list-inline>li {display: inline-block}\n",
       ".list-inline>li:not(:last-child)::after {content: \"\\00b7\"; padding: 0 .5ex}\n",
       "</style>\n",
       "<ol class=list-inline><li>-0.00491150478383388</li><li>-0.00117637312250413</li></ol>\n",
       "</dd>\n",
       "</dl>\n"
      ],
      "text/latex": [
       "\\begin{description}\n",
       "\\item[\\$H] \\begin{enumerate}\n",
       "\\item \\begin{enumerate*}\n",
       "\\item 0.000614481456832069\n",
       "\\item 0.000280069474977518\n",
       "\\item 0.000280069474977518\n",
       "\\item 0.00049874139054425\n",
       "\\end{enumerate*}\n",
       "\n",
       "\\end{enumerate}\n",
       "\n",
       "\\item[\\$R] \\begin{enumerate}\n",
       "\\item \\begin{enumerate*}\n",
       "\\item 1\n",
       "\\item 0.50591048525985\n",
       "\\item 0.50591048525985\n",
       "\\item 1\n",
       "\\end{enumerate*}\n",
       "\n",
       "\\end{enumerate}\n",
       "\n",
       "\\item[\\$Q] \\begin{enumerate}\n",
       "\\item \\begin{enumerate*}\n",
       "\\item 1.0822601111459\n",
       "\\item 0.498042519422402\n",
       "\\item 0.498042519422402\n",
       "\\item 0.895475750990905\n",
       "\\end{enumerate*}\n",
       "\n",
       "\\end{enumerate}\n",
       "\n",
       "\\item[\\$Rbar] \\begin{enumerate}\n",
       "\\item A matrix: 2 <U+00D7> 2 of type dbl\n",
       "\\begin{tabular}{ll}\n",
       "\t 1.0000000 & 0.4654485\\\\\n",
       "\t 0.4654485 & 1.0000000\\\\\n",
       "\\end{tabular}\n",
       "\n",
       "\\end{enumerate}\n",
       "\n",
       "\\item[\\$mu] \\begin{enumerate*}\n",
       "\\item -0.00491150478383388\n",
       "\\item -0.00117637312250413\n",
       "\\end{enumerate*}\n",
       "\n",
       "\\end{description}\n"
      ],
      "text/markdown": [
       "$H\n",
       ":   1. 1. 0.000614481456832069\n",
       "2. 0.000280069474977518\n",
       "3. 0.000280069474977518\n",
       "4. 0.00049874139054425\n",
       "\n",
       "\n",
       "\n",
       "\n",
       "\n",
       "\n",
       "$R\n",
       ":   1. 1. 1\n",
       "2. 0.50591048525985\n",
       "3. 0.50591048525985\n",
       "4. 1\n",
       "\n",
       "\n",
       "\n",
       "\n",
       "\n",
       "\n",
       "$Q\n",
       ":   1. 1. 1.0822601111459\n",
       "2. 0.498042519422402\n",
       "3. 0.498042519422402\n",
       "4. 0.895475750990905\n",
       "\n",
       "\n",
       "\n",
       "\n",
       "\n",
       "\n",
       "$Rbar\n",
       ":   1. \n",
       "A matrix: 2 <U+00D7> 2 of type dbl\n",
       "\n",
       "| 1.0000000 | 0.4654485 |\n",
       "| 0.4654485 | 1.0000000 |\n",
       "\n",
       "\n",
       "\n",
       "\n",
       "\n",
       "$mu\n",
       ":   1. -0.00491150478383388\n",
       "2. -0.00117637312250413\n",
       "\n",
       "\n",
       "\n",
       "\n",
       "\n"
      ],
      "text/plain": [
       "$H\n",
       "$H[[1]]\n",
       ", , 1\n",
       "\n",
       "             [,1]         [,2]\n",
       "[1,] 0.0006144815 0.0002800695\n",
       "[2,] 0.0002800695 0.0004987414\n",
       "\n",
       "\n",
       "\n",
       "$R\n",
       "$R[[1]]\n",
       ", , 1\n",
       "\n",
       "          [,1]      [,2]\n",
       "[1,] 1.0000000 0.5059105\n",
       "[2,] 0.5059105 1.0000000\n",
       "\n",
       "\n",
       "\n",
       "$Q\n",
       "$Q[[1]]\n",
       ", , 1\n",
       "\n",
       "          [,1]      [,2]\n",
       "[1,] 1.0822601 0.4980425\n",
       "[2,] 0.4980425 0.8954758\n",
       "\n",
       "\n",
       "\n",
       "$Rbar\n",
       "$Rbar[[1]]\n",
       "          [,1]      [,2]\n",
       "[1,] 1.0000000 0.4654485\n",
       "[2,] 0.4654485 1.0000000\n",
       "\n",
       "\n",
       "$mu\n",
       ", , 1\n",
       "\n",
       "             [,1]         [,2]\n",
       "[1,] -0.004911505 -0.001176373\n",
       "\n"
      ]
     },
     "metadata": {},
     "output_type": "display_data"
    }
   ],
   "source": [
    "dccforecast@mforecast"
   ]
  },
  {
   "cell_type": "code",
   "execution_count": 86,
   "metadata": {
    "vscode": {
     "languageId": "r"
    }
   },
   "outputs": [],
   "source": [
    "H <- dccforecast@mforecast$H\n",
    "mu <- dccforecast@mforecast$mu"
   ]
  },
  {
   "cell_type": "code",
   "execution_count": 101,
   "metadata": {
    "vscode": {
     "languageId": "r"
    }
   },
   "outputs": [],
   "source": [
    "H_11<-H[[1]][1]\n",
    "H_22<-H[[1]][2]\n"
   ]
  },
  {
   "cell_type": "code",
   "execution_count": 121,
   "metadata": {
    "vscode": {
     "languageId": "r"
    }
   },
   "outputs": [],
   "source": [
    "VAR11<- abs(mu[1] + qnorm(p = c(0.95),mean =0,sd=1)*H_11)\n",
    "VAR22<- abs(mu[2] + qnorm(p = c(0.95),mean =0,sd=1)*H_22)\n"
   ]
  },
  {
   "cell_type": "code",
   "execution_count": 119,
   "metadata": {
    "vscode": {
     "languageId": "r"
    }
   },
   "outputs": [
    {
     "data": {
      "text/html": [
       "-0.00071569983078896"
      ],
      "text/latex": [
       "-0.00071569983078896"
      ],
      "text/markdown": [
       "-0.00071569983078896"
      ],
      "text/plain": [
       "[1] -0.0007156998"
      ]
     },
     "metadata": {},
     "output_type": "display_data"
    }
   ],
   "source": [
    "VAR22"
   ]
  },
  {
   "cell_type": "code",
   "execution_count": 120,
   "metadata": {
    "vscode": {
     "languageId": "r"
    }
   },
   "outputs": [
    {
     "data": {
      "text/html": [
       "0.0267525668074852"
      ],
      "text/latex": [
       "0.0267525668074852"
      ],
      "text/markdown": [
       "0.0267525668074852"
      ],
      "text/plain": [
       "[1] 0.02675257"
      ]
     },
     "metadata": {},
     "output_type": "display_data"
    }
   ],
   "source": [
    "sqrt(0.00071569983078896)"
   ]
  },
  {
   "cell_type": "code",
   "execution_count": 122,
   "metadata": {
    "vscode": {
     "languageId": "r"
    }
   },
   "outputs": [],
   "source": [
    "covariance[1] <- cov(log_returns_ubs, log_returns_ryan)\n",
    "corr <- covariance / (sqrt(VAR11) * sqrt(VAR22))"
   ]
  },
  {
   "cell_type": "code",
   "execution_count": 126,
   "metadata": {
    "vscode": {
     "languageId": "r"
    }
   },
   "outputs": [
    {
     "data": {
      "text/html": [
       "<table class=\"dataframe\">\n",
       "<caption>A matrix: 1 × 1 of type dbl</caption>\n",
       "<thead>\n",
       "\t<tr><th></th><th scope=col>RYAAY.Adjusted</th></tr>\n",
       "</thead>\n",
       "<tbody>\n",
       "\t<tr><th scope=row>UBS.Adjusted</th><td>-40299.64</td></tr>\n",
       "</tbody>\n",
       "</table>\n"
      ],
      "text/latex": [
       "A matrix: 1 × 1 of type dbl\n",
       "\\begin{tabular}{r|l}\n",
       "  & RYAAY.Adjusted\\\\\n",
       "\\hline\n",
       "\tUBS.Adjusted & -40299.64\\\\\n",
       "\\end{tabular}\n"
      ],
      "text/markdown": [
       "\n",
       "A matrix: 1 × 1 of type dbl\n",
       "\n",
       "| <!--/--> | RYAAY.Adjusted |\n",
       "|---|---|\n",
       "| UBS.Adjusted | -40299.64 |\n",
       "\n"
      ],
      "text/plain": [
       "             RYAAY.Adjusted\n",
       "UBS.Adjusted -40299.64     "
      ]
     },
     "metadata": {},
     "output_type": "display_data"
    }
   ],
   "source": [
    "(-sqrt(VAR11^2 + VAR22^2 + corr*VAR11*VAR22)) * 10000000"
   ]
  },
  {
   "cell_type": "code",
   "execution_count": null,
   "metadata": {
    "vscode": {
     "languageId": "r"
    }
   },
   "outputs": [],
   "source": []
  }
 ],
 "metadata": {
  "kernelspec": {
   "display_name": "R",
   "language": "R",
   "name": "ir"
  },
  "language_info": {
   "codemirror_mode": "r",
   "file_extension": ".r",
   "mimetype": "text/x-r-source",
   "name": "R",
   "pygments_lexer": "r",
   "version": "4.2.1"
  },
  "orig_nbformat": 4
 },
 "nbformat": 4,
 "nbformat_minor": 2
}
