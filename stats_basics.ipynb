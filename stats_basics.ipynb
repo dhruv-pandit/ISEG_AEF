{
 "cells": [
  {
   "cell_type": "markdown",
   "metadata": {},
   "source": [
    "# Statistics Basics"
   ]
  },
  {
   "cell_type": "markdown",
   "metadata": {},
   "source": [
    "## Discrete Random Variables\n",
    "### Expected Values and Variance\n",
    "Expected value of random value is theoretical mean of random variable, it is a parameter **not a statistic**\n",
    "- $ E(x) = \\sum xp(x) $ ; $E[g(x)] = \\sum g(x)p(x)$\n",
    "- g(x) can be any function, $x^2$ for example\n",
    "#### Example:\n",
    "Suppose 60% of people support the prime minister. If we randomly 2 people\n",
    "Let X represent the number of people who support\n",
    "- X 0    1    2\n",
    "- p 0.16 0.48 0.36\n",
    "- then $ E(X) = \\sum xp(x) = 0*0.16+1*0.48+2*0.36 = 1.2$\n",
    "- This is the theoretical mean, not one of the values of X. \n",
    "\n",
    "### Bernouli Distribution\n",
    "- Single Trial\n",
    "- Two outomces (success/ failure)\n",
    "- P(s) = p; P(F) = 1-p\n",
    "- $ P(X=x) = p^x(1-p)^{1-x}$ for x = 0,1\n",
    "- $\\mu = p, \\sigma^2 = p(1-p)$\n",
    "#### Example:\n",
    "- Approx 1 in 200 adults lawyers; one is selected randomly, what is distribution of lawyers?\n",
    "- Here $p = 1/200$\n",
    "- If X = number of lawyers in sample:\n",
    "- $ P(X=x) = (\\frac{1}{200})^x(1- \\frac{1}{200})^{1-x}$ ; x = 0,1 (either one lawyer or none)\n",
    "### Binomial Distribution\n",
    "- $\\begin{pmatrix} n \\\\ x \\end{pmatrix} = \\frac{n!}{x!(n-x)!}$\n",
    "- A coin is flipped 100; what is prob heads comes up 60\n",
    "- You buy lottery ticket once a week for 4 weeks, what is probability oyu win a cash prize exactly twice\n",
    "  \n",
    "* N independent trials\n",
    "* Each trials can have two outcomes (S or F)\n",
    "* P(S) = p, P(F) = 1-p; X is count of successes in n trials\n",
    "* $ P(X=x) = \\begin{pmatrix} n \\\\ x \\end{pmatrix} p^x(1-p)^{n-x}$ for x = 0,1,...n\n",
    "* $\\mu = E(X) = np ; \\sigma^2 = np(1-p)$\n",
    "#### Example:\n",
    "A balanced six sided die is rolled 3 times, what is probability 5 comes up exactly twice:\n",
    "- S = Rolling 5, F = Anything else\n",
    "- X = num 5 in 3 rolls, binomial distribution n = 3 ; p = 1/6\n",
    "- $P(X=2) = \\begin{pmatrix} 3 \\\\ 2 \\end{pmatrix} (1/6)^2(1-1/6)^{3-2} = 0.0694$\n",
    "- X~B(n,p)\n",
    "### HyperGeometric Distribution\n",
    "- Randomly sampling n objects withjour replacment from asource containing a successe and N-a failures\n",
    "- X is number of successes\n",
    "- $ P(X=x) = \\frac{\\begin{pmatrix} a \\\\ x \\end{pmatrix}\\begin{pmatrix} N-a \\\\ n-x \\end{pmatrix}}{\\begin{pmatrix} N \\\\ n \\end{pmatrix}}$\n",
    "- For x = max(0, n+a-N), .. Min(a, n)\n",
    "- $\\mu = n(a/N)$\n",
    "#### Example:\n",
    "Suppose a large high school has 1100 female students and 900 male. Sample of 10 selected, what is probability exactly 7 are female?\n",
    "- Not binomial, because if boss asks you to pick 10, you cant come back with 2 and say you have picked one 7 times\n",
    "- $ P(X=7) = \\frac{\\begin{pmatrix} 1100 \\\\ 7 \\end{pmatrix}\\begin{pmatrix} 900 \\\\ 3 \\end{pmatrix}}{\\begin{pmatrix} 2000 \\\\ 10\\end{pmatrix}}$ = 0.166490\n",
    "- N = 2000, n = 10, a = 1100\n",
    "- If binomial, then P(X = 7) = 0.166478\n",
    "**BD is reasonable approx to the hypergeometric, if not sampling 5% of population then BD is reasonable!**\n",
    "- 10/2000 = 0.5% so it is reasonable!\n",
    "### Geometric Distribution\n",
    "- Distribution of the num of trials needed to get fist success in repeated independent bernoulli trails\n",
    "- ind. trails\n",
    "- Two outcomes, S/F and X is the num trails to get the first success\n",
    "- $ P(X=x) = (1-p)^{x-1}p $ for x = 1, 2, 3...\n",
    "- $\\mu = 1/p, \\sigma^2 = 1-p / p^2$\n",
    "\n",
    "#### Example:\n",
    "In a large pop. 30% of adults have received CPR training. What is probability that the 6th person sampled is the first that has received training? :\n",
    "- p = 0.3\n",
    "- $ P(X = 6) =(1-0.3)^5 \\times 0.3 = 0.0504$\n",
    "- $\\mu =  1/0.3 = 3.33$\n",
    "Cumulative Distribution Function for GD :\n",
    "- $ F(x) = P(X\\le x) = 1 - (1-p)^x$\n",
    "### Poisson Distribution\n",
    "- Events are occurring independently\n",
    "- Prob that an event occurs in a given length of time does not change\n",
    "  - Events are random and independent\n",
    "- X  = number of events in time, has poisson distribution\n",
    "- $P(X = x) = \\frac{\\lambda^x e^{-\\lambda}}{x!}$\n",
    "- $ \\mu = \\lambda ; \\sigma^2 = \\lambda$\n",
    "#### Example\n",
    "One ng of Plutonium has 2.3 radioactive decays per second and number of decays has Poisson. what is prob that in a 2 second period there are exactly 3 radioactive decays:\n",
    "X = number of decays in a 2 second period\n",
    "$ \\lambda = 2.3 * 2 = 4.6 $\n",
    "* BD tends towards PoissonD as n tends to infinity and p tends to 0, and np stays constant\n",
    "* PD with $\\mu = np$ approx the BD if n is large and p is small\n",
    "* Above problem is BD but is approx by Poisson\n",
    "* It is an approximation to underlying reality\n",
    "#### Example:\n",
    "Albinim impacts 1 in 20000 europeans. In a random sample of 1000, what is probability that exactly 2 have it?\n",
    "- Technically this is a B~(1000, 1/20000)\n",
    "- P(X=2) = 0.001187965\n",
    "- By Poisson; P(X=2) = 0.01189037\n",
    "- P~B; large n, small p\n",
    "**Poisson approx is reasonable if n>50 and np<5**\n",
    "- Use poisson if np unknown, or large problems can get tough\n",
    "### Negative Binomial\n",
    "- Number of trials needed to get the rth success in independent trails\n",
    "-  Distribution of the number of trials needed to get the fixed number of successes\n",
    "- X is trails number for the rth success\n",
    "- $P(X=x) = \\begin{pmatrix} x-1 \\\\ r-1 \\end{pmatrix}p^r(1-p)^{x-r}$\n",
    "- $\\mu = r/p ; \\sigma^2 = r(1-p) / p^2\n",
    "\n",
    "#### Example:\n",
    "A person conducting surveys must get 3 before job is over. On randomm call, there is 9% chance of somebody finishing it. What is prob that the 3rd survey is on teh 10th call?\n",
    "$P(X = 10) = \\begin{pmatrix} 10-1 \\\\ 3-1 \\end{pmatrix}0.09^3(1-0.09)^{10-3} = 0.01356$\n",
    "- $\\mu = 33.3 $ on avg make 33 calls\n",
    "### Multinomial Distribution\n",
    "- generalization of the binomial distribution\n",
    "- n ind. trials\n",
    "- each trial results in one of k mutually excl. outcomes\n",
    "- K outcomes occurr with probabilities p1 .. pk\n",
    "- $/sum^k_{i=1} p_i = 1)\n",
    "- $P(X_1 = x!1..., X_k = x_k) = \\frac{n!}{x_1! ... x_k!}p_1^{x_1} ... p_k^{x_k}$\n",
    "- $\\mu =np_i ; \\sigma^2 = np_i(1 - p_i)\n",
    "#### Example:\n",
    "Type O    A    B    AB\n",
    "Prob 0.44 0.42 0.10 0.04\n",
    "In a random sample of 10 americans what is prob. 6 have O 2 have A 1 has B and 1 has AB:\n",
    "- random = independent\n",
    "- prob are staying constant during trials\n",
    "- $P(X_1 = 6, X_2 = 2, X_3 = 1, X_4 = 1) = \\frac{10!}{6!2!1!1!}0.44^6 0.42^2 0.10^1 0.04^1 = 0.01290$\n"
   ]
  },
  {
   "cell_type": "markdown",
   "metadata": {},
   "source": [
    "## Continous Random Variables\n",
    "### Basics\n",
    "- RV can take on infinite number of values in an interval, (3 , 5)\n",
    "- Height can be a CRV, and have a continous probability distribution\n",
    "- *f(x) = probability density function*\n",
    "- Probabilities are areas under curve\n",
    "- $ E(X) = \\mu = \\int^\\infty_\\infty xf(x)dx$\n",
    "- $\\sigma^2 = E[(X-\\mu)^2] = \\int^\\infty_\\infty (x-\\mu)^2f(x)dx = E(X^2) - [E(X)]^2$\n",
    "  \n",
    "### Uniform Distribution\n",
    "- f(x) is constant over possible values of x\n",
    "- f(x) = 1/d-c between c and d, and 0 elsewhere\n",
    "- median = $\\mu$ = c+d/2\n",
    "- $\\sigma^2 = 1/12 (d-c)^2$\n",
    "\n",
    "### Normal/Gaussian Distribution\n",
    "- $X~N(\\mu, \\sigma^2)$\n",
    "Std. Normal Distribution is :\n",
    "- Z~N(0,1)\n",
    "\n",
    "* If $X~N(\\mu, \\sigma^2)$\n",
    "* Then Z = $\\frac{X-\\mu}{\\sigma}$ where Z~N(0,1)\n",
    "\n",
    "### Chi Square Distribution\n",
    "- $Z^2$ has a $\\chi^2$ with 1 DOF Where Z~N(0,1)\n",
    "- $\\sum Z_k^2 = \\chi^2$ with k DOF\n",
    "- $\\mu = k, \\sigma^2 = 2k$"
   ]
  },
  {
   "cell_type": "code",
   "execution_count": 2,
   "metadata": {},
   "outputs": [],
   "source": [
    "import numpy as np\n",
    "import pandas as pd\n",
    "import scipy.stats\n",
    "import matplotlib.pyplot as plt"
   ]
  },
  {
   "cell_type": "code",
   "execution_count": 10,
   "metadata": {},
   "outputs": [
    {
     "data": {
      "image/png": "[encoded data removed]",
      "text/plain": [
       "<Figure size 432x288 with 1 Axes>"
      ]
     },
     "metadata": {
      "needs_background": "light"
     },
     "output_type": "display_data"
    }
   ],
   "source": [
    "x = np.linspace(-5, 5, 5000)\n",
    "plt.plot(x, scipy.stats.norm.pdf(x, 0, 1))\n",
    "plt.show()\n"
   ]
  },
  {
   "cell_type": "code",
   "execution_count": 11,
   "metadata": {},
   "outputs": [
    {
     "data": {
      "image/png": "[encoded data removed]",
      "text/plain": [
       "<Figure size 432x288 with 1 Axes>"
      ]
     },
     "metadata": {
      "needs_background": "light"
     },
     "output_type": "display_data"
    }
   ],
   "source": [
    "plt.plot(x, scipy.stats.norm.cdf(x, 0, 1))\n",
    "plt.show()\n"
   ]
  }
 ],
 "metadata": {
  "kernelspec": {
   "display_name": "Python 3.9.13 64-bit",
   "language": "python",
   "name": "python3"
  },
  "language_info": {
   "codemirror_mode": {
    "name": "ipython",
    "version": 3
   },
   "file_extension": ".py",
   "mimetype": "text/x-python",
   "name": "python",
   "nbconvert_exporter": "python",
   "pygments_lexer": "ipython3",
   "version": "3.9.13"
  },
  "orig_nbformat": 4,
  "vscode": {
   "interpreter": {
    "hash": "b0fa6594d8f4cbf19f97940f81e996739fb7646882a419484c72d19e05852a7e"
   }
  }
 },
 "nbformat": 4,
 "nbformat_minor": 2
}
