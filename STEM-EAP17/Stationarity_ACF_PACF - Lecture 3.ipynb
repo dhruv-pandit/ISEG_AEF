{
 "cells": [
  {
   "cell_type": "code",
   "execution_count": 1,
   "metadata": {},
   "outputs": [],
   "source": [
    "import pandas as pd\n",
    "import numpy as np\n",
    "import seaborn as sns\n",
    "import statsmodels.api as sm\n",
    "from statsmodels.graphics import tsaplots\n",
    "import matplotlib.pyplot as plt"
   ]
  },
  {
   "cell_type": "markdown",
   "metadata": {},
   "source": [
    "# Lecture 3\n",
    "## Stationarity, ACF and PACF\n",
    "\n",
    "### Stochastic Process and Stationarity\n",
    "- Stochastic process is family of time indexed random variables\n",
    "- $Z(\\omega, t) : t = 0, 1, 2,$ where $\\omega$ is  the sample set and t is the index set\n",
    "- time series is a sample function from a stochastic process $X_t, t = 1, 2, T$\n",
    "- Is said to be weak or covariance stationary if it has a constant mean\n",
    "  \n",
    "    $E(X_t) = \\mu$\n",
    "    \n",
    "  constant variance\n",
    "\n",
    "    $Var (X_t) = E(X_t - \\mu)^2 = \\sigma^2$\n",
    "    \n",
    "  and cov and corr between X depend only on time difference K\n",
    "\n",
    "  $ \\rho_k = \\frac{\\gamma_k}{\\gamma_0} = \\frac{Cov (X_t, X_t-k)}{\\sigma_x^2}$\n",
    "\n",
    "- Distribution if stationary does not depend on time t but only on time difference k $(X_t, X_t-1, X_t-2...)$\n",
    "\n",
    "### Autocorrelation Function (ACF)\n",
    "Main properties of ACF are:\n",
    "1. $\\rho_0 = 1  \\because \\gamma_0 = \\frac{Var(X_t)}{Var(X_T)}$ \n",
    "2. $\\mid \\gamma_k \\mid \\le \\gamma_0; \\mid \\rho_k \\mid \\le \\rho_0$\n",
    "3. $\\gamma_k = \\gamma_-k; \\rho_k = \\rho_-k$\n",
    "4. Are symmetric around 0; so you dont need to define the funciton (-k) $\\because$ time diff is same\n",
    "5. $\\gamma_k$ and $\\rho_k$ are PSD\n",
    "   - $\\sum \\sum \\alpha_i \\alpha_j \\gamma_{\\mid t_i - t_j\\mid} \\ge 0$\n",
    "   - $\\sum \\sum \\alpha_i \\alpha_j \\rho_{\\mid t_i - t_j\\mid} \\ge 0$\n",
    "    for any $t_1, t_2, ... t_n$, and real numbers $\\alpha_1, \\alpha_2...\\alpha_n$\n",
    "     \n",
    "### Partial Autocorrelation Function (PACF)\n",
    "- PACF measures the correlation between $X_t$ and $X_{t-k}$ when the intermediate variables are removed\n",
    "  - $Cor(X_T, X_{t-k} \\mid X_{t-1}, X_{t-2},... X_{t-k+1}$\n",
    "- Removes the effect of the intermediate variables (linear dependancy)\n",
    "PACF of order k is denoted by $\\phi_kk$ and can be obtained by regressing $X_t$ and $X_{t-k}$\n",
    "- $X_t = \\phi_{k1}X_{t-1} + \\phi_{k2}X_{t-2} +... \\phi_{kk}X_{t-k} + a_t$ \n",
    "- a is error time\n",
    "- $E(X_tX_{t-j}) = \\phi_{k1}E(X_{t-1}X_{t-j}) + ... \\phi_{kk}E(X_{t-1}X_{t-j}) + E(a_tX_{t-j})$ \n",
    "  \n",
    "  $\\Rightarrow \\gamma_j = \\phi_{k1}\\gamma{j-1} + ... \\phi_{kk}\\gamma{j-k}$\n",
    "  - dividing by $\\gamma_0$ we get;\n",
    "  \n",
    " - $\\rho_j = \\phi_{k1}\\rho_{j-1} ... + \\phi_{kk}\\rho_{j-k}$\n",
    "\n",
    "#### Cramer Rule\n",
    "$x_i = \\frac{det(A_i)}{det A}$\n",
    "\n",
    "where subscript represents which column is replaced by rightside column vector\n",
    "\n",
    "$\\phi_{22} =\n",
    "  \\left[ {\\begin{array}{cc}\n",
    "    a_{11} \\\\\n",
    "    a_{21} \\\\\n",
    "  \\end{array} } \\right]\n",
    "$\n",
    "\n",
    "\n",
    "##### Sample ACF\n",
    "- $\\hat{\\rho_k} = \\frac {\\hat{\\gamma_k}}{\\hat{\\gamma_K}} = \\frac{\\sum^{n_k}_{t=1} (X_t - \\bar{X})(X_{t-k} - \\bar{X}) }{\\sum(X_t - \\bar{X})^2}$\n",
    "  \n",
    "\n",
    "##### Sample PACF\n",
    "\n",
    "\n",
    "- $\\hat{\\phi_{22}} = \\frac{\\hat{\\rho_2} - \\sum_{j=1}^1\\hat{\\phi_{1j}}\\hat{\\rho_{2-j}}}{1 - \\sum_{j=1}^1\\hat{\\phi_{1j}}\\hat{\\rho_j}}$\n",
    "\n",
    "  $= \\frac{\\hat{\\rho_2} - \\hat{\\phi_{11}}\\hat{\\rho_{1}}}{1 - \\hat{\\phi_{11}}\\hat{\\rho_1}}$\n",
    "  $= \\frac{\\hat{\\rho_2} - \\hat{\\rho_{1}}^2} {1 - \\hat{\\rho_1}^2}$\n",
    "\n",
    "  \n",
    "\n",
    "\n"
   ]
  },
  {
   "cell_type": "markdown",
   "metadata": {},
   "source": [
    "## Understanding PACF and ACF Plots\n",
    "- They are used to figure out the order of ar ma and arma models\n",
    "- "
   ]
  },
  {
   "cell_type": "code",
   "execution_count": 22,
   "metadata": {},
   "outputs": [
    {
     "data": {
      "text/plain": [
       "count     10.000000\n",
       "mean     104.300000\n",
       "std       28.452885\n",
       "min       65.000000\n",
       "25%       81.250000\n",
       "50%      103.500000\n",
       "75%      119.500000\n",
       "max      156.000000\n",
       "dtype: float64"
      ]
     },
     "execution_count": 22,
     "metadata": {},
     "output_type": "execute_result"
    }
   ],
   "source": [
    "data = pd.Series(np.array([65, 78, 75, 102, 91, 115, 105, 135, 121, 156]))\n",
    "data.describe()\n"
   ]
  },
  {
   "cell_type": "code",
   "execution_count": 29,
   "metadata": {},
   "outputs": [
    {
     "data": {
      "image/png": "[encoded data removed]",
      "text/plain": [
       "<Figure size 432x288 with 1 Axes>"
      ]
     },
     "metadata": {},
     "output_type": "display_data"
    }
   ],
   "source": [
    "sns.lineplot(data=data)\n",
    "sns.set_theme()"
   ]
  },
  {
   "cell_type": "code",
   "execution_count": 24,
   "metadata": {},
   "outputs": [
    {
     "name": "stdout",
     "output_type": "stream",
     "text": [
      "[1.         0.43437642]\n",
      "[1.         0.48264046]\n",
      "[1.         0.43437642 0.47969696]\n",
      "[1.         0.48264046 0.47803333]\n",
      "[ 1.          0.43437642  0.47969696 -0.00938362]\n",
      "[ 1.          0.48264046  0.47803333 -0.66779182]\n"
     ]
    }
   ],
   "source": [
    "#tsaplots.plot_pacf(data, lags = 2)\n",
    "for i in range (1,4):\n",
    "    print(sm.tsa.acf(data, nlags=i))\n",
    "    print(sm.tsa.pacf(data, nlags=i))\n"
   ]
  },
  {
   "cell_type": "code",
   "execution_count": 30,
   "metadata": {},
   "outputs": [
    {
     "name": "stderr",
     "output_type": "stream",
     "text": [
      "/opt/homebrew/lib/python3.9/site-packages/statsmodels/graphics/tsaplots.py:348: FutureWarning: The default method 'yw' can produce PACF values outside of the [-1,1] interval. After 0.13, the default will change tounadjusted Yule-Walker ('ywm'). You can use this method now by setting method='ywm'.\n",
      "  warnings.warn(\n"
     ]
    },
    {
     "data": {
      "image/png": "[encoded data removed]",
      "text/plain": [
       "<Figure size 432x288 with 1 Axes>"
      ]
     },
     "execution_count": 30,
     "metadata": {},
     "output_type": "execute_result"
    },
    {
     "data": {
      "image/png": "[encoded data removed]",
      "text/plain": [
       "<Figure size 432x288 with 1 Axes>"
      ]
     },
     "metadata": {},
     "output_type": "display_data"
    }
   ],
   "source": [
    "tsaplots.plot_pacf(data, lags = 2)"
   ]
  }
 ],
 "metadata": {
  "kernelspec": {
   "display_name": "Python 3.9.13 64-bit",
   "language": "python",
   "name": "python3"
  },
  "language_info": {
   "codemirror_mode": {
    "name": "ipython",
    "version": 3
   },
   "file_extension": ".py",
   "mimetype": "text/x-python",
   "name": "python",
   "nbconvert_exporter": "python",
   "pygments_lexer": "ipython3",
   "version": "3.10.7"
  },
  "orig_nbformat": 4,
  "vscode": {
   "interpreter": {
    "hash": "b0fa6594d8f4cbf19f97940f81e996739fb7646882a419484c72d19e05852a7e"
   }
  }
 },
 "nbformat": 4,
 "nbformat_minor": 2
}
