{
 "cells": [
  {
   "cell_type": "markdown",
   "metadata": {},
   "source": [
    "## Modeling Procedures\n",
    "1. Plot the time series data\n",
    "2. If needed apply variance transformations to stabilize variance(box cox)\n",
    "   - Cannot apply log to negative time series, so always apply the variance transformations before differencing \n",
    "3. If needed, take differences to make it stationary\n",
    "4. Examine ACF AND PACF of the differenced time series to obtain the order of the model\n",
    "   - Try to determine candidate models\n",
    "5. Check the residuals of the model, if residuals look like white noise, then model is good becuase it has no structure, and the model has a good fit:\n",
    "   - $\\hat{\\epsilon_t} = X_t - \\hat{X_t}$\n",
    "6. Use selection criteria (AIC, SBC, HQ) to select the best model\n",
    "7. Use the best model to compute forecasts.\n",
    "\n",
    "Identification\n",
    "Estimation\n",
    "Diagnostic Checking \n",
    "Model Selection\n",
    "Forecasting\n",
    "Identification\n",
    " | ACF | # PCF\n",
    "---|---|---\n",
    "AR(P) | tails off  | cuts off after lag P\n",
    "MA(Q) | cuts off after lag q | tails off \n",
    "Estimation\n",
    "- MLE Method (maximum likelihood estimation method)\n",
    "  - (minimise function of residuals)\n",
    "\n",
    "- OLS Method \n",
    "  - For AR(p) but **not for MA(q) model**\n",
    "\n",
    "Quality of parameter estimates:\n",
    "- hypothesis estimate $H_0 : \\beta_j = 0 vs H_1: \\beta_j \\ne 0$\n",
    "Check whether the residuals are white noise\n",
    "- $H_0 : \\rho^R_k = 0 vs H_1: \\rho_k^R \\ne 0$"
   ]
  },
  {
   "cell_type": "markdown",
   "metadata": {},
   "source": []
  }
 ],
 "metadata": {
  "kernelspec": {
   "display_name": "Python 3.10.7 64-bit",
   "language": "python",
   "name": "python3"
  },
  "language_info": {
   "name": "python",
   "version": "3.10.7"
  },
  "orig_nbformat": 4,
  "vscode": {
   "interpreter": {
    "hash": "b0fa6594d8f4cbf19f97940f81e996739fb7646882a419484c72d19e05852a7e"
   }
  }
 },
 "nbformat": 4,
 "nbformat_minor": 2
}
