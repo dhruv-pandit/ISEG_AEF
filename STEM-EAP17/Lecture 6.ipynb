{
 "cells": [
  {
   "cell_type": "markdown",
   "metadata": {},
   "source": [
    "## Modeling Procedures\n",
    "1. Plot the time series data\n",
    "2. If needed apply variance transformations to stabilise variance(box cox)\n",
    "   - Cannot apply log to negative time series, so always apply the variance transformations before differencing \n",
    "3. If needed, take differences to make it stationary\n",
    "4. "
   ]
  }
 ],
 "metadata": {
  "language_info": {
   "name": "python"
  },
  "orig_nbformat": 4
 },
 "nbformat": 4,
 "nbformat_minor": 2
}
