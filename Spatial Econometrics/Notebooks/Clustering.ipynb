{
 "cells": [
  {
   "cell_type": "code",
   "execution_count": 4,
   "metadata": {},
   "outputs": [],
   "source": [
    "import pandas as pd\n",
    "import numpy as np"
   ]
  },
  {
   "attachments": {},
   "cell_type": "markdown",
   "metadata": {},
   "source": [
    "## Clustering\n",
    "- Wish to cluster similar groups?\n",
    "- How can we do so\n",
    "\n",
    "#### Euclidean Distance\n",
    "- Euclidean distance : $d_ij = \\sqrt{\\sum^p_v{(X_iv - X_jv)^2}}$\n",
    "- WSS = sum of squares within the data points \n",
    "- BSS : distance between the n clusters\n",
    "- Ideally we wish to: \n",
    "  - **Min WSS**\n",
    "  - **Max BSS**\n",
    "\n",
    "#### Nearest Neighbour\n",
    "- Max similarity between two cases belonging to groups. Given two groups, the distanec between the two is the samllest distance distance between the elements of the groups\n",
    "  - $d_{(i,j)k} = min (d_{ik} ; d_{jk})$\n",
    "- Any groups is defined as a set of cases in which any eleme\n",
    "\n",
    "- Single Linkage\n",
    "- Complete Linkage\n",
    "##### Basic Concepts  \n",
    "* **Cluster Centroid**: average of all variables for all the cases within the group ($\\bar{X}, \\bar{y}$)\n",
    "* **Initial Centres**: Starting points for non hierarchical methods\n",
    "* **Distance between cluster centres (BSS**) : dissimilarity degree of the clusters, ideally max\n",
    "* **Distance Matrix** : matrix containing distances between individuals\n",
    "* **Dendrogram**: graph that summarizes distances between individuals\n",
    "\n",
    "##### Steps\n",
    "1. Problem Definition\n",
    "2. Choose the variables\n",
    "3. Transform the initial data\n",
    "   1. Magnitude of the data points could be vary different\n",
    "   2. **Standardize** the variables\n",
    "   3. In a regression context, standardized coefficients and variables are important to compare the importance of the coefficients (variables)\n",
    "   4. Could opt for something like log transformations to estimate elasticities\n",
    "4. Select Clustering method\n",
    "5. Decide on number of clusters\n",
    "6. Interpret"
   ]
  },
  {
   "cell_type": "markdown",
   "metadata": {},
   "source": []
  }
 ],
 "metadata": {
  "kernelspec": {
   "display_name": "Python 3",
   "language": "python",
   "name": "python3"
  },
  "language_info": {
   "codemirror_mode": {
    "name": "ipython",
    "version": 3
   },
   "file_extension": ".py",
   "mimetype": "text/x-python",
   "name": "python",
   "nbconvert_exporter": "python",
   "pygments_lexer": "ipython3",
   "version": "3.10.7"
  },
  "orig_nbformat": 4
 },
 "nbformat": 4,
 "nbformat_minor": 2
}
