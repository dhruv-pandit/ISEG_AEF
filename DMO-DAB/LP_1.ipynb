{
 "cells": [
  {
   "cell_type": "code",
   "execution_count": 1,
   "metadata": {},
   "outputs": [],
   "source": [
    "import pulp as pl\n",
    "import pandas as pd"
   ]
  },
  {
   "cell_type": "markdown",
   "metadata": {},
   "source": [
    "## Linear Programming\n",
    "\n",
    "#### Mixed Integer Programming\n",
    "ghpos"
   ]
  },
  {
   "cell_type": "code",
   "execution_count": 3,
   "metadata": {},
   "outputs": [],
   "source": [
    "#Create Model, pass in sense\n",
    "#You use the sense parameter to choose whether to perform minimization (LpMinimize or 1, which is the default) or maximization (LpMaximize or -1).problem.\n",
    "problem = pl.LpProblem(\"Simple_Diet_Problem\",pl.LpMaximize)"
   ]
  },
  {
   "cell_type": "code",
   "execution_count": 4,
   "metadata": {},
   "outputs": [],
   "source": [
    "# Initialize the decision variables\n",
    "x1 = pl.LpVariable('X1', lowBound=0 , cat=pl.LpContinuous)\n",
    "x2 = pl.LpVariable('X2', lowBound=0 , cat=pl.LpContinuous)\n"
   ]
  },
  {
   "cell_type": "code",
   "execution_count": 5,
   "metadata": {},
   "outputs": [],
   "source": [
    "# Add the constraints to the model\n",
    "#Objective Function\n",
    "problem += 5*x1 + 4*x2 , 'Objective Function'\n",
    "#Constraints\n",
    "problem += 6*x1 + 4*x2 <= 24 , 'Raw mat1 Constraint'\n",
    "problem += x1 + 2*x2 <=6, 'raw mat 2 Constraint'\n",
    "problem += -1*x1 + 1*x2 <= 1 , 'market'\n",
    "problem += x2 <=2, 'demand'\n",
    "#For larger problems, it’s often more convenient to use lpSum() with a list or other sequence than to repeat the + operator. \n"
   ]
  },
  {
   "cell_type": "code",
   "execution_count": 6,
   "metadata": {},
   "outputs": [
    {
     "data": {
      "text/plain": [
       "Simple_Diet_Problem:\n",
       "MAXIMIZE\n",
       "5*X1 + 4*X2 + 0\n",
       "SUBJECT TO\n",
       "Raw_mat1_Constraint: 6 X1 + 4 X2 <= 24\n",
       "\n",
       "raw_mat_2_Constraint: X1 + 2 X2 <= 6\n",
       "\n",
       "market: - X1 + X2 <= 1\n",
       "\n",
       "demand: X2 <= 2\n",
       "\n",
       "VARIABLES\n",
       "X1 Continuous\n",
       "X2 Continuous"
      ]
     },
     "execution_count": 6,
     "metadata": {},
     "output_type": "execute_result"
    }
   ],
   "source": [
    "problem\n",
    "#can see the model/problems definitions and what its constraints are"
   ]
  },
  {
   "cell_type": "code",
   "execution_count": 15,
   "metadata": {},
   "outputs": [
    {
     "name": "stdout",
     "output_type": "stream",
     "text": [
      "Welcome to the CBC MILP Solver \n",
      "Version: 2.10.3 \n",
      "Build Date: Dec 15 2019 \n",
      "\n",
      "command line - /opt/homebrew/lib/python3.9/site-packages/pulp/apis/../solverdir/cbc/osx/64/cbc /var/folders/6c/vby383sn3xlg0j_c253f0sf40000gn/T/762dffebb75a4c1a9bf96d4d74fc12c0-pulp.mps max timeMode elapsed branch printingOptions all solution /var/folders/6c/vby383sn3xlg0j_c253f0sf40000gn/T/762dffebb75a4c1a9bf96d4d74fc12c0-pulp.sol (default strategy 1)\n",
      "At line 2 NAME          MODEL\n",
      "At line 3 ROWS\n",
      "At line 9 COLUMNS\n",
      "At line 19 RHS\n",
      "At line 24 BOUNDS\n",
      "At line 25 ENDATA\n",
      "Problem MODEL has 4 rows, 2 columns and 7 elements\n",
      "Coin0008I MODEL read with 0 errors\n",
      "Option for timeMode changed from cpu to elapsed\n",
      "Presolve 3 (-1) rows, 2 (0) columns and 6 (-1) elements\n",
      "0  Obj -0 Dual inf 8.999998 (2)\n",
      "2  Obj 21\n",
      "Optimal - objective value 21\n",
      "After Postsolve, objective 21, infeasibilities - dual 0 (0), primal 0 (0)\n",
      "Optimal objective 21 - 2 iterations time 0.002, Presolve 0.00\n",
      "Option for printingOptions changed from normal to all\n",
      "Total time (CPU seconds):       0.00   (Wallclock seconds):       0.01\n",
      "\n",
      "Number corn:  3.0\n",
      "Number prote:  1.5\n",
      "Total Profit:  21.0\n"
     ]
    }
   ],
   "source": [
    "problem.solve()\n",
    "print(\"Number corn: \", x1.varValue)\n",
    "print(\"Number prote: \", x2.varValue)\n",
    "print(\"Total Profit: \", pl.value(problem.objective))\n",
    "pl.cons"
   ]
  },
  {
   "cell_type": "code",
   "execution_count": 41,
   "metadata": {},
   "outputs": [],
   "source": [
    "model = pl.LpProblem(\"Training_Courses\",sense=pl.LpMinimize)\n",
    "#-------\n",
    "U_SK = pl.LpVariable('Unskilled to Skilled', lowBound=0, cat = pl.LpInteger)\n",
    "SSK_SK = pl.LpVariable('Semiskilled to Skilled', lowBound=0, cat = pl.LpInteger)\n",
    "U_SSK = pl.LpVariable('Unskilled to SemiSkilled', lowBound=0, cat = pl.LpInteger)\n",
    "#-------------\n"
   ]
  },
  {
   "cell_type": "code",
   "execution_count": 42,
   "metadata": {},
   "outputs": [],
   "source": [
    "model += 500*SSK_SK + 350*U_SSK + 850 * U_SK , 'Objective Function'\n",
    "#----------\n",
    "model += U_SK + U_SSK >= 390, '10% CONSTRAINT'\n",
    "model += U_SK + U_SSK + SSK_SK >= 1640, '40% CONSTRAINT'\n",
    "model += 850* U_SK + 350* U_SSK - 0.35*500*SSK_SK >= 0.35* (500*SSK_SK + 350*U_SSK + 850 * U_SK), '35% CONSTRAINT'\n",
    "model += U_SK + U_SSK <= 800, 'CEILING CONSTRAINT'\n",
    "#model += SSK_SK <= 2300, 'CEILING 2 CONSTRAINT'"
   ]
  },
  {
   "cell_type": "code",
   "execution_count": 38,
   "metadata": {},
   "outputs": [
    {
     "data": {
      "text/plain": [
       "Training_Courses:\n",
       "MINIMIZE\n",
       "500*Semiskilled_to_Skilled + 350*Unskilled_to_SemiSkilled + 850*Unskilled_to_Skilled + 0\n",
       "SUBJECT TO\n",
       "10%_CONSTRAINT: Unskilled_to_SemiSkilled + Unskilled_to_Skilled >= 390\n",
       "\n",
       "40%_CONSTRAINT: Semiskilled_to_Skilled + Unskilled_to_SemiSkilled\n",
       " + Unskilled_to_Skilled >= 1640\n",
       "\n",
       "35%_CONSTRAINT: - 350 Semiskilled_to_Skilled + 227.5 Unskilled_to_SemiSkilled\n",
       " + 552.5 Unskilled_to_Skilled >= 0\n",
       "\n",
       "CEILING_CONSTRAINT: Unskilled_to_SemiSkilled + Unskilled_to_Skilled <= 800\n",
       "\n",
       "CEILING_2_CONSTRAINT: Semiskilled_to_Skilled <= 2300\n",
       "\n",
       "VARIABLES\n",
       "0 <= Semiskilled_to_Skilled Integer\n",
       "0 <= Unskilled_to_SemiSkilled Integer\n",
       "0 <= Unskilled_to_Skilled Integer"
      ]
     },
     "execution_count": 38,
     "metadata": {},
     "output_type": "execute_result"
    }
   ],
   "source": [
    "model"
   ]
  },
  {
   "cell_type": "code",
   "execution_count": 43,
   "metadata": {},
   "outputs": [
    {
     "name": "stdout",
     "output_type": "stream",
     "text": [
      "Welcome to the CBC MILP Solver \n",
      "Version: 2.10.3 \n",
      "Build Date: Dec 15 2019 \n",
      "\n",
      "command line - /opt/homebrew/lib/python3.9/site-packages/pulp/apis/../solverdir/cbc/osx/64/cbc /var/folders/6c/vby383sn3xlg0j_c253f0sf40000gn/T/0770a5c7f1cb46ffae6dae80fa2a54f9-pulp.mps timeMode elapsed branch printingOptions all solution /var/folders/6c/vby383sn3xlg0j_c253f0sf40000gn/T/0770a5c7f1cb46ffae6dae80fa2a54f9-pulp.sol (default strategy 1)\n",
      "At line 2 NAME          MODEL\n",
      "At line 3 ROWS\n",
      "At line 9 COLUMNS\n",
      "At line 29 RHS\n",
      "At line 34 BOUNDS\n",
      "At line 38 ENDATA\n",
      "Problem MODEL has 4 rows, 3 columns and 10 elements\n",
      "Coin0008I MODEL read with 0 errors\n",
      "Option for timeMode changed from cpu to elapsed\n",
      "Continuous objective value is 872308 - 0.00 seconds\n",
      "Cgl0003I 0 fixed, 1 tightened bounds, 0 strengthened rows, 0 substitutions\n",
      "Cgl0004I processed model has 3 rows, 3 columns (3 integer (0 of which binary)) and 8 elements\n",
      "Cutoff increment increased from 1e-05 to 49.9999\n",
      "Cbc0012I Integer solution of 872500 found by DiveCoefficient after 0 iterations and 0 nodes (0.00 seconds)\n",
      "Cbc0031I 1 added rows had average density of 3\n",
      "Cbc0013I At root node, 1 cuts changed objective from 872307.69 to 872500 in 1 passes\n",
      "Cbc0014I Cut generator 0 (Probing) - 0 row cuts average 0.0 elements, 1 column cuts (1 active)  in 0.000 seconds - new frequency is 1\n",
      "Cbc0014I Cut generator 1 (Gomory) - 1 row cuts average 3.0 elements, 0 column cuts (0 active)  in 0.000 seconds - new frequency is 1\n",
      "Cbc0014I Cut generator 2 (Knapsack) - 0 row cuts average 0.0 elements, 0 column cuts (0 active)  in 0.000 seconds - new frequency is -100\n",
      "Cbc0014I Cut generator 3 (Clique) - 0 row cuts average 0.0 elements, 0 column cuts (0 active)  in 0.000 seconds - new frequency is -100\n",
      "Cbc0014I Cut generator 4 (MixedIntegerRounding2) - 0 row cuts average 0.0 elements, 0 column cuts (0 active)  in 0.000 seconds - new frequency is -100\n",
      "Cbc0014I Cut generator 5 (FlowCover) - 0 row cuts average 0.0 elements, 0 column cuts (0 active)  in 0.000 seconds - new frequency is -100\n",
      "Cbc0001I Search completed - best objective 872500, took 0 iterations and 0 nodes (0.00 seconds)\n",
      "Cbc0035I Maximum depth 0, 0 variables fixed on reduced cost\n",
      "Cuts at root node changed objective from 872308 to 872500\n",
      "Probing was tried 1 times and created 1 cuts of which 0 were active after adding rounds of cuts (0.000 seconds)\n",
      "Gomory was tried 1 times and created 1 cuts of which 0 were active after adding rounds of cuts (0.000 seconds)\n",
      "Knapsack was tried 1 times and created 0 cuts of which 0 were active after adding rounds of cuts (0.000 seconds)\n",
      "Clique was tried 1 times and created 0 cuts of which 0 were active after adding rounds of cuts (0.000 seconds)\n",
      "MixedIntegerRounding2 was tried 1 times and created 0 cuts of which 0 were active after adding rounds of cuts (0.000 seconds)\n",
      "FlowCover was tried 1 times and created 0 cuts of which 0 were active after adding rounds of cuts (0.000 seconds)\n",
      "TwoMirCuts was tried 1 times and created 0 cuts of which 0 were active after adding rounds of cuts (0.000 seconds)\n",
      "ZeroHalf was tried 1 times and created 0 cuts of which 0 were active after adding rounds of cuts (0.000 seconds)\n",
      "\n",
      "Result - Optimal solution found\n",
      "\n",
      "Objective value:                872500.00000000\n",
      "Enumerated nodes:               0\n",
      "Total iterations:               0\n",
      "Time (CPU seconds):             0.00\n",
      "Time (Wallclock seconds):       0.01\n",
      "\n",
      "Option for printingOptions changed from normal to all\n",
      "Total time (CPU seconds):       0.01   (Wallclock seconds):       0.01\n",
      "\n",
      "Number unskilled skilled:  345.0\n",
      "Number unskilled semi :  455.0\n",
      "Number semi to skilled:  840.0\n",
      "Total Cost:  872500.0\n"
     ]
    }
   ],
   "source": [
    "model.solve()\n",
    "print(\"Number unskilled skilled: \", U_SK.varValue)\n",
    "print(\"Number unskilled semi : \", U_SSK.varValue)\n",
    "print(\"Number semi to skilled: \", SSK_SK.varValue)\n",
    "\n",
    "print(\"Total Cost: \", pl.value(model.objective))"
   ]
  },
  {
   "cell_type": "code",
   "execution_count": 45,
   "metadata": {},
   "outputs": [
    {
     "name": "stdout",
     "output_type": "stream",
     "text": [
      "Welcome to the CBC MILP Solver \n",
      "Version: 2.10.3 \n",
      "Build Date: Dec 15 2019 \n",
      "\n",
      "command line - /opt/homebrew/lib/python3.9/site-packages/pulp/apis/../solverdir/cbc/osx/64/cbc /var/folders/6c/vby383sn3xlg0j_c253f0sf40000gn/T/2315aea22bb94b1ca3babd3892ea8bb9-pulp.mps timeMode elapsed branch printingOptions all solution /var/folders/6c/vby383sn3xlg0j_c253f0sf40000gn/T/2315aea22bb94b1ca3babd3892ea8bb9-pulp.sol (default strategy 1)\n",
      "At line 2 NAME          MODEL\n",
      "At line 3 ROWS\n",
      "At line 8 COLUMNS\n",
      "At line 27 RHS\n",
      "At line 31 BOUNDS\n",
      "At line 35 ENDATA\n",
      "Problem MODEL has 3 rows, 3 columns and 9 elements\n",
      "Coin0008I MODEL read with 0 errors\n",
      "Option for timeMode changed from cpu to elapsed\n",
      "Continuous objective value is 120.857 - 0.00 seconds\n",
      "Cgl0003I 0 fixed, 3 tightened bounds, 0 strengthened rows, 0 substitutions\n",
      "Cgl0004I processed model has 3 rows, 3 columns (3 integer (0 of which binary)) and 9 elements\n",
      "Cutoff increment increased from 1e-05 to 5.9999\n",
      "Cbc0012I Integer solution of 186 found by greedy cover after 0 iterations and 0 nodes (0.01 seconds)\n",
      "Cbc0012I Integer solution of 174 found by DiveCoefficient after 0 iterations and 0 nodes (0.01 seconds)\n",
      "Cbc0038I Full problem 3 rows 3 columns, reduced to 3 rows 2 columns\n",
      "Cbc0012I Integer solution of 132 found by DiveCoefficient after 4 iterations and 0 nodes (0.01 seconds)\n",
      "Cbc0031I 2 added rows had average density of 3\n",
      "Cbc0013I At root node, 2 cuts changed objective from 120.85714 to 132 in 5 passes\n",
      "Cbc0014I Cut generator 0 (Probing) - 0 row cuts average 0.0 elements, 3 column cuts (3 active)  in 0.000 seconds - new frequency is 1\n",
      "Cbc0014I Cut generator 1 (Gomory) - 6 row cuts average 3.0 elements, 0 column cuts (0 active)  in 0.000 seconds - new frequency is 1\n",
      "Cbc0014I Cut generator 2 (Knapsack) - 0 row cuts average 0.0 elements, 0 column cuts (0 active)  in 0.000 seconds - new frequency is -100\n",
      "Cbc0014I Cut generator 3 (Clique) - 0 row cuts average 0.0 elements, 0 column cuts (0 active)  in 0.000 seconds - new frequency is -100\n",
      "Cbc0014I Cut generator 4 (MixedIntegerRounding2) - 0 row cuts average 0.0 elements, 0 column cuts (0 active)  in 0.000 seconds - new frequency is -100\n",
      "Cbc0014I Cut generator 5 (FlowCover) - 0 row cuts average 0.0 elements, 0 column cuts (0 active)  in 0.000 seconds - new frequency is -100\n",
      "Cbc0001I Search completed - best objective 132, took 4 iterations and 0 nodes (0.01 seconds)\n",
      "Cbc0035I Maximum depth 0, 0 variables fixed on reduced cost\n",
      "Cuts at root node changed objective from 120.857 to 132\n",
      "Probing was tried 5 times and created 3 cuts of which 0 were active after adding rounds of cuts (0.000 seconds)\n",
      "Gomory was tried 5 times and created 6 cuts of which 0 were active after adding rounds of cuts (0.000 seconds)\n",
      "Knapsack was tried 5 times and created 0 cuts of which 0 were active after adding rounds of cuts (0.000 seconds)\n",
      "Clique was tried 5 times and created 0 cuts of which 0 were active after adding rounds of cuts (0.000 seconds)\n",
      "MixedIntegerRounding2 was tried 5 times and created 0 cuts of which 0 were active after adding rounds of cuts (0.000 seconds)\n",
      "FlowCover was tried 5 times and created 0 cuts of which 0 were active after adding rounds of cuts (0.000 seconds)\n",
      "TwoMirCuts was tried 1 times and created 0 cuts of which 0 were active after adding rounds of cuts (0.000 seconds)\n",
      "ZeroHalf was tried 1 times and created 0 cuts of which 0 were active after adding rounds of cuts (0.000 seconds)\n",
      "\n",
      "Result - Optimal solution found\n",
      "\n",
      "Objective value:                132.00000000\n",
      "Enumerated nodes:               0\n",
      "Total iterations:               4\n",
      "Time (CPU seconds):             0.01\n",
      "Time (Wallclock seconds):       0.01\n",
      "\n",
      "Option for printingOptions changed from normal to all\n",
      "Total time (CPU seconds):       0.01   (Wallclock seconds):       0.02\n",
      "\n",
      "Number corn:  1.0\n",
      "Number tank :  0.0\n",
      "Number alfa  3.0\n",
      "Total Cost:  132.0\n"
     ]
    }
   ],
   "source": [
    "model = pl.LpProblem('Pig', sense=pl.LpMinimize)\n",
    "corn = pl.LpVariable('Kilo Of Corn', lowBound=0, cat = pl.LpInteger)\n",
    "tank = pl.LpVariable('Kilo Of Tankage', lowBound=0, cat = pl.LpInteger)\n",
    "alfa = pl.LpVariable('Kilo of alfafa', lowBound=0, cat = pl.LpInteger)\n",
    "#-------------\n",
    "model += 42*corn + 36 * tank + 30 * alfa, 'Pbjective'\n",
    "model += 90*corn + 20 * tank + 40 * alfa >= 200 ,'carb'\n",
    "model += 30*corn + 80 * tank + 60 * alfa >= 180, 'prot'\n",
    "model += 10*corn + 20 * tank + 60 * alfa >= 150, 'vit'\n",
    "model.solve()\n",
    "print(\"Number corn: \", corn.varValue)\n",
    "print(\"Number tank : \", tank.varValue)\n",
    "print(\"Number alfa \", alfa.varValue)\n",
    "\n",
    "print(\"Total Cost: \", pl.value(model.objective))"
   ]
  },
  {
   "cell_type": "code",
   "execution_count": 48,
   "metadata": {},
   "outputs": [
    {
     "name": "stdout",
     "output_type": "stream",
     "text": [
      "('a1', 3)\n"
     ]
    }
   ],
   "source": [
    "x = 'a1'\n",
    "b = 3\n",
    "print(f'{x, b}')\n"
   ]
  },
  {
   "cell_type": "code",
   "execution_count": 47,
   "metadata": {},
   "outputs": [
    {
     "data": {
      "text/html": [
       "<div>\n",
       "<style scoped>\n",
       "    .dataframe tbody tr th:only-of-type {\n",
       "        vertical-align: middle;\n",
       "    }\n",
       "\n",
       "    .dataframe tbody tr th {\n",
       "        vertical-align: top;\n",
       "    }\n",
       "\n",
       "    .dataframe thead th {\n",
       "        text-align: right;\n",
       "    }\n",
       "</style>\n",
       "<table border=\"1\" class=\"dataframe\">\n",
       "  <thead>\n",
       "    <tr style=\"text-align: right;\">\n",
       "      <th></th>\n",
       "      <th>Avail (Kg)</th>\n",
       "      <th>Cost Per K</th>\n",
       "    </tr>\n",
       "    <tr>\n",
       "      <th>Thread</th>\n",
       "      <th></th>\n",
       "      <th></th>\n",
       "    </tr>\n",
       "  </thead>\n",
       "  <tbody>\n",
       "    <tr>\n",
       "      <th>Cotton</th>\n",
       "      <td>2000</td>\n",
       "      <td>700</td>\n",
       "    </tr>\n",
       "    <tr>\n",
       "      <th>Wool</th>\n",
       "      <td>2500</td>\n",
       "      <td>500</td>\n",
       "    </tr>\n",
       "    <tr>\n",
       "      <th>Fiber</th>\n",
       "      <td>1200</td>\n",
       "      <td>400</td>\n",
       "    </tr>\n",
       "  </tbody>\n",
       "</table>\n",
       "</div>"
      ],
      "text/plain": [
       "        Avail (Kg)  Cost Per K\n",
       "Thread                        \n",
       "Cotton        2000         700\n",
       "Wool          2500         500\n",
       "Fiber         1200         400"
      ]
     },
     "execution_count": 47,
     "metadata": {},
     "output_type": "execute_result"
    }
   ],
   "source": [
    "model = pl.LpProblem('Pig', sense=pl.LpMaximize)\n",
    "A1 = pl.LpVariable('a1', lowBound=0, cat = pl.LpContinuous)\n",
    "B1 = pl.LpVariable('b1', lowBound=0, cat = pl.LpContinuous)\n",
    "R1 = pl.LpVariable('r1', lowBound=0, cat = pl.LpContinuous)\n",
    "A2 = pl.LpVariable('a2', lowBound=0, cat = pl.LpContinuous)\n",
    "B2 = pl.LpVariable('b2', lowBound=0, cat = pl.LpContinuous)\n",
    "R2 = pl.LpVariable('r2', lowBound=0, cat = pl.LpContinuous)\n",
    "C2 = pl.LpVariable('c2', lowBound=0, cat = pl.LpContinuous)\n",
    "A3 = pl.LpVariable('a3', lowBound=0, cat = pl.LpContinuous)\n",
    "B3 = pl.LpVariable('b3', lowBound=0, cat = pl.LpContinuous)\n",
    "R3 = pl.LpVariable('r3', lowBound=0, cat = pl.LpContinuous)\n",
    "A4 = pl.LpVariable('a4', lowBound=0, cat = pl.LpContinuous)\n",
    "R4 = pl.LpVariable('r4', lowBound=0, cat = pl.LpContinuous)\n",
    "D5 = pl.LpVariable('d5', lowBound=0, cat = pl.LpContinuous)\n",
    "R5 = pl.LpVariable('r5', lowBound=0, cat = pl.LpContinuous)\n",
    "\n",
    "#-------------\n",
    "model += 42*corn + 36 * tank + 30 * alfa, 'Pbjective'\n",
    "model += 90*corn + 20 * tank + 40 * alfa >= 200 ,'carb'\n",
    "model += 30*corn + 80 * tank + 60 * alfa >= 180, 'prot'\n",
    "model += 10*corn + 20 * tank + 60 * alfa >= 150, 'vit'\n",
    "model.solve()\n",
    "print(\"Number corn: \", corn.varValue)\n",
    "print(\"Number tank : \", tank.varValue)\n",
    "print(\"Number alfa \", alfa.varValue)\n",
    "\n",
    "print(\"Total Cost: \", pl.value(model.objective))\n"
   ]
  },
  {
   "cell_type": "markdown",
   "metadata": {},
   "source": [
    "## Dualitiy and Sensitivity Analysis\n",
    "### Duality\n",
    "##### Primal:\n",
    "- Max Z: $5x_1+4x_2$\n",
    "ST:\n",
    "  - $6x_1+4x_2 \\le 24$\n",
    "  - $x_1+2x_2 \\le 6$\n",
    "  - $-x_1+x_2 \\le 1$\n",
    "  - $x_2 \\le 2$\n",
    "  - $x_1, x_2 \\ge 0$\n",
    "##### Dual:\n",
    "- Min W : $24y_1+6y_2+y_3+2y_4$\n",
    "ST:\n",
    "- $6y_1+y_2-y_3 \\ge 5$\n",
    "- $4y_1+2y_2+y_3+y_4 \\ge 4$\n",
    "- $y_1, y_2, y_3,y_4 \\ge 0$\n",
    "\n",
    "Rules for Defining Dual:\n",
    "1. Max -> Min\n",
    "2. ith constraint type $\\le$ -> $y_i\\ge$\n",
    "3. ith constraint type $\\ge$ -> $y_i\\le$\n",
    "4. ith constraint type $=$ -> $y_i$ free\n",
    "5. RHS -> OF; OF -> RHS\n",
    "6. $x_i \\ge 0$ -> jth constraint type $\\ge$\n",
    "7. $x_i \\le 0$ -> jth constraint type $\\le$\n",
    "8. $x_i$ free -> jth constraint type $=$\n",
    "\n",
    "The i-th shadow price (optimal value of yi) represents the proportion of\n",
    "change in the optimal value of the primal due to an increase in the i-th right\n",
    "hand side"
   ]
  },
  {
   "cell_type": "code",
   "execution_count": 7,
   "metadata": {},
   "outputs": [
    {
     "name": "stdout",
     "output_type": "stream",
     "text": [
      "[0.75 0.5 ]\n"
     ]
    }
   ],
   "source": [
    "import numpy as np\n",
    "A = [[6, 1], [4, 2]]\n",
    "Y = [5, 4]\n",
    "res = np.linalg.inv(A).dot(Y)\n",
    "print(res)\n"
   ]
  },
  {
   "cell_type": "code",
   "execution_count": 9,
   "metadata": {},
   "outputs": [
    {
     "name": "stdout",
     "output_type": "stream",
     "text": [
      "Welcome to the CBC MILP Solver \n",
      "Version: 2.10.3 \n",
      "Build Date: Dec 15 2019 \n",
      "\n",
      "command line - /opt/homebrew/lib/python3.9/site-packages/pulp/apis/../solverdir/cbc/osx/64/cbc /var/folders/6c/vby383sn3xlg0j_c253f0sf40000gn/T/c75ee92033ca4ea386e1958ba5b90c49-pulp.mps max timeMode elapsed branch printingOptions all solution /var/folders/6c/vby383sn3xlg0j_c253f0sf40000gn/T/c75ee92033ca4ea386e1958ba5b90c49-pulp.sol (default strategy 1)\n",
      "At line 2 NAME          MODEL\n",
      "At line 3 ROWS\n",
      "At line 9 COLUMNS\n",
      "At line 19 RHS\n",
      "At line 24 BOUNDS\n",
      "At line 25 ENDATA\n",
      "Problem MODEL has 4 rows, 2 columns and 7 elements\n",
      "Coin0008I MODEL read with 0 errors\n",
      "Option for timeMode changed from cpu to elapsed\n",
      "Presolve 3 (-1) rows, 2 (0) columns and 6 (-1) elements\n",
      "0  Obj -0 Dual inf 8.999998 (2)\n",
      "2  Obj 21\n",
      "Optimal - objective value 21\n",
      "After Postsolve, objective 21, infeasibilities - dual 0 (0), primal 0 (0)\n",
      "Optimal objective 21 - 2 iterations time 0.002, Presolve 0.00\n",
      "Option for printingOptions changed from normal to all\n",
      "Total time (CPU seconds):       0.00   (Wallclock seconds):       0.00\n",
      "\n",
      "Model Status: Optimal\n",
      "Jumbo_production = 1.5\n",
      "Regular_production = 3.0\n",
      "For Loop Ends here\n",
      "Objective = $ 21.0\n",
      "  name  shadow price  slack\n",
      "0  _C1          0.75   -0.0\n",
      "1  _C2          0.50   -0.0\n",
      "2  _C3         -0.00    2.5\n",
      "3  _C4         -0.00    0.5\n"
     ]
    },
    {
     "name": "stderr",
     "output_type": "stream",
     "text": [
      "/opt/homebrew/lib/python3.9/site-packages/pulp/pulp.py:1352: UserWarning: Spaces are not permitted in the name. Converted to '_'\n",
      "  warnings.warn(\"Spaces are not permitted in the name. Converted to '_'\")\n"
     ]
    }
   ],
   "source": [
    "# Define Constraints, Solve, Print Status, Variables, Objective\n",
    "model = pl.LpProblem(\"Maximize Bakery Profits\", pl.LpMaximize)\n",
    "X_1 = pl.LpVariable('Regular_production', lowBound=0, cat='Continuous')\n",
    "X_2 = pl.LpVariable('Jumbo_production', lowBound=0, cat='Continuous')\n",
    "model += 5 * X_1 + 4 * X_2, \"Profit\"\n",
    "\n",
    "# Adjust the constraint\n",
    "model += 6 * X_1 + 4 * X_2 <= 24\n",
    "model += 1 * X_1 + 2 * X_2 <= 6\n",
    "model += -1 * X_1 + 1 * X_2 <= 1\n",
    "model +=  1 * X_2 <= 2\n",
    "\n",
    "# Solve Model, Print Status, Variables, Objective, Shadow and Slack\n",
    "model.solve()\n",
    "print(\"Model Status: {}\".format(pl.LpStatus[model.status]))\n",
    "for v in model.variables():\n",
    "    print(v.name, \"=\", v.varValue)\n",
    "model.coefficients\n",
    "print(\"Objective = $\", pl.value(model.objective))\n",
    "o = [{'name':name, 'shadow price':c.pi, 'slack': c.slack} \n",
    "     for name, c in model.constraints.items()]\n",
    "\n",
    "print(pd.DataFrame(o))"
   ]
  },
  {
   "cell_type": "code",
   "execution_count": 19,
   "metadata": {},
   "outputs": [
    {
     "name": "stdout",
     "output_type": "stream",
     "text": [
      "3.0\n",
      "1.5\n"
     ]
    }
   ],
   "source": [
    "print(X_1.varValue)\n",
    "print(X_2.varValue)"
   ]
  },
  {
   "cell_type": "markdown",
   "metadata": {},
   "source": [
    "### Some Example Problems\n",
    "[W] Giapetto’s Woodcarving, Inc., manufactures two types of wooden toys: soldiers and trains. A soldier sells for 27 and uses 10 worth of raw materials. Each soldier that is manufactured increases Giapetto’s variable labor and overhead costs by 14. A train sells for 21 and uses 9 worth of raw materials. Each train build increases Giapetto’s variable labor and overhead costs by 10. The manufacture of wooden soldiers and trains requires two types of skilled labor: carpentry and finishing. A soldier requires 2 hours of finishing labor and 1 hour of carpentry labor. A train requires 1 hour of finishing and 1 hour of carpentry labor. Each week, Giapetto can obtain all the needed raw material but only 100 finishing hours and 80 carpentry hours. Demand for trains is unlimited, but at most 40 soldiers are bought each week. Giapetto wants to maximize weekly profit (revenues - costs).\n"
   ]
  },
  {
   "cell_type": "code",
   "execution_count": 7,
   "metadata": {},
   "outputs": [
    {
     "name": "stdout",
     "output_type": "stream",
     "text": [
      "Welcome to the CBC MILP Solver \n",
      "Version: 2.10.3 \n",
      "Build Date: Dec 15 2019 \n",
      "\n",
      "command line - /opt/homebrew/lib/python3.9/site-packages/pulp/apis/../solverdir/cbc/osx/64/cbc /var/folders/6c/vby383sn3xlg0j_c253f0sf40000gn/T/4c2796bf4eae407381118e0857c7a244-pulp.mps max timeMode elapsed branch printingOptions all solution /var/folders/6c/vby383sn3xlg0j_c253f0sf40000gn/T/4c2796bf4eae407381118e0857c7a244-pulp.sol (default strategy 1)\n",
      "At line 2 NAME          MODEL\n",
      "At line 3 ROWS\n",
      "At line 8 COLUMNS\n",
      "At line 16 RHS\n",
      "At line 20 BOUNDS\n",
      "At line 21 ENDATA\n",
      "Problem MODEL has 3 rows, 2 columns and 5 elements\n",
      "Coin0008I MODEL read with 0 errors\n",
      "Option for timeMode changed from cpu to elapsed\n",
      "Presolve 2 (-1) rows, 2 (0) columns and 4 (-1) elements\n",
      "0  Obj -0 Dual inf 4.999998 (2)\n",
      "2  Obj 180\n",
      "Optimal - objective value 180\n",
      "After Postsolve, objective 180, infeasibilities - dual 0 (0), primal 0 (0)\n",
      "Optimal objective 180 - 2 iterations time 0.002, Presolve 0.00\n",
      "Option for printingOptions changed from normal to all\n",
      "Total time (CPU seconds):       0.00   (Wallclock seconds):       0.00\n",
      "\n",
      "Solder_production = 20.0\n",
      "Train_production = 60.0\n",
      "Objective = $ 180.0\n",
      "                   name  shadow price  slack\n",
      "0    Finishg_constraint           1.0   -0.0\n",
      "1  Carpentry_Constraint           1.0   -0.0\n",
      "2     ATMOST_CONSTRAINT          -0.0   60.0\n",
      "20.0\n",
      "60.0\n"
     ]
    },
    {
     "name": "stderr",
     "output_type": "stream",
     "text": [
      "/opt/homebrew/lib/python3.9/site-packages/pulp/pulp.py:1352: UserWarning: Spaces are not permitted in the name. Converted to '_'\n",
      "  warnings.warn(\"Spaces are not permitted in the name. Converted to '_'\")\n"
     ]
    }
   ],
   "source": [
    "# Define Constraints, Solve, Print Status, Variables, Objective\n",
    "model_gep = pl.LpProblem(\"Maximize Toy Profits\", pl.LpMaximize)\n",
    "S_1 = pl.LpVariable('Solder_production', lowBound=0, cat='Continuous')\n",
    "T_2 = pl.LpVariable('Train_production', lowBound=0, cat='Continuous')\n",
    "model_gep += 3 * S_1 + 2 * T_2, \"Profit\"\n",
    "\n",
    "# Adjust the constraint\n",
    "model_gep += 2 * S_1 + 1 * T_2 <= 100, 'Finishg constraint'\n",
    "model_gep += 1 * S_1 + 1 * T_2 <= 80 , 'Carpentry Constraint'\n",
    "model_gep += -1 * S_1 <= 40, 'ATMOST CONSTRAINT'\n",
    "\n",
    "# Solve Model, Print Status, Variables, Objective, Shadow and Slack\n",
    "model_gep.solve()\n",
    "for v in model_gep.variables():\n",
    "    print(v.name, \"=\", v.varValue)\n",
    "model_gep.coefficients\n",
    "print(\"Objective = $\", pl.value(model_gep.objective))\n",
    "o = [{'name':name, 'shadow price':c.pi, 'slack': c.slack} \n",
    "     for name, c in model_gep.constraints.items()]\n",
    "\n",
    "print(pd.DataFrame(o))\n",
    "print(S_1.varValue)\n",
    "print(T_2.varValue)\n"
   ]
  },
  {
   "cell_type": "markdown",
   "metadata": {},
   "source": [
    "## Economic Interpretation\n",
    "Activity Analysis:\n",
    "- n activities with m resources\n",
    "- Z: profit with n activities\n",
    "- $x_j$ level of activity j = (1,2...n)\n",
    "- $c_j$ unit profit of activity j\n",
    "- $b_i$ availability of resources i - (1,2...m)\n",
    "- $a_{ij}$ quantity of resource i spent per unit of acitivity j\n",
    "\n",
    "Z = Max Z = $\\sum_{j=1}^n c_jx_j$\n",
    "- $\\sum_{j=1}^n a_{ij}x_j \\le b_i$\n",
    "\n",
    "- Shadow price of resource $y_i$ is the marginal value of this resource, the proportion of variation in the optimal profit $Z^*$ if the available quantity of resource i ($b_i$) is increased **slightly**\n",
    "- If optimal solution exists, then $b_iy_i$ is the contribution to the profit Z of the $b_i$ units of resource i \n",
    "- If resource i changed by $\\triangle b_i$ then new optimal value is :\n",
    "  - $\\bar{Z}$ = $b_1y_1 + ... \n"
   ]
  },
  {
   "cell_type": "code",
   "execution_count": 8,
   "metadata": {},
   "outputs": [
    {
     "name": "stdout",
     "output_type": "stream",
     "text": [
      "Welcome to the CBC MILP Solver \n",
      "Version: 2.10.3 \n",
      "Build Date: Dec 15 2019 \n",
      "\n",
      "command line - /opt/homebrew/lib/python3.10/site-packages/pulp/apis/../solverdir/cbc/osx/64/cbc /var/folders/6c/vby383sn3xlg0j_c253f0sf40000gn/T/4be9f40d242749bc97845deb4fd9e533-pulp.mps max timeMode elapsed branch printingOptions all solution /var/folders/6c/vby383sn3xlg0j_c253f0sf40000gn/T/4be9f40d242749bc97845deb4fd9e533-pulp.sol (default strategy 1)\n",
      "At line 2 NAME          MODEL\n",
      "At line 3 ROWS\n",
      "At line 14 COLUMNS\n",
      "At line 47 RHS\n",
      "At line 57 BOUNDS\n",
      "At line 58 ENDATA\n",
      "Problem MODEL has 9 rows, 13 columns and 28 elements\n",
      "Coin0008I MODEL read with 0 errors\n",
      "Option for timeMode changed from cpu to elapsed\n",
      "Presolve 7 (-2) rows, 11 (-2) columns and 24 (-4) elements\n",
      "0  Obj -0 Primal inf 1870.036 (7) Dual inf 4.1920081 (3)\n",
      "10  Obj 827.14286\n",
      "Optimal - objective value 827.14286\n",
      "After Postsolve, objective 827.14286, infeasibilities - dual 0 (0), primal 0 (0)\n",
      "Optimal objective 827.1428571 - 10 iterations time 0.002, Presolve 0.00\n",
      "Option for printingOptions changed from normal to all\n",
      "Total time (CPU seconds):       0.00   (Wallclock seconds):       0.00\n",
      "\n",
      "142.85714\n",
      "0.0\n",
      "0.0\n",
      "357.14286\n",
      "0.0\n",
      "200.0\n"
     ]
    },
    {
     "name": "stderr",
     "output_type": "stream",
     "text": [
      "/opt/homebrew/lib/python3.10/site-packages/pulp/pulp.py:1352: UserWarning: Spaces are not permitted in the name. Converted to '_'\n",
      "  warnings.warn(\"Spaces are not permitted in the name. Converted to '_'\")\n"
     ]
    }
   ],
   "source": [
    "# Define Constraints, Solve, Print Status, Variables, Objective\n",
    "model_assignment = pl.LpProblem(\"Maximize Returns\", pl.LpMaximize)\n",
    "A_1 = pl.LpVariable('Investment A Year 1', lowBound=0, cat='Continuous')\n",
    "A_2 = pl.LpVariable('Investment A Year 2', lowBound=0, cat='Continuous')\n",
    "A_3 = pl.LpVariable('Investment A Year 3', lowBound=0, cat='Continuous')\n",
    "B_2 = pl.LpVariable('Investment B Year 2', lowBound=0, cat='Continuous')\n",
    "C_5 = pl.LpVariable('Investment C Year 5', lowBound=0, cat='Continuous')\n",
    "C_6 = pl.LpVariable('Investment C Year 6', lowBound=0, cat='Continuous')\n",
    "L_4 = pl.LpVariable('Loan Year 4', lowBound=0, cat='Continuous')\n",
    "#-------------\n",
    "R_1 = pl.LpVariable('Remaining Amount Year 1', lowBound=0, cat='Continuous')\n",
    "R_2 = pl.LpVariable('Remaining Amount Year 2', lowBound=0, cat='Continuous')\n",
    "R_3 = pl.LpVariable('Remaining Amount Year 3', lowBound=0, cat='Continuous')\n",
    "R_4 = pl.LpVariable('Remaining Amount Year 4', lowBound=0, cat='Continuous')\n",
    "R_5 = pl.LpVariable('Remaining Amount Year 5', lowBound=0, cat='Continuous')\n",
    "R_6 = pl.LpVariable('Remaining Amount Year 6', lowBound=0, cat='Continuous')\n",
    "\n",
    "model_assignment += R_6 + 1.4* A_3 + 1.7 * B_2 + 1.1 * + C_6, \"Profit\"\n",
    "\n",
    "# Adjust the constraint\n",
    "model_assignment += R_1 + A_1 == 400, 'R1 constraint'\n",
    "model_assignment += R_2 + A_2 + B_2 -R_1 == 200, 'R2 constraint'\n",
    "model_assignment += R_3 + A_3 - R_2 == 100, 'R3 constraint'\n",
    "model_assignment += R_4 - L_4 - R_3 == -200, 'R4 constraint'\n",
    "model_assignment += R_5 - 1.4 * A_1 + C_5 + 0.3 * L_4  - R_4 == -200, 'R5 constraint'\n",
    "model_assignment += R_6 - 1.4 * A_2 + C_6 + 1.3 * L_4  - R_5 - 1.1 * C_5 == 200, 'R6 constraint'\n",
    "model_assignment += R_3 + L_4 >= 200, 'CASH FLOW 1'\n",
    "model_assignment += R_4 + 1.4* A_1 >= 200, 'CASH FLOW 2'\n",
    "model_assignment += L_4 <= 250, 'LOAN CONSTRAINT'\n",
    "\n",
    "\n",
    "# Solve Model, Print Status, Variables, Objective, Shadow and Slack\n",
    "model_assignment.solve()\n",
    "print(A_1.varValue)\n",
    "print(A_2.varValue)\n",
    "print(A_3.varValue)\n",
    "print(B_2.varValue)\n",
    "print(C_5.varValue)\n",
    "print(C_6.varValue)"
   ]
  },
  {
   "cell_type": "code",
   "execution_count": 9,
   "metadata": {},
   "outputs": [
    {
     "name": "stdout",
     "output_type": "stream",
     "text": [
      "142.85714\n",
      "0.0\n",
      "0.0\n",
      "357.14286\n",
      "0.0\n",
      "200.0\n",
      "0.0\n"
     ]
    }
   ],
   "source": [
    "print(A_1.varValue)\n",
    "print(A_2.varValue)\n",
    "print(A_3.varValue)\n",
    "print(B_2.varValue)\n",
    "print(C_5.varValue)\n",
    "print(C_6.varValue)\n",
    "print(R_6.varValue)\n"
   ]
  },
  {
   "cell_type": "code",
   "execution_count": null,
   "metadata": {},
   "outputs": [],
   "source": []
  }
 ],
 "metadata": {
  "kernelspec": {
   "display_name": "Python 3.9.13 64-bit",
   "language": "python",
   "name": "python3"
  },
  "language_info": {
   "codemirror_mode": {
    "name": "ipython",
    "version": 3
   },
   "file_extension": ".py",
   "mimetype": "text/x-python",
   "name": "python",
   "nbconvert_exporter": "python",
   "pygments_lexer": "ipython3",
   "version": "3.10.7"
  },
  "orig_nbformat": 4,
  "vscode": {
   "interpreter": {
    "hash": "b0fa6594d8f4cbf19f97940f81e996739fb7646882a419484c72d19e05852a7e"
   }
  }
 },
 "nbformat": 4,
 "nbformat_minor": 2
}
