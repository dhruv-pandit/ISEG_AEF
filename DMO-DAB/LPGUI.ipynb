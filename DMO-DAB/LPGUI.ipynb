{
 "cells": [
  {
   "cell_type": "code",
   "execution_count": 1,
   "metadata": {},
   "outputs": [],
   "source": [
    "import pulp as pl\n",
    "import pandas as pd\n",
    "import PySimpleGUI as sg\n"
   ]
  },
  {
   "cell_type": "code",
   "execution_count": 6,
   "metadata": {},
   "outputs": [
    {
     "name": "stdout",
     "output_type": "stream",
     "text": [
      "{'MAX': True, 'MIN': False}\n",
      "{'MAX': None, 'MIN': None}\n",
      "Hello World\n"
     ]
    },
    {
     "ename": "",
     "evalue": "",
     "output_type": "error",
     "traceback": [
      "\u001b[1;31mThe Kernel crashed while executing code in the the current cell or a previous cell. Please review the code in the cell(s) to identify a possible cause of the failure. Click <a href='https://aka.ms/vscodeJupyterKernelCrash'>here</a> for more info. View Jupyter <a href='command:jupyter.viewOutput'>log</a> for further details."
     ]
    }
   ],
   "source": [
    "def createInitialwindow():\n",
    "    layout = [[sg.T(\"\")],[sg.T(\"        \"), sg.Button('Hello World',size=(20,4))], [sg.T(\"\")],\n",
    "          [sg.T(\"                   \"), sg.Checkbox('MAX', default=False, key=\"MAX\"),sg.Checkbox('MIN:', default=False, key=\"MIN\") ]]\n",
    "\n",
    "    ###Setting Window\n",
    "    window = sg.Window('Push my Buttons', layout, size=(300,200))\n",
    "    return window\n",
    "###Showing the Application, also GUI functions can be placed here.\n",
    "def nextwindow():\n",
    "    layout = [[sg.T(\"\")],[sg.T(\"        \"), sg.Button('Hello World',size=(20,4))], [sg.T(\"\")],\n",
    "          [sg.T(\"                   \"), sg.Checkbox('MAX', default=False, key=\"MAX\"),sg.Checkbox('MIN:', default=False, key=\"MIN\") ]]\n",
    "\n",
    "    ###Setting Window\n",
    "    window = sg.Window('Push my Buttons', layout, size=(300,200))\n",
    "    return window\n",
    "def main(window):\n",
    "    while True:\n",
    "        event, values = window.read()\n",
    "        print(values)\n",
    "        \n",
    "        if event == sg.WIN_CLOSED or event==\"Exit\":\n",
    "            break\n",
    "\n",
    "        elif values[\"MAX\"] == True:\n",
    "            main(nextwindow())\n",
    "            print(\"Hello World\")\n",
    "            break\n",
    "        \n",
    "    window.close()\n",
    "\n",
    "main(createInitialwindow())"
   ]
  }
 ],
 "metadata": {
  "kernelspec": {
   "display_name": "Python 3.10.7 64-bit",
   "language": "python",
   "name": "python3"
  },
  "language_info": {
   "codemirror_mode": {
    "name": "ipython",
    "version": 3
   },
   "file_extension": ".py",
   "mimetype": "text/x-python",
   "name": "python",
   "nbconvert_exporter": "python",
   "pygments_lexer": "ipython3",
   "version": "3.10.7"
  },
  "orig_nbformat": 4,
  "vscode": {
   "interpreter": {
    "hash": "b0fa6594d8f4cbf19f97940f81e996739fb7646882a419484c72d19e05852a7e"
   }
  }
 },
 "nbformat": 4,
 "nbformat_minor": 2
}
